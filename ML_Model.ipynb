{
 "cells": [
  {
   "cell_type": "code",
   "execution_count": 1,
   "metadata": {},
   "outputs": [],
   "source": [
    "import numpy as np\n",
    "import matplotlib.pyplot as plt\n",
    "import pandas as pd\n",
    "%matplotlib inline\n",
    "from sklearn.model_selection import train_test_split\n",
    "import torch\n",
    "import torch.nn as nn\n",
    "import torch.nn.functional as fun"
   ]
  },
  {
   "cell_type": "markdown",
   "metadata": {},
   "source": [
    "# Read Data and Process Data"
   ]
  },
  {
   "cell_type": "code",
   "execution_count": 2,
   "metadata": {},
   "outputs": [],
   "source": [
    "ca_whole = pd.read_csv('ca_whole.csv')"
   ]
  },
  {
   "cell_type": "code",
   "execution_count": 3,
   "metadata": {},
   "outputs": [],
   "source": [
    "# Drop Outlier\n",
    "max_aqi = np.mean(ca_whole['AQI'])+2*np.std(ca_whole['AQI'])\n",
    "min_aqi = np.mean(ca_whole['AQI'])-2*np.std(ca_whole['AQI'])\n",
    "ca_whole = ca_whole.loc[ca_whole['AQI']<=max_aqi]"
   ]
  },
  {
   "cell_type": "code",
   "execution_count": 4,
   "metadata": {},
   "outputs": [],
   "source": [
    "y = ca_whole.loc[:,['AQI']]\n",
    "X= ca_whole.drop(columns = ['County Name', 'Date Local','Category','AQI'])"
   ]
  },
  {
   "cell_type": "code",
   "execution_count": 5,
   "metadata": {},
   "outputs": [
    {
     "name": "stdout",
     "output_type": "stream",
     "text": [
      "<class 'torch.Tensor'>\n"
     ]
    }
   ],
   "source": [
    "X_train, X_test, y_train, y_test = train_test_split(X, y, test_size=0.1)\n",
    "X_train = torch.tensor(X_train.values.astype(np.float32))\n",
    "X_test = torch.tensor(X_test.values.astype(np.float32))\n",
    "y_train = torch.tensor(y_train.values.astype(np.float32))\n",
    "y_test = torch.tensor(y_test.values.astype(np.float32))\n",
    "print(type(X_train))"
   ]
  },
  {
   "cell_type": "markdown",
   "metadata": {},
   "source": [
    "# Create Model"
   ]
  },
  {
   "cell_type": "code",
   "execution_count": 6,
   "metadata": {},
   "outputs": [],
   "source": [
    "class mlmodel(nn.Module):\n",
    "    def __init__(self):\n",
    "        super(mlmodel, self).__init__()\n",
    "        self.fc1   = nn.Linear(18, 10)\n",
    "        self.fc3  = nn.Linear(10, 1)\n",
    "            \n",
    "    def forward(self, y):\n",
    "        y = fun.relu(self.fc1(y))\n",
    "        y = self.fc3(y)\n",
    "        return y\n",
    "def RMSELoss(yhat,y):\n",
    "    return torch.sqrt(torch.mean((yhat-y)**2))"
   ]
  },
  {
   "cell_type": "markdown",
   "metadata": {},
   "source": [
    "# Validation for Learning Rate"
   ]
  },
  {
   "cell_type": "code",
   "execution_count": 7,
   "metadata": {},
   "outputs": [
    {
     "data": {
      "text/plain": [
       "[8.600650299072266,\n",
       " 8.596550864257813,\n",
       " 15.665477796630858,\n",
       " 5.474097329101562,\n",
       " 4.955786024169922,\n",
       " 7.275666409301758]"
      ]
     },
     "execution_count": 7,
     "metadata": {},
     "output_type": "execute_result"
    }
   ],
   "source": [
    "valid_rmse = [None] * 6\n",
    "learning_rates = [1, 1e-1, 1e-2, 1e-3, 1e-4, 1e-5]\n",
    "\n",
    "for i in range(len(learning_rates)):\n",
    "    rmse = 0\n",
    "    learning_rate = learning_rates[i]\n",
    "    for j in range(5):\n",
    "        model = mlmodel()\n",
    "        # Set up valid train sets\n",
    "        X_valid_train, X_valid, y_valid_train, y_valid = train_test_split(X_train, y_train, test_size=0.2)\n",
    "        for t in range(2000):\n",
    "            # Forward pass\n",
    "            model.eval()\n",
    "            y_pred = model(X_valid_train)\n",
    "\n",
    "            # Compute loss.\n",
    "            loss = RMSELoss(y_pred, y_valid_train)\n",
    "            # Zero gradients\n",
    "            model.zero_grad()\n",
    "\n",
    "            # Backward pass\n",
    "            loss.backward()\n",
    "\n",
    "            # Update weights\n",
    "            with torch.no_grad():\n",
    "                for param in model.parameters():\n",
    "                    param -= learning_rate * param.grad\n",
    "        # Calculate validation rmse\n",
    "        y_pred = model(X_valid)\n",
    "        rmse = (rmse + RMSELoss(y_pred, y_valid).item())/5\n",
    "    # Store validation rmse\n",
    "    valid_rmse[i] = rmse\n",
    "valid_rmse"
   ]
  },
  {
   "cell_type": "code",
   "execution_count": 8,
   "metadata": {},
   "outputs": [
    {
     "data": {
      "text/plain": [
       "0.0001"
      ]
     },
     "execution_count": 8,
     "metadata": {},
     "output_type": "execute_result"
    }
   ],
   "source": [
    "learning_rate = learning_rates[valid_rmse.index(np.min(valid_rmse))]\n",
    "learning_rate"
   ]
  },
  {
   "cell_type": "markdown",
   "metadata": {},
   "source": [
    "# Train"
   ]
  },
  {
   "cell_type": "code",
   "execution_count": 9,
   "metadata": {},
   "outputs": [],
   "source": [
    "model = mlmodel()\n",
    "train_loss = [None]*4000\n",
    "test_loss = [None]*4000\n",
    "for t in range(4000):\n",
    "    # Forward pass\n",
    "    model.eval()\n",
    "    y_pred = model(X_train)\n",
    "\n",
    "    # Compute loss.\n",
    "    loss = RMSELoss(y_pred, y_train)\n",
    "    # Store Loss\n",
    "    train_loss[t] = loss.item()\n",
    "    test_loss[t] = RMSELoss(model(X_test), y_test).item()\n",
    "    \n",
    "    # Zero the gradients.\n",
    "    model.zero_grad()\n",
    "    \n",
    "    # Backward pass\n",
    "    loss.backward()\n",
    "\n",
    "    # Update weights\n",
    "    with torch.no_grad():\n",
    "        for param in model.parameters():\n",
    "            param -= learning_rate * param.grad"
   ]
  },
  {
   "cell_type": "markdown",
   "metadata": {},
   "source": [
    "# Plots of the Result"
   ]
  },
  {
   "cell_type": "code",
   "execution_count": 10,
   "metadata": {},
   "outputs": [
    {
     "data": {
      "image/png": "[encoded data removed]",
      "text/plain": [
       "<Figure size 432x288 with 1 Axes>"
      ]
     },
     "metadata": {
      "needs_background": "light"
     },
     "output_type": "display_data"
    }
   ],
   "source": [
    "x = np.arange(4000)\n",
    "plt.plot(x,train_loss)\n",
    "plt.title(\"Train RMSE vs Training Time\")\n",
    "plt.xlabel(\"Training Time\")\n",
    "plt.ylabel(\"Training Time\")\n",
    "plt.show()"
   ]
  },
  {
   "cell_type": "code",
   "execution_count": 11,
   "metadata": {},
   "outputs": [
    {
     "data": {
      "image/png": "[encoded data removed]",
      "text/plain": [
       "<Figure size 432x288 with 1 Axes>"
      ]
     },
     "metadata": {
      "needs_background": "light"
     },
     "output_type": "display_data"
    }
   ],
   "source": [
    "plt.plot(x,test_loss)\n",
    "plt.title(\"Test RMSE vs Training Time\")\n",
    "plt.xlabel(\"Train Time\")\n",
    "plt.ylabel(\"Test RMSE\")\n",
    "plt.show()"
   ]
  },
  {
   "cell_type": "code",
   "execution_count": 12,
   "metadata": {},
   "outputs": [
    {
     "name": "stdout",
     "output_type": "stream",
     "text": [
      "19.096633911132812\n",
      "20.335824966430664\n"
     ]
    }
   ],
   "source": [
    "print(train_loss[-1])\n",
    "print(test_loss[-1])"
   ]
  },
  {
   "cell_type": "code",
   "execution_count": 22,
   "metadata": {},
   "outputs": [
    {
     "data": {
      "image/png": "[encoded data removed]",
      "text/plain": [
       "<Figure size 432x288 with 1 Axes>"
      ]
     },
     "metadata": {
      "needs_background": "light"
     },
     "output_type": "display_data"
    }
   ],
   "source": [
    "y_pred = model(X_test)\n",
    "residual_train = y_pred - y_test\n",
    "plt.scatter(y_test.detach().numpy(), residual_train.detach().numpy(), s=5)\n",
    "plt.axhline(0, color ='Red')\n",
    "plt.title(\"Test Residual vs Test AQI\")\n",
    "plt.xlabel(\"Test AQI\")\n",
    "plt.ylabel(\"Test Residual\")\n",
    "plt.ylim([-60,60])\n",
    "plt.show()"
   ]
  },
  {
   "cell_type": "code",
   "execution_count": 20,
   "metadata": {},
   "outputs": [
    {
     "data": {
      "image/png": "[encoded data removed]",
      "text/plain": [
       "<Figure size 432x288 with 1 Axes>"
      ]
     },
     "metadata": {
      "needs_background": "light"
     },
     "output_type": "display_data"
    }
   ],
   "source": [
    "plt.scatter(y_pred.detach().numpy(), y_test.detach().numpy(),s=5)\n",
    "plt.plot(y_test.detach().numpy(),y_test.detach().numpy(), color='red')\n",
    "plt.title(\"Test AQI vs Predict AQI\")\n",
    "plt.xlabel(\"Test AQI\")\n",
    "plt.ylabel(\"Predict AQI\")\n",
    "plt.xlim([20, 165])\n",
    "plt.show()"
   ]
  }
 ],
 "metadata": {
  "kernelspec": {
   "display_name": "Python 3",
   "language": "python",
   "name": "python3"
  },
  "language_info": {
   "codemirror_mode": {
    "name": "ipython",
    "version": 3
   },
   "file_extension": ".py",
   "mimetype": "text/x-python",
   "name": "python",
   "nbconvert_exporter": "python",
   "pygments_lexer": "ipython3",
   "version": "3.8.5"
  }
 },
 "nbformat": 4,
 "nbformat_minor": 4
}
