{
 "cells": [
  {
   "cell_type": "markdown",
   "metadata": {},
   "source": [
    "# Introduction"
   ]
  },
  {
   "cell_type": "markdown",
   "metadata": {},
   "source": [
    "This project consists of four categories:\n",
    "1. Initial EDA\n",
    "2. PCA\n",
    "3. Linear Regression Model\n",
    "4. Machine Learning Model\n",
    "\n",
    "A. Supplementary Logistical Regression Model\n",
    "\n"
   ]
  },
  {
   "cell_type": "markdown",
   "metadata": {},
   "source": [
    "# EDA"
   ]
  },
  {
   "cell_type": "code",
   "execution_count": 1,
   "metadata": {},
   "outputs": [],
   "source": [
    "import pandas as pd\n",
    "import numpy as np\n",
    "import seaborn as sns\n",
    "import matplotlib.pyplot as plt\n",
    "import re\n",
    "import geopandas as gpd\n",
    "from pathlib import Path\n",
    "import pathlib\n",
    "import os\n",
    "import requests, zipfile, io\n",
    "import plotly\n",
    "\n",
    "import warnings\n",
    "warnings.filterwarnings('ignore')"
   ]
  },
  {
   "cell_type": "markdown",
   "metadata": {},
   "source": [
    "Acknowledgement: Much of this code was helped made from my homework responses to AQI project from Data200 fall 2021. I give credit to the course staff for guiding me in many of these EDA ideas through the problem statements. Any code not provided in class was written by me"
   ]
  },
  {
   "cell_type": "code",
   "execution_count": 82,
   "metadata": {},
   "outputs": [
    {
     "ename": "KeyboardInterrupt",
     "evalue": "",
     "output_type": "error",
     "traceback": [
      "\u001b[1;31m---------------------------------------------------------------------------\u001b[0m",
      "\u001b[1;31mKeyboardInterrupt\u001b[0m                         Traceback (most recent call last)",
      "\u001b[1;32m<ipython-input-82-a748b50de6d5>\u001b[0m in \u001b[0;36m<module>\u001b[1;34m\u001b[0m\n\u001b[0;32m      5\u001b[0m         \u001b[1;32mif\u001b[0m \u001b[0mname\u001b[0m\u001b[1;33m[\u001b[0m\u001b[1;33m-\u001b[0m\u001b[1;36m4\u001b[0m\u001b[1;33m:\u001b[0m\u001b[1;33m]\u001b[0m \u001b[1;33m==\u001b[0m \u001b[1;34m\".csv\"\u001b[0m\u001b[1;33m:\u001b[0m\u001b[1;33m\u001b[0m\u001b[1;33m\u001b[0m\u001b[0m\n\u001b[0;32m      6\u001b[0m             \u001b[0mpath\u001b[0m \u001b[1;33m=\u001b[0m \u001b[0mos\u001b[0m\u001b[1;33m.\u001b[0m\u001b[0mpath\u001b[0m\u001b[1;33m.\u001b[0m\u001b[0mjoin\u001b[0m\u001b[1;33m(\u001b[0m\u001b[0mroot\u001b[0m\u001b[1;33m,\u001b[0m \u001b[0mname\u001b[0m\u001b[1;33m)\u001b[0m\u001b[1;33m\u001b[0m\u001b[1;33m\u001b[0m\u001b[0m\n\u001b[1;32m----> 7\u001b[1;33m             \u001b[0mdata\u001b[0m \u001b[1;33m=\u001b[0m \u001b[0mpd\u001b[0m\u001b[1;33m.\u001b[0m\u001b[0mread_csv\u001b[0m\u001b[1;33m(\u001b[0m\u001b[0mpath\u001b[0m\u001b[1;33m)\u001b[0m\u001b[1;33m\u001b[0m\u001b[1;33m\u001b[0m\u001b[0m\n\u001b[0m\u001b[0;32m      8\u001b[0m             \u001b[0mprint\u001b[0m\u001b[1;33m(\u001b[0m\u001b[0mpath\u001b[0m\u001b[1;33m)\u001b[0m\u001b[1;33m\u001b[0m\u001b[1;33m\u001b[0m\u001b[0m\n\u001b[0;32m      9\u001b[0m             \u001b[1;32mif\u001b[0m \u001b[1;34m\"./AQI_Data/\"\u001b[0m \u001b[1;32min\u001b[0m \u001b[0mroot\u001b[0m\u001b[1;33m:\u001b[0m\u001b[1;33m\u001b[0m\u001b[1;33m\u001b[0m\u001b[0m\n",
      "\u001b[1;32m~\\anaconda3\\lib\\site-packages\\pandas\\io\\parsers.py\u001b[0m in \u001b[0;36mparser_f\u001b[1;34m(filepath_or_buffer, sep, delimiter, header, names, index_col, usecols, squeeze, prefix, mangle_dupe_cols, dtype, engine, converters, true_values, false_values, skipinitialspace, skiprows, skipfooter, nrows, na_values, keep_default_na, na_filter, verbose, skip_blank_lines, parse_dates, infer_datetime_format, keep_date_col, date_parser, dayfirst, cache_dates, iterator, chunksize, compression, thousands, decimal, lineterminator, quotechar, quoting, doublequote, escapechar, comment, encoding, dialect, error_bad_lines, warn_bad_lines, delim_whitespace, low_memory, memory_map, float_precision)\u001b[0m\n\u001b[0;32m    674\u001b[0m         )\n\u001b[0;32m    675\u001b[0m \u001b[1;33m\u001b[0m\u001b[0m\n\u001b[1;32m--> 676\u001b[1;33m         \u001b[1;32mreturn\u001b[0m \u001b[0m_read\u001b[0m\u001b[1;33m(\u001b[0m\u001b[0mfilepath_or_buffer\u001b[0m\u001b[1;33m,\u001b[0m \u001b[0mkwds\u001b[0m\u001b[1;33m)\u001b[0m\u001b[1;33m\u001b[0m\u001b[1;33m\u001b[0m\u001b[0m\n\u001b[0m\u001b[0;32m    677\u001b[0m \u001b[1;33m\u001b[0m\u001b[0m\n\u001b[0;32m    678\u001b[0m     \u001b[0mparser_f\u001b[0m\u001b[1;33m.\u001b[0m\u001b[0m__name__\u001b[0m \u001b[1;33m=\u001b[0m \u001b[0mname\u001b[0m\u001b[1;33m\u001b[0m\u001b[1;33m\u001b[0m\u001b[0m\n",
      "\u001b[1;32m~\\anaconda3\\lib\\site-packages\\pandas\\io\\parsers.py\u001b[0m in \u001b[0;36m_read\u001b[1;34m(filepath_or_buffer, kwds)\u001b[0m\n\u001b[0;32m    452\u001b[0m \u001b[1;33m\u001b[0m\u001b[0m\n\u001b[0;32m    453\u001b[0m     \u001b[1;32mtry\u001b[0m\u001b[1;33m:\u001b[0m\u001b[1;33m\u001b[0m\u001b[1;33m\u001b[0m\u001b[0m\n\u001b[1;32m--> 454\u001b[1;33m         \u001b[0mdata\u001b[0m \u001b[1;33m=\u001b[0m \u001b[0mparser\u001b[0m\u001b[1;33m.\u001b[0m\u001b[0mread\u001b[0m\u001b[1;33m(\u001b[0m\u001b[0mnrows\u001b[0m\u001b[1;33m)\u001b[0m\u001b[1;33m\u001b[0m\u001b[1;33m\u001b[0m\u001b[0m\n\u001b[0m\u001b[0;32m    455\u001b[0m     \u001b[1;32mfinally\u001b[0m\u001b[1;33m:\u001b[0m\u001b[1;33m\u001b[0m\u001b[1;33m\u001b[0m\u001b[0m\n\u001b[0;32m    456\u001b[0m         \u001b[0mparser\u001b[0m\u001b[1;33m.\u001b[0m\u001b[0mclose\u001b[0m\u001b[1;33m(\u001b[0m\u001b[1;33m)\u001b[0m\u001b[1;33m\u001b[0m\u001b[1;33m\u001b[0m\u001b[0m\n",
      "\u001b[1;32m~\\anaconda3\\lib\\site-packages\\pandas\\io\\parsers.py\u001b[0m in \u001b[0;36mread\u001b[1;34m(self, nrows)\u001b[0m\n\u001b[0;32m   1131\u001b[0m     \u001b[1;32mdef\u001b[0m \u001b[0mread\u001b[0m\u001b[1;33m(\u001b[0m\u001b[0mself\u001b[0m\u001b[1;33m,\u001b[0m \u001b[0mnrows\u001b[0m\u001b[1;33m=\u001b[0m\u001b[1;32mNone\u001b[0m\u001b[1;33m)\u001b[0m\u001b[1;33m:\u001b[0m\u001b[1;33m\u001b[0m\u001b[1;33m\u001b[0m\u001b[0m\n\u001b[0;32m   1132\u001b[0m         \u001b[0mnrows\u001b[0m \u001b[1;33m=\u001b[0m \u001b[0m_validate_integer\u001b[0m\u001b[1;33m(\u001b[0m\u001b[1;34m\"nrows\"\u001b[0m\u001b[1;33m,\u001b[0m \u001b[0mnrows\u001b[0m\u001b[1;33m)\u001b[0m\u001b[1;33m\u001b[0m\u001b[1;33m\u001b[0m\u001b[0m\n\u001b[1;32m-> 1133\u001b[1;33m         \u001b[0mret\u001b[0m \u001b[1;33m=\u001b[0m \u001b[0mself\u001b[0m\u001b[1;33m.\u001b[0m\u001b[0m_engine\u001b[0m\u001b[1;33m.\u001b[0m\u001b[0mread\u001b[0m\u001b[1;33m(\u001b[0m\u001b[0mnrows\u001b[0m\u001b[1;33m)\u001b[0m\u001b[1;33m\u001b[0m\u001b[1;33m\u001b[0m\u001b[0m\n\u001b[0m\u001b[0;32m   1134\u001b[0m \u001b[1;33m\u001b[0m\u001b[0m\n\u001b[0;32m   1135\u001b[0m         \u001b[1;31m# May alter columns / col_dict\u001b[0m\u001b[1;33m\u001b[0m\u001b[1;33m\u001b[0m\u001b[1;33m\u001b[0m\u001b[0m\n",
      "\u001b[1;32m~\\anaconda3\\lib\\site-packages\\pandas\\io\\parsers.py\u001b[0m in \u001b[0;36mread\u001b[1;34m(self, nrows)\u001b[0m\n\u001b[0;32m   2035\u001b[0m     \u001b[1;32mdef\u001b[0m \u001b[0mread\u001b[0m\u001b[1;33m(\u001b[0m\u001b[0mself\u001b[0m\u001b[1;33m,\u001b[0m \u001b[0mnrows\u001b[0m\u001b[1;33m=\u001b[0m\u001b[1;32mNone\u001b[0m\u001b[1;33m)\u001b[0m\u001b[1;33m:\u001b[0m\u001b[1;33m\u001b[0m\u001b[1;33m\u001b[0m\u001b[0m\n\u001b[0;32m   2036\u001b[0m         \u001b[1;32mtry\u001b[0m\u001b[1;33m:\u001b[0m\u001b[1;33m\u001b[0m\u001b[1;33m\u001b[0m\u001b[0m\n\u001b[1;32m-> 2037\u001b[1;33m             \u001b[0mdata\u001b[0m \u001b[1;33m=\u001b[0m \u001b[0mself\u001b[0m\u001b[1;33m.\u001b[0m\u001b[0m_reader\u001b[0m\u001b[1;33m.\u001b[0m\u001b[0mread\u001b[0m\u001b[1;33m(\u001b[0m\u001b[0mnrows\u001b[0m\u001b[1;33m)\u001b[0m\u001b[1;33m\u001b[0m\u001b[1;33m\u001b[0m\u001b[0m\n\u001b[0m\u001b[0;32m   2038\u001b[0m         \u001b[1;32mexcept\u001b[0m \u001b[0mStopIteration\u001b[0m\u001b[1;33m:\u001b[0m\u001b[1;33m\u001b[0m\u001b[1;33m\u001b[0m\u001b[0m\n\u001b[0;32m   2039\u001b[0m             \u001b[1;32mif\u001b[0m \u001b[0mself\u001b[0m\u001b[1;33m.\u001b[0m\u001b[0m_first_chunk\u001b[0m\u001b[1;33m:\u001b[0m\u001b[1;33m\u001b[0m\u001b[1;33m\u001b[0m\u001b[0m\n",
      "\u001b[1;32mpandas\\_libs\\parsers.pyx\u001b[0m in \u001b[0;36mpandas._libs.parsers.TextReader.read\u001b[1;34m()\u001b[0m\n",
      "\u001b[1;32mpandas\\_libs\\parsers.pyx\u001b[0m in \u001b[0;36mpandas._libs.parsers.TextReader._read_low_memory\u001b[1;34m()\u001b[0m\n",
      "\u001b[1;32mpandas\\_libs\\parsers.pyx\u001b[0m in \u001b[0;36mpandas._libs.parsers.TextReader._read_rows\u001b[1;34m()\u001b[0m\n",
      "\u001b[1;32mpandas\\_libs\\parsers.pyx\u001b[0m in \u001b[0;36mpandas._libs.parsers.TextReader._convert_column_data\u001b[1;34m()\u001b[0m\n",
      "\u001b[1;32mpandas\\_libs\\parsers.pyx\u001b[0m in \u001b[0;36mpandas._libs.parsers.TextReader._convert_tokens\u001b[1;34m()\u001b[0m\n",
      "\u001b[1;32mpandas\\_libs\\parsers.pyx\u001b[0m in \u001b[0;36mpandas._libs.parsers.TextReader._convert_with_dtype\u001b[1;34m()\u001b[0m\n",
      "\u001b[1;32m~\\anaconda3\\lib\\site-packages\\pandas\\core\\dtypes\\common.py\u001b[0m in \u001b[0;36mis_categorical_dtype\u001b[1;34m(arr_or_dtype)\u001b[0m\n\u001b[0;32m    540\u001b[0m \u001b[1;33m\u001b[0m\u001b[0m\n\u001b[0;32m    541\u001b[0m \u001b[1;33m\u001b[0m\u001b[0m\n\u001b[1;32m--> 542\u001b[1;33m \u001b[1;32mdef\u001b[0m \u001b[0mis_categorical_dtype\u001b[0m\u001b[1;33m(\u001b[0m\u001b[0marr_or_dtype\u001b[0m\u001b[1;33m)\u001b[0m \u001b[1;33m->\u001b[0m \u001b[0mbool\u001b[0m\u001b[1;33m:\u001b[0m\u001b[1;33m\u001b[0m\u001b[1;33m\u001b[0m\u001b[0m\n\u001b[0m\u001b[0;32m    543\u001b[0m     \"\"\"\n\u001b[0;32m    544\u001b[0m     \u001b[0mCheck\u001b[0m \u001b[0mwhether\u001b[0m \u001b[0man\u001b[0m \u001b[0marray\u001b[0m\u001b[1;33m-\u001b[0m\u001b[0mlike\u001b[0m \u001b[1;32mor\u001b[0m \u001b[0mdtype\u001b[0m \u001b[1;32mis\u001b[0m \u001b[0mof\u001b[0m \u001b[0mthe\u001b[0m \u001b[0mCategorical\u001b[0m \u001b[0mdtype\u001b[0m\u001b[1;33m.\u001b[0m\u001b[1;33m\u001b[0m\u001b[1;33m\u001b[0m\u001b[0m\n",
      "\u001b[1;31mKeyboardInterrupt\u001b[0m: "
     ]
    }
   ],
   "source": [
    "#works on linux machines!!\n",
    "epa_data = {}\n",
    "for root,dirs, files in os.walk(\".\",topdown=True):\n",
    "    for name in files:\n",
    "        if name[-4:] == \".csv\":\n",
    "            path = os.path.join(root, name)\n",
    "            data = pd.read_csv(path)\n",
    "            print(path)\n",
    "            if \"./AQI_Data/\" in root:\n",
    "                pattern = r\"./AQI_Data/(\\w+)/\\w+.csv\"\n",
    "                ls_match = re.findall(pattern,str(path))\n",
    "                if \"/.ipynb\" not in root:\n",
    "                    print(ls_match)\n",
    "                    name = ls_match[0]\n",
    "                    epa_data[name] = data\n",
    "            else:\n",
    "                epa_data[name[:-4]] = data"
   ]
  },
  {
   "cell_type": "code",
   "execution_count": 2,
   "metadata": {},
   "outputs": [
    {
     "name": "stdout",
     "output_type": "stream",
     "text": [
      "['annual_county_aqi']\n",
      "['aqs_sites']\n",
      "['daily_co']\n",
      "['daily_county_aqi']\n",
      "['daily_no2']\n",
      "['daily_ozone']\n",
      "['daily_so2']\n",
      "['daily_temp']\n",
      "['daily_wind']\n",
      "['daily_wind']\n",
      "['previous_data']\n"
     ]
    }
   ],
   "source": [
    "#works for windows!!\n",
    "epa_data = {}\n",
    "for root,dirs, files in os.walk(\".\",topdown=True):\n",
    "    root_old = root\n",
    "    p = pathlib.Path(root_old)\n",
    "    root = p.as_posix()\n",
    "#     print('root: '+root)\n",
    "    for name in files:\n",
    "#         print('name: '+name)\n",
    "        if name[-4:] == \".csv\":\n",
    "            path = os.path.join(root_old, name)\n",
    "            data = pd.read_csv(path)\n",
    "#             print('path: '+path)\n",
    "            if \".\\\\AQI_Data\\\\\" in root_old:\n",
    "                pattern = r\".\\\\AQI_Data\\\\(\\w+)\\\\\\w+.csv\"\n",
    "                ls_match = re.findall(pattern,str(path))\n",
    "                if \"/.ipynb\" not in root:\n",
    "                    print(ls_match)\n",
    "                    name = ls_match[0]\n",
    "                    epa_data[name] = data\n",
    "            else:\n",
    "                epa_data[name[:-4]] = data"
   ]
  },
  {
   "cell_type": "code",
   "execution_count": null,
   "metadata": {},
   "outputs": [],
   "source": [
    "#epa_data.keys()#check keys are correct"
   ]
  },
  {
   "cell_type": "code",
   "execution_count": 3,
   "metadata": {},
   "outputs": [
    {
     "data": {
      "text/html": [
       "<div>\n",
       "<style scoped>\n",
       "    .dataframe tbody tr th:only-of-type {\n",
       "        vertical-align: middle;\n",
       "    }\n",
       "\n",
       "    .dataframe tbody tr th {\n",
       "        vertical-align: top;\n",
       "    }\n",
       "\n",
       "    .dataframe thead th {\n",
       "        text-align: right;\n",
       "    }\n",
       "</style>\n",
       "<table border=\"1\" class=\"dataframe\">\n",
       "  <thead>\n",
       "    <tr style=\"text-align: right;\">\n",
       "      <th></th>\n",
       "      <th>State Name</th>\n",
       "      <th>county Name</th>\n",
       "      <th>State Code</th>\n",
       "      <th>County Code</th>\n",
       "      <th>Date</th>\n",
       "      <th>AQI</th>\n",
       "      <th>Category</th>\n",
       "      <th>Defining Parameter</th>\n",
       "      <th>Defining Site</th>\n",
       "      <th>Number of Sites Reporting</th>\n",
       "      <th>Month</th>\n",
       "      <th>Day</th>\n",
       "    </tr>\n",
       "  </thead>\n",
       "  <tbody>\n",
       "    <tr>\n",
       "      <th>0</th>\n",
       "      <td>Alabama</td>\n",
       "      <td>Baldwin</td>\n",
       "      <td>1</td>\n",
       "      <td>3</td>\n",
       "      <td>2020-01-01</td>\n",
       "      <td>48</td>\n",
       "      <td>Good</td>\n",
       "      <td>PM2.5</td>\n",
       "      <td>01-003-0010</td>\n",
       "      <td>1</td>\n",
       "      <td>1</td>\n",
       "      <td>1</td>\n",
       "    </tr>\n",
       "    <tr>\n",
       "      <th>1</th>\n",
       "      <td>Alabama</td>\n",
       "      <td>Baldwin</td>\n",
       "      <td>1</td>\n",
       "      <td>3</td>\n",
       "      <td>2020-01-04</td>\n",
       "      <td>13</td>\n",
       "      <td>Good</td>\n",
       "      <td>PM2.5</td>\n",
       "      <td>01-003-0010</td>\n",
       "      <td>1</td>\n",
       "      <td>1</td>\n",
       "      <td>4</td>\n",
       "    </tr>\n",
       "    <tr>\n",
       "      <th>2</th>\n",
       "      <td>Alabama</td>\n",
       "      <td>Baldwin</td>\n",
       "      <td>1</td>\n",
       "      <td>3</td>\n",
       "      <td>2020-01-07</td>\n",
       "      <td>14</td>\n",
       "      <td>Good</td>\n",
       "      <td>PM2.5</td>\n",
       "      <td>01-003-0010</td>\n",
       "      <td>1</td>\n",
       "      <td>1</td>\n",
       "      <td>7</td>\n",
       "    </tr>\n",
       "    <tr>\n",
       "      <th>3</th>\n",
       "      <td>Alabama</td>\n",
       "      <td>Baldwin</td>\n",
       "      <td>1</td>\n",
       "      <td>3</td>\n",
       "      <td>2020-01-10</td>\n",
       "      <td>39</td>\n",
       "      <td>Good</td>\n",
       "      <td>PM2.5</td>\n",
       "      <td>01-003-0010</td>\n",
       "      <td>1</td>\n",
       "      <td>1</td>\n",
       "      <td>10</td>\n",
       "    </tr>\n",
       "    <tr>\n",
       "      <th>4</th>\n",
       "      <td>Alabama</td>\n",
       "      <td>Baldwin</td>\n",
       "      <td>1</td>\n",
       "      <td>3</td>\n",
       "      <td>2020-01-13</td>\n",
       "      <td>29</td>\n",
       "      <td>Good</td>\n",
       "      <td>PM2.5</td>\n",
       "      <td>01-003-0010</td>\n",
       "      <td>1</td>\n",
       "      <td>1</td>\n",
       "      <td>13</td>\n",
       "    </tr>\n",
       "  </tbody>\n",
       "</table>\n",
       "</div>"
      ],
      "text/plain": [
       "  State Name county Name  State Code  County Code        Date  AQI Category  \\\n",
       "0    Alabama     Baldwin           1            3  2020-01-01   48     Good   \n",
       "1    Alabama     Baldwin           1            3  2020-01-04   13     Good   \n",
       "2    Alabama     Baldwin           1            3  2020-01-07   14     Good   \n",
       "3    Alabama     Baldwin           1            3  2020-01-10   39     Good   \n",
       "4    Alabama     Baldwin           1            3  2020-01-13   29     Good   \n",
       "\n",
       "  Defining Parameter Defining Site  Number of Sites Reporting  Month  Day  \n",
       "0              PM2.5   01-003-0010                          1      1    1  \n",
       "1              PM2.5   01-003-0010                          1      1    4  \n",
       "2              PM2.5   01-003-0010                          1      1    7  \n",
       "3              PM2.5   01-003-0010                          1      1   10  \n",
       "4              PM2.5   01-003-0010                          1      1   13  "
      ]
     },
     "execution_count": 3,
     "metadata": {},
     "output_type": "execute_result"
    }
   ],
   "source": [
    "#add month and day to daily_county_aqi; df daily_county changes the object in the epa_data dictionary\n",
    "daily_county = epa_data.get('daily_county_aqi')\n",
    "daily_county['Month'] = pd.to_datetime(daily_county['Date']).dt.month\n",
    "daily_county['Day'] = pd.to_datetime(daily_county['Date']).dt.day\n",
    "\n",
    "\n",
    "daily_county.head()"
   ]
  },
  {
   "cell_type": "code",
   "execution_count": 4,
   "metadata": {},
   "outputs": [
    {
     "name": "stdout",
     "output_type": "stream",
     "text": [
      "2020\n",
      "   AE000041196  20200101  TMIN  168 Unnamed: 4 Unnamed: 5  S  Unnamed: 7\n",
      "0  AE000041196  20200101  PRCP    0          D        NaN  S         NaN\n",
      "1  AE000041196  20200101  TAVG  211          H        NaN  S         NaN\n",
      "2  AEM00041194  20200101  PRCP    0        NaN        NaN  S         NaN\n",
      "3  AEM00041194  20200101  TAVG  217          H        NaN  S         NaN\n",
      "4  AEM00041217  20200101  TAVG  205          H        NaN  S         NaN\n",
      "ca_whole\n",
      "  County Name  Date Local  AQI                        Category   Latitude  \\\n",
      "0      Fresno  2020-01-01  130  Unhealthy for Sensitive Groups  36.710833   \n",
      "1      Fresno  2020-01-02  102  Unhealthy for Sensitive Groups  36.785380   \n",
      "2      Fresno  2020-01-03   88                        Moderate  36.785380   \n",
      "3      Fresno  2020-01-04   66                        Moderate  36.726390   \n",
      "4      Fresno  2020-01-05   55                        Moderate  36.785380   \n",
      "\n",
      "   Longitude  AQI_so2  Arithmetic Mean_so2  1st Max Value_so2  AQI_no2  ...  \\\n",
      "0 -119.77750      0.0             0.129166               0.25     21.4  ...   \n",
      "1 -119.77321      0.0             0.052084               0.15     19.2  ...   \n",
      "2 -119.77321      0.0             0.127084               0.25     27.0  ...   \n",
      "3 -119.73300      0.0             0.043750               0.15     15.8  ...   \n",
      "4 -119.77321      0.0             0.000000               0.00      8.8  ...   \n",
      "\n",
      "     AQI_co  Arithmetic Mean_co  1st Max Value_co  AQI_ozone  \\\n",
      "0  9.333333            0.563523          0.946333  23.833333   \n",
      "1  8.000000            0.520751          0.773167  18.166667   \n",
      "2  8.333333            0.531785          0.850333  21.333333   \n",
      "3  7.000000            0.342258          0.569833  26.500000   \n",
      "4  3.333333            0.233755          0.320667  21.500000   \n",
      "\n",
      "   Arithmetic Mean_ozone  1st Max Value_ozone  Arithmetic Mean_temp  \\\n",
      "0               0.014519             0.025833             82.127344   \n",
      "1               0.010873             0.019667             74.927604   \n",
      "2               0.013696             0.023167             59.380208   \n",
      "3               0.019961             0.028667            115.795833   \n",
      "4               0.017775             0.023333            116.238802   \n",
      "\n",
      "   1st Max Value_temp  Arithmetic Mean_wind  1st Max Value_wind  \n",
      "0           171.83750             48.035417             58.1750  \n",
      "1           169.61250             47.408333             54.7000  \n",
      "2           138.78125             50.284375             64.2500  \n",
      "3           177.00625             52.025000             63.8000  \n",
      "4           173.69375             46.796354             56.9125  \n",
      "\n",
      "[5 rows x 22 columns]\n"
     ]
    }
   ],
   "source": [
    "epa_data_CA = {}\n",
    "keep_out = ['annual_county_aqi','aqs_sites','us_air_quality_measures','us_greenhouse_gas_emission_direct_emitter_gas_type',\\\n",
    "            'us_greenhouse_gas_emissions_direct_emitter_facilities','daily_global_weather_2020','2021','epa_filenames','Traffic_Volumes_AADT']\n",
    "for table in list(epa_data):\n",
    "    if table in keep_out:\n",
    "        continue\n",
    "    elif 'State Name' not in epa_data[table].keys():\n",
    "        print(table)\n",
    "        print(epa_data[table].head())\n",
    "    else:\n",
    "        epa_data_CA[table] = epa_data[table][epa_data[table][\"State Name\"] == 'California']\n",
    "\n",
    "# epa_data_CA.get('daily_county_aqi').head()"
   ]
  },
  {
   "cell_type": "code",
   "execution_count": 5,
   "metadata": {},
   "outputs": [
    {
     "data": {
      "text/plain": [
       "Index(['State Code', 'County Code', 'Site Number', 'Latitude', 'Longitude',\n",
       "       'Datum', 'Elevation', 'Land Use', 'Location Setting',\n",
       "       'Site Established Date', 'Site Closed Date', 'Met Site State Code',\n",
       "       'Met Site County Code', 'Met Site Site Number', 'Met Site Type',\n",
       "       'Met Site Distance', 'Met Site Direction', 'GMT Offset',\n",
       "       'Owning Agency', 'Local Site Name', 'Address', 'Zip Code', 'State Name',\n",
       "       'County Name', 'City Name', 'CBSA Name', 'Tribe Name',\n",
       "       'Extraction Date'],\n",
       "      dtype='object')"
      ]
     },
     "execution_count": 5,
     "metadata": {},
     "output_type": "execute_result"
    }
   ],
   "source": [
    "# epa_data['annual_county_aqi'].keys()\n",
    "epa_data['aqs_sites'].keys()"
   ]
  },
  {
   "cell_type": "code",
   "execution_count": 6,
   "metadata": {},
   "outputs": [
    {
     "data": {
      "text/html": [
       "<div>\n",
       "<style scoped>\n",
       "    .dataframe tbody tr th:only-of-type {\n",
       "        vertical-align: middle;\n",
       "    }\n",
       "\n",
       "    .dataframe tbody tr th {\n",
       "        vertical-align: top;\n",
       "    }\n",
       "\n",
       "    .dataframe thead th {\n",
       "        text-align: right;\n",
       "    }\n",
       "</style>\n",
       "<table border=\"1\" class=\"dataframe\">\n",
       "  <thead>\n",
       "    <tr style=\"text-align: right;\">\n",
       "      <th></th>\n",
       "      <th>State Name</th>\n",
       "      <th>county Name</th>\n",
       "      <th>Month</th>\n",
       "      <th>Day</th>\n",
       "      <th>AQI</th>\n",
       "      <th>Category</th>\n",
       "      <th>Defining Site</th>\n",
       "      <th>Latitude</th>\n",
       "      <th>Longitude</th>\n",
       "    </tr>\n",
       "  </thead>\n",
       "  <tbody>\n",
       "    <tr>\n",
       "      <th>0</th>\n",
       "      <td>California</td>\n",
       "      <td>Alameda</td>\n",
       "      <td>1</td>\n",
       "      <td>1</td>\n",
       "      <td>53</td>\n",
       "      <td>Moderate</td>\n",
       "      <td>06-001-0009</td>\n",
       "      <td>37.743065</td>\n",
       "      <td>-122.169935</td>\n",
       "    </tr>\n",
       "    <tr>\n",
       "      <th>1</th>\n",
       "      <td>California</td>\n",
       "      <td>Alameda</td>\n",
       "      <td>1</td>\n",
       "      <td>2</td>\n",
       "      <td>43</td>\n",
       "      <td>Good</td>\n",
       "      <td>06-001-0013</td>\n",
       "      <td>37.864767</td>\n",
       "      <td>-122.302741</td>\n",
       "    </tr>\n",
       "    <tr>\n",
       "      <th>2</th>\n",
       "      <td>California</td>\n",
       "      <td>Alameda</td>\n",
       "      <td>1</td>\n",
       "      <td>3</td>\n",
       "      <td>74</td>\n",
       "      <td>Moderate</td>\n",
       "      <td>06-001-0013</td>\n",
       "      <td>37.864767</td>\n",
       "      <td>-122.302741</td>\n",
       "    </tr>\n",
       "    <tr>\n",
       "      <th>3</th>\n",
       "      <td>California</td>\n",
       "      <td>Alameda</td>\n",
       "      <td>1</td>\n",
       "      <td>4</td>\n",
       "      <td>45</td>\n",
       "      <td>Good</td>\n",
       "      <td>06-001-0007</td>\n",
       "      <td>37.687526</td>\n",
       "      <td>-121.784217</td>\n",
       "    </tr>\n",
       "    <tr>\n",
       "      <th>4</th>\n",
       "      <td>California</td>\n",
       "      <td>Alameda</td>\n",
       "      <td>1</td>\n",
       "      <td>5</td>\n",
       "      <td>33</td>\n",
       "      <td>Good</td>\n",
       "      <td>06-001-0007</td>\n",
       "      <td>37.687526</td>\n",
       "      <td>-121.784217</td>\n",
       "    </tr>\n",
       "    <tr>\n",
       "      <th>...</th>\n",
       "      <td>...</td>\n",
       "      <td>...</td>\n",
       "      <td>...</td>\n",
       "      <td>...</td>\n",
       "      <td>...</td>\n",
       "      <td>...</td>\n",
       "      <td>...</td>\n",
       "      <td>...</td>\n",
       "      <td>...</td>\n",
       "    </tr>\n",
       "    <tr>\n",
       "      <th>19220</th>\n",
       "      <td>California</td>\n",
       "      <td>Yolo</td>\n",
       "      <td>12</td>\n",
       "      <td>27</td>\n",
       "      <td>20</td>\n",
       "      <td>Good</td>\n",
       "      <td>06-113-0004</td>\n",
       "      <td>38.534450</td>\n",
       "      <td>-121.773400</td>\n",
       "    </tr>\n",
       "    <tr>\n",
       "      <th>19221</th>\n",
       "      <td>California</td>\n",
       "      <td>Yolo</td>\n",
       "      <td>12</td>\n",
       "      <td>28</td>\n",
       "      <td>33</td>\n",
       "      <td>Good</td>\n",
       "      <td>06-113-0004</td>\n",
       "      <td>38.534450</td>\n",
       "      <td>-121.773400</td>\n",
       "    </tr>\n",
       "    <tr>\n",
       "      <th>19222</th>\n",
       "      <td>California</td>\n",
       "      <td>Yolo</td>\n",
       "      <td>12</td>\n",
       "      <td>29</td>\n",
       "      <td>28</td>\n",
       "      <td>Good</td>\n",
       "      <td>06-113-0004</td>\n",
       "      <td>38.534450</td>\n",
       "      <td>-121.773400</td>\n",
       "    </tr>\n",
       "    <tr>\n",
       "      <th>19223</th>\n",
       "      <td>California</td>\n",
       "      <td>Yolo</td>\n",
       "      <td>12</td>\n",
       "      <td>30</td>\n",
       "      <td>39</td>\n",
       "      <td>Good</td>\n",
       "      <td>06-113-0004</td>\n",
       "      <td>38.534450</td>\n",
       "      <td>-121.773400</td>\n",
       "    </tr>\n",
       "    <tr>\n",
       "      <th>19224</th>\n",
       "      <td>California</td>\n",
       "      <td>Yolo</td>\n",
       "      <td>12</td>\n",
       "      <td>31</td>\n",
       "      <td>35</td>\n",
       "      <td>Good</td>\n",
       "      <td>06-113-0004</td>\n",
       "      <td>38.534450</td>\n",
       "      <td>-121.773400</td>\n",
       "    </tr>\n",
       "  </tbody>\n",
       "</table>\n",
       "<p>19225 rows × 9 columns</p>\n",
       "</div>"
      ],
      "text/plain": [
       "       State Name county Name  Month  Day  AQI  Category Defining Site  \\\n",
       "0      California     Alameda      1    1   53  Moderate   06-001-0009   \n",
       "1      California     Alameda      1    2   43      Good   06-001-0013   \n",
       "2      California     Alameda      1    3   74  Moderate   06-001-0013   \n",
       "3      California     Alameda      1    4   45      Good   06-001-0007   \n",
       "4      California     Alameda      1    5   33      Good   06-001-0007   \n",
       "...           ...         ...    ...  ...  ...       ...           ...   \n",
       "19220  California        Yolo     12   27   20      Good   06-113-0004   \n",
       "19221  California        Yolo     12   28   33      Good   06-113-0004   \n",
       "19222  California        Yolo     12   29   28      Good   06-113-0004   \n",
       "19223  California        Yolo     12   30   39      Good   06-113-0004   \n",
       "19224  California        Yolo     12   31   35      Good   06-113-0004   \n",
       "\n",
       "        Latitude   Longitude  \n",
       "0      37.743065 -122.169935  \n",
       "1      37.864767 -122.302741  \n",
       "2      37.864767 -122.302741  \n",
       "3      37.687526 -121.784217  \n",
       "4      37.687526 -121.784217  \n",
       "...          ...         ...  \n",
       "19220  38.534450 -121.773400  \n",
       "19221  38.534450 -121.773400  \n",
       "19222  38.534450 -121.773400  \n",
       "19223  38.534450 -121.773400  \n",
       "19224  38.534450 -121.773400  \n",
       "\n",
       "[19225 rows x 9 columns]"
      ]
     },
     "execution_count": 6,
     "metadata": {},
     "output_type": "execute_result"
    }
   ],
   "source": [
    "cols = ['State Name', 'county Name', 'Month', 'Day', 'AQI', 'Category', 'Defining Site', 'Latitude', 'Longitude']\n",
    "epa_data['aqs_sites']['a'] = epa_data['aqs_sites']['State Code'].astype(str).str.zfill(2)\n",
    "epa_data['aqs_sites']['b'] = epa_data['aqs_sites']['County Code'].astype(str).str.zfill(3)\n",
    "epa_data['aqs_sites']['c'] = epa_data['aqs_sites']['Site Number'].astype(str).str.zfill(4)\n",
    "epa_data['aqs_sites']['Defining Site'] = epa_data['aqs_sites']['a'] + '-' + epa_data['aqs_sites']['b'] + '-' + epa_data['aqs_sites']['c']\n",
    "epa_data_CA_merged = epa_data_CA['daily_county_aqi'].merge(epa_data['aqs_sites'], how='left', left_on='Defining Site', right_on='Defining Site', suffixes=('', '_y'))[cols]\n",
    "\n",
    "epa_data_CA_merged"
   ]
  },
  {
   "cell_type": "markdown",
   "metadata": {},
   "source": [
    "## Missing AQI Data"
   ]
  },
  {
   "cell_type": "code",
   "execution_count": 7,
   "metadata": {},
   "outputs": [
    {
     "data": {
      "text/plain": [
       "54    274\n",
       "96    331\n",
       "63    351\n",
       "98    353\n",
       "49    359\n",
       "76    360\n",
       "51    364\n",
       "57    364\n",
       "72    365\n",
       "79    366\n",
       "81    366\n",
       "82    366\n",
       "83    366\n",
       "84    366\n",
       "85    366\n",
       "80    366\n",
       "86    366\n",
       "48    366\n",
       "88    366\n",
       "78    366\n",
       "Name: Days with AQI, dtype: int64"
      ]
     },
     "execution_count": 7,
     "metadata": {},
     "output_type": "execute_result"
    }
   ],
   "source": [
    "ca_annual_data = epa_data.get('annual_county_aqi')[epa_data.get('annual_county_aqi')['State'] == 'California']\n",
    "ca_aqi_days = ca_annual_data['Days with AQI'].sort_values()\n",
    "ca_aqi_days.head(20)"
   ]
  },
  {
   "cell_type": "code",
   "execution_count": 8,
   "metadata": {},
   "outputs": [
    {
     "data": {
      "text/plain": [
       "{'Del Norte': Index(['2020-01-15', '2020-01-16', '2020-01-17', '2020-01-18', '2020-01-20',\n",
       "        '2020-01-21', '2020-01-23', '2020-03-14', '2020-03-15', '2020-04-22',\n",
       "        '2020-04-23', '2020-04-25', '2020-04-26', '2020-04-28', '2020-04-29',\n",
       "        '2020-05-01', '2020-05-02', '2020-05-04', '2020-05-05', '2020-05-07',\n",
       "        '2020-05-08', '2020-05-10', '2020-05-11', '2020-05-13', '2020-05-14',\n",
       "        '2020-05-16', '2020-05-17', '2020-05-19', '2020-05-20', '2020-05-22',\n",
       "        '2020-05-23', '2020-05-25', '2020-05-26', '2020-05-28', '2020-05-29',\n",
       "        '2020-05-31', '2020-06-01', '2020-06-02', '2020-06-03', '2020-06-04',\n",
       "        '2020-06-05', '2020-06-06', '2020-06-07', '2020-06-08', '2020-06-09',\n",
       "        '2020-06-10', '2020-06-11', '2020-06-12', '2020-06-13', '2020-06-14',\n",
       "        '2020-06-15', '2020-06-16', '2020-06-17', '2020-06-18', '2020-06-19',\n",
       "        '2020-06-20', '2020-06-21', '2020-06-22', '2020-06-23', '2020-06-24',\n",
       "        '2020-06-25', '2020-06-26', '2020-06-27', '2020-06-28', '2020-06-29',\n",
       "        '2020-06-30', '2020-07-01', '2020-07-02', '2020-07-03', '2020-07-04',\n",
       "        '2020-07-05', '2020-07-06', '2020-07-07', '2020-07-08', '2020-07-09',\n",
       "        '2020-07-10', '2020-07-11', '2020-07-12', '2020-07-13', '2020-07-14',\n",
       "        '2020-07-15', '2020-07-16', '2020-07-17', '2020-07-18', '2020-07-19',\n",
       "        '2020-07-20', '2020-07-21', '2020-09-13', '2020-09-14', '2020-09-15',\n",
       "        '2020-12-02', '2020-12-03'],\n",
       "       dtype='object'),\n",
       " 'Trinity': Index(['2020-01-29', '2020-02-28', '2020-02-29', '2020-03-02', '2020-03-03',\n",
       "        '2020-07-01', '2020-07-02', '2020-07-03', '2020-07-04', '2020-07-05',\n",
       "        '2020-07-06', '2020-07-08', '2020-07-09', '2020-07-10', '2020-07-11',\n",
       "        '2020-07-12', '2020-07-13', '2020-07-14', '2020-07-23', '2020-07-24',\n",
       "        '2020-07-25', '2020-07-26', '2020-07-27', '2020-07-28', '2020-07-29',\n",
       "        '2020-07-30', '2020-07-31', '2020-08-01', '2020-08-02', '2020-08-03',\n",
       "        '2020-08-13', '2020-09-27', '2020-09-28', '2020-12-01', '2020-12-02'],\n",
       "       dtype='object'),\n",
       " 'Lake': Index(['2020-02-04', '2020-02-05', '2020-02-29', '2020-04-24', '2020-05-04',\n",
       "        '2020-05-05', '2020-05-06', '2020-05-07', '2020-06-16', '2020-06-17',\n",
       "        '2020-08-17', '2020-08-22', '2020-08-23', '2020-08-24', '2020-10-21'],\n",
       "       dtype='object'),\n",
       " 'Tuolumne': Index(['2020-01-08', '2020-01-26', '2020-01-27', '2020-01-28', '2020-01-29',\n",
       "        '2020-01-30', '2020-01-31', '2020-02-01', '2020-02-02', '2020-02-03',\n",
       "        '2020-09-07', '2020-09-08', '2020-10-25'],\n",
       "       dtype='object'),\n",
       " 'Amador': Index(['2020-01-04', '2020-01-05', '2020-01-06', '2020-01-07', '2020-08-24',\n",
       "        '2020-10-17', '2020-10-18'],\n",
       "       dtype='object'),\n",
       " 'Plumas': Index(['2020-01-06', '2020-02-16', '2020-02-25', '2020-02-26', '2020-02-28',\n",
       "        '2020-02-29'],\n",
       "       dtype='object'),\n",
       " 'Calaveras': Index(['2020-06-04', '2020-09-21'], dtype='object'),\n",
       " 'Glenn': Index(['2020-11-08', '2020-11-11'], dtype='object'),\n",
       " 'Napa': Index(['2020-11-04'], dtype='object')}"
      ]
     },
     "execution_count": 8,
     "metadata": {},
     "output_type": "execute_result"
    }
   ],
   "source": [
    "county_to_missing_dates = {}\n",
    "\n",
    "interested = ca_aqi_days[ca_aqi_days != 366]\n",
    "\n",
    "for idx in interested.index:\n",
    "    county = ca_annual_data.loc[idx]['County']\n",
    "    evaluate = epa_data_CA['daily_county_aqi'][epa_data_CA['daily_county_aqi']['county Name'] == county]\n",
    "    evaluate.set_index('Date',inplace=True)\n",
    "    evaluate.index = pd.to_datetime(evaluate.index)\n",
    "    dates = pd.date_range(start = '2020-01-01',end='2020-12-31').difference(evaluate.index).strftime('%Y-%m-%d')\n",
    "    county_to_missing_dates[county] = dates\n",
    "\n",
    "county_to_missing_dates"
   ]
  },
  {
   "cell_type": "markdown",
   "metadata": {},
   "source": [
    "Major missing dates in common were: February 29, 2020 (Count = 3), as well as July 1, 2020 through July 14, 2020.  Del Norte and Trinity counties had the most missing dates, perhaps because the wildfires occuring in those counties had some AQI values omitted."
   ]
  },
  {
   "cell_type": "markdown",
   "metadata": {},
   "source": [
    "## AQI over time"
   ]
  },
  {
   "cell_type": "code",
   "execution_count": 9,
   "metadata": {},
   "outputs": [
    {
     "name": "stdout",
     "output_type": "stream",
     "text": [
      "AQI per Month: \n",
      "Month\n",
      "1     31.032050\n",
      "2     32.258621\n",
      "3     34.509181\n",
      "4     37.287264\n",
      "5     36.273464\n",
      "6     40.533681\n",
      "7     40.070404\n",
      "8     41.252281\n",
      "9     43.290611\n",
      "10    35.285558\n",
      "11    34.184020\n",
      "12    34.990632\n",
      "Name: AQI, dtype: float64\n",
      "\n",
      "AQI per Month California : \n",
      "Month\n",
      "1      46.346888\n",
      "2      47.110236\n",
      "3      40.114094\n",
      "4      41.443462\n",
      "5      49.538319\n",
      "6      47.996146\n",
      "7      56.069375\n",
      "8      79.960220\n",
      "9     107.020228\n",
      "10     75.491763\n",
      "11     52.070573\n",
      "12     53.645516\n",
      "Name: AQI, dtype: float64\n"
     ]
    }
   ],
   "source": [
    "aqi_per_month = epa_data['daily_county_aqi'].groupby(\"Month\").mean()[\"AQI\"]\n",
    "aqi_per_month_CA = epa_data_CA['daily_county_aqi'].groupby(\"Month\").mean()[\"AQI\"]\n",
    "print(\"AQI per Month: \\n{}\\n\".format(aqi_per_month))\n",
    "print(\"AQI per Month California : \\n{}\".format(aqi_per_month_CA))"
   ]
  },
  {
   "cell_type": "code",
   "execution_count": 10,
   "metadata": {},
   "outputs": [],
   "source": [
    "aqi_per_month = aqi_per_month.rename('AQI_all')\n",
    "aqi_per_month_CA = aqi_per_month_CA.rename('AQI_CA')"
   ]
  },
  {
   "cell_type": "code",
   "execution_count": 11,
   "metadata": {},
   "outputs": [
    {
     "data": {
      "text/html": [
       "<div>\n",
       "<style scoped>\n",
       "    .dataframe tbody tr th:only-of-type {\n",
       "        vertical-align: middle;\n",
       "    }\n",
       "\n",
       "    .dataframe tbody tr th {\n",
       "        vertical-align: top;\n",
       "    }\n",
       "\n",
       "    .dataframe thead th {\n",
       "        text-align: right;\n",
       "    }\n",
       "</style>\n",
       "<table border=\"1\" class=\"dataframe\">\n",
       "  <thead>\n",
       "    <tr style=\"text-align: right;\">\n",
       "      <th></th>\n",
       "      <th>Month</th>\n",
       "      <th>AQI_all</th>\n",
       "      <th>AQI_CA</th>\n",
       "    </tr>\n",
       "  </thead>\n",
       "  <tbody>\n",
       "    <tr>\n",
       "      <th>0</th>\n",
       "      <td>1</td>\n",
       "      <td>31.032050</td>\n",
       "      <td>46.346888</td>\n",
       "    </tr>\n",
       "    <tr>\n",
       "      <th>1</th>\n",
       "      <td>2</td>\n",
       "      <td>32.258621</td>\n",
       "      <td>47.110236</td>\n",
       "    </tr>\n",
       "    <tr>\n",
       "      <th>2</th>\n",
       "      <td>3</td>\n",
       "      <td>34.509181</td>\n",
       "      <td>40.114094</td>\n",
       "    </tr>\n",
       "    <tr>\n",
       "      <th>3</th>\n",
       "      <td>4</td>\n",
       "      <td>37.287264</td>\n",
       "      <td>41.443462</td>\n",
       "    </tr>\n",
       "    <tr>\n",
       "      <th>4</th>\n",
       "      <td>5</td>\n",
       "      <td>36.273464</td>\n",
       "      <td>49.538319</td>\n",
       "    </tr>\n",
       "    <tr>\n",
       "      <th>5</th>\n",
       "      <td>6</td>\n",
       "      <td>40.533681</td>\n",
       "      <td>47.996146</td>\n",
       "    </tr>\n",
       "    <tr>\n",
       "      <th>6</th>\n",
       "      <td>7</td>\n",
       "      <td>40.070404</td>\n",
       "      <td>56.069375</td>\n",
       "    </tr>\n",
       "    <tr>\n",
       "      <th>7</th>\n",
       "      <td>8</td>\n",
       "      <td>41.252281</td>\n",
       "      <td>79.960220</td>\n",
       "    </tr>\n",
       "    <tr>\n",
       "      <th>8</th>\n",
       "      <td>9</td>\n",
       "      <td>43.290611</td>\n",
       "      <td>107.020228</td>\n",
       "    </tr>\n",
       "    <tr>\n",
       "      <th>9</th>\n",
       "      <td>10</td>\n",
       "      <td>35.285558</td>\n",
       "      <td>75.491763</td>\n",
       "    </tr>\n",
       "    <tr>\n",
       "      <th>10</th>\n",
       "      <td>11</td>\n",
       "      <td>34.184020</td>\n",
       "      <td>52.070573</td>\n",
       "    </tr>\n",
       "    <tr>\n",
       "      <th>11</th>\n",
       "      <td>12</td>\n",
       "      <td>34.990632</td>\n",
       "      <td>53.645516</td>\n",
       "    </tr>\n",
       "  </tbody>\n",
       "</table>\n",
       "</div>"
      ],
      "text/plain": [
       "    Month    AQI_all      AQI_CA\n",
       "0       1  31.032050   46.346888\n",
       "1       2  32.258621   47.110236\n",
       "2       3  34.509181   40.114094\n",
       "3       4  37.287264   41.443462\n",
       "4       5  36.273464   49.538319\n",
       "5       6  40.533681   47.996146\n",
       "6       7  40.070404   56.069375\n",
       "7       8  41.252281   79.960220\n",
       "8       9  43.290611  107.020228\n",
       "9      10  35.285558   75.491763\n",
       "10     11  34.184020   52.070573\n",
       "11     12  34.990632   53.645516"
      ]
     },
     "execution_count": 11,
     "metadata": {},
     "output_type": "execute_result"
    }
   ],
   "source": [
    "aqi_per_month_df = pd.concat([aqi_per_month,aqi_per_month_CA], axis=1)\n",
    "aqi_per_month_df = aqi_per_month_df.reset_index()\n",
    "aqi_per_month_df"
   ]
  },
  {
   "cell_type": "code",
   "execution_count": 12,
   "metadata": {},
   "outputs": [
    {
     "data": {
      "text/plain": [
       "<matplotlib.axes._subplots.AxesSubplot at 0x1c648a85220>"
      ]
     },
     "execution_count": 12,
     "metadata": {},
     "output_type": "execute_result"
    },
    {
     "data": {
      "image/png": "[encoded data removed]",
      "text/plain": [
       "<Figure size 432x288 with 1 Axes>"
      ]
     },
     "metadata": {
      "needs_background": "light"
     },
     "output_type": "display_data"
    }
   ],
   "source": [
    "sns.scatterplot(x='Month',y='AQI_all',data=aqi_per_month_df)"
   ]
  },
  {
   "cell_type": "code",
   "execution_count": 13,
   "metadata": {},
   "outputs": [
    {
     "data": {
      "image/png": "[encoded data removed]",
      "text/plain": [
       "<Figure size 432x288 with 1 Axes>"
      ]
     },
     "metadata": {
      "needs_background": "light"
     },
     "output_type": "display_data"
    }
   ],
   "source": [
    "labels = ['1', '2', '3', '4', '5','6','7','8','9','10','11','12']\n",
    "\n",
    "x = np.arange(len(labels))  # the label locations\n",
    "width = 0.35  # the width of the bars\n",
    "\n",
    "fig, ax = plt.subplots()\n",
    "rects1 = ax.bar(x - width/2, aqi_per_month, width, label='AQI USA')\n",
    "rects2 = ax.bar(x + width/2, aqi_per_month_CA, width, label='AQI CA')\n",
    "\n",
    "# Add some text for labels, title and custom x-axis tick labels, etc.\n",
    "ax.set_ylabel('AQI')\n",
    "ax.set_title('AQI per month')\n",
    "ax.set_xticks(x, labels)\n",
    "ax.legend()\n",
    "\n",
    "# ax.bar_label(rects1, padding=3)\n",
    "# ax.bar_label(rects2, padding=3)\n",
    "\n",
    "fig.tight_layout()\n",
    "\n",
    "plt.show()"
   ]
  },
  {
   "cell_type": "markdown",
   "metadata": {},
   "source": [
    "We can see that the average AQI per month in the state of california is on average higher than the average for all US states. This is probably because CA has more wildfires on average compared to the rest of the USA. "
   ]
  },
  {
   "cell_type": "code",
   "execution_count": 14,
   "metadata": {},
   "outputs": [
    {
     "data": {
      "text/html": [
       "<div>\n",
       "<style scoped>\n",
       "    .dataframe tbody tr th:only-of-type {\n",
       "        vertical-align: middle;\n",
       "    }\n",
       "\n",
       "    .dataframe tbody tr th {\n",
       "        vertical-align: top;\n",
       "    }\n",
       "\n",
       "    .dataframe thead th {\n",
       "        text-align: right;\n",
       "    }\n",
       "</style>\n",
       "<table border=\"1\" class=\"dataframe\">\n",
       "  <thead>\n",
       "    <tr style=\"text-align: right;\">\n",
       "      <th></th>\n",
       "      <th>State</th>\n",
       "      <th>County</th>\n",
       "      <th>Year</th>\n",
       "      <th>Days with AQI</th>\n",
       "      <th>Good Days</th>\n",
       "      <th>Moderate Days</th>\n",
       "      <th>Unhealthy for Sensitive Groups Days</th>\n",
       "      <th>Unhealthy Days</th>\n",
       "      <th>Very Unhealthy Days</th>\n",
       "      <th>Hazardous Days</th>\n",
       "      <th>Max AQI</th>\n",
       "      <th>90th Percentile AQI</th>\n",
       "      <th>Median AQI</th>\n",
       "      <th>Days CO</th>\n",
       "      <th>Days NO2</th>\n",
       "      <th>Days Ozone</th>\n",
       "      <th>Days SO2</th>\n",
       "      <th>Days PM2.5</th>\n",
       "      <th>Days PM10</th>\n",
       "    </tr>\n",
       "  </thead>\n",
       "  <tbody>\n",
       "    <tr>\n",
       "      <th>0</th>\n",
       "      <td>Alabama</td>\n",
       "      <td>Baldwin</td>\n",
       "      <td>2020</td>\n",
       "      <td>269</td>\n",
       "      <td>250</td>\n",
       "      <td>19</td>\n",
       "      <td>0</td>\n",
       "      <td>0</td>\n",
       "      <td>0</td>\n",
       "      <td>0</td>\n",
       "      <td>74</td>\n",
       "      <td>49</td>\n",
       "      <td>36</td>\n",
       "      <td>0</td>\n",
       "      <td>0</td>\n",
       "      <td>198</td>\n",
       "      <td>0</td>\n",
       "      <td>71</td>\n",
       "      <td>0</td>\n",
       "    </tr>\n",
       "    <tr>\n",
       "      <th>1</th>\n",
       "      <td>Alabama</td>\n",
       "      <td>Clay</td>\n",
       "      <td>2020</td>\n",
       "      <td>108</td>\n",
       "      <td>99</td>\n",
       "      <td>9</td>\n",
       "      <td>0</td>\n",
       "      <td>0</td>\n",
       "      <td>0</td>\n",
       "      <td>0</td>\n",
       "      <td>86</td>\n",
       "      <td>49</td>\n",
       "      <td>26</td>\n",
       "      <td>0</td>\n",
       "      <td>0</td>\n",
       "      <td>0</td>\n",
       "      <td>0</td>\n",
       "      <td>108</td>\n",
       "      <td>0</td>\n",
       "    </tr>\n",
       "    <tr>\n",
       "      <th>2</th>\n",
       "      <td>Alabama</td>\n",
       "      <td>DeKalb</td>\n",
       "      <td>2020</td>\n",
       "      <td>364</td>\n",
       "      <td>350</td>\n",
       "      <td>14</td>\n",
       "      <td>0</td>\n",
       "      <td>0</td>\n",
       "      <td>0</td>\n",
       "      <td>0</td>\n",
       "      <td>90</td>\n",
       "      <td>45</td>\n",
       "      <td>36</td>\n",
       "      <td>0</td>\n",
       "      <td>0</td>\n",
       "      <td>331</td>\n",
       "      <td>0</td>\n",
       "      <td>33</td>\n",
       "      <td>0</td>\n",
       "    </tr>\n",
       "    <tr>\n",
       "      <th>3</th>\n",
       "      <td>Alabama</td>\n",
       "      <td>Elmore</td>\n",
       "      <td>2020</td>\n",
       "      <td>197</td>\n",
       "      <td>197</td>\n",
       "      <td>0</td>\n",
       "      <td>0</td>\n",
       "      <td>0</td>\n",
       "      <td>0</td>\n",
       "      <td>0</td>\n",
       "      <td>47</td>\n",
       "      <td>41</td>\n",
       "      <td>31</td>\n",
       "      <td>0</td>\n",
       "      <td>0</td>\n",
       "      <td>197</td>\n",
       "      <td>0</td>\n",
       "      <td>0</td>\n",
       "      <td>0</td>\n",
       "    </tr>\n",
       "    <tr>\n",
       "      <th>4</th>\n",
       "      <td>Alabama</td>\n",
       "      <td>Etowah</td>\n",
       "      <td>2020</td>\n",
       "      <td>278</td>\n",
       "      <td>260</td>\n",
       "      <td>18</td>\n",
       "      <td>0</td>\n",
       "      <td>0</td>\n",
       "      <td>0</td>\n",
       "      <td>0</td>\n",
       "      <td>92</td>\n",
       "      <td>46</td>\n",
       "      <td>34</td>\n",
       "      <td>0</td>\n",
       "      <td>0</td>\n",
       "      <td>204</td>\n",
       "      <td>0</td>\n",
       "      <td>74</td>\n",
       "      <td>0</td>\n",
       "    </tr>\n",
       "  </tbody>\n",
       "</table>\n",
       "</div>"
      ],
      "text/plain": [
       "     State   County  Year  Days with AQI  Good Days  Moderate Days  \\\n",
       "0  Alabama  Baldwin  2020            269        250             19   \n",
       "1  Alabama     Clay  2020            108         99              9   \n",
       "2  Alabama   DeKalb  2020            364        350             14   \n",
       "3  Alabama   Elmore  2020            197        197              0   \n",
       "4  Alabama   Etowah  2020            278        260             18   \n",
       "\n",
       "   Unhealthy for Sensitive Groups Days  Unhealthy Days  Very Unhealthy Days  \\\n",
       "0                                    0               0                    0   \n",
       "1                                    0               0                    0   \n",
       "2                                    0               0                    0   \n",
       "3                                    0               0                    0   \n",
       "4                                    0               0                    0   \n",
       "\n",
       "   Hazardous Days  Max AQI  90th Percentile AQI  Median AQI  Days CO  \\\n",
       "0               0       74                   49          36        0   \n",
       "1               0       86                   49          26        0   \n",
       "2               0       90                   45          36        0   \n",
       "3               0       47                   41          31        0   \n",
       "4               0       92                   46          34        0   \n",
       "\n",
       "   Days NO2  Days Ozone  Days SO2  Days PM2.5  Days PM10  \n",
       "0         0         198         0          71          0  \n",
       "1         0           0         0         108          0  \n",
       "2         0         331         0          33          0  \n",
       "3         0         197         0           0          0  \n",
       "4         0         204         0          74          0  "
      ]
     },
     "execution_count": 14,
     "metadata": {},
     "output_type": "execute_result"
    }
   ],
   "source": [
    "epa_data['annual_county_aqi'].head()"
   ]
  },
  {
   "cell_type": "markdown",
   "metadata": {},
   "source": [
    "## Visualization of AQI"
   ]
  },
  {
   "cell_type": "code",
   "execution_count": 22,
   "metadata": {},
   "outputs": [],
   "source": [
    "import geopandas as gpd\n",
    "try:\n",
    "    import mapclassify\n",
    "except ImportError:\n",
    "    %pip install mapclassify"
   ]
  },
  {
   "cell_type": "code",
   "execution_count": 23,
   "metadata": {},
   "outputs": [
    {
     "data": {
      "text/html": [
       "<div>\n",
       "<style scoped>\n",
       "    .dataframe tbody tr th:only-of-type {\n",
       "        vertical-align: middle;\n",
       "    }\n",
       "\n",
       "    .dataframe tbody tr th {\n",
       "        vertical-align: top;\n",
       "    }\n",
       "\n",
       "    .dataframe thead th {\n",
       "        text-align: right;\n",
       "    }\n",
       "</style>\n",
       "<table border=\"1\" class=\"dataframe\">\n",
       "  <thead>\n",
       "    <tr style=\"text-align: right;\">\n",
       "      <th></th>\n",
       "      <th>Longitude</th>\n",
       "      <th>Latitude</th>\n",
       "      <th>AQI</th>\n",
       "    </tr>\n",
       "  </thead>\n",
       "  <tbody>\n",
       "    <tr>\n",
       "      <th>244</th>\n",
       "      <td>-121.903019</td>\n",
       "      <td>37.701222</td>\n",
       "      <td>70</td>\n",
       "    </tr>\n",
       "    <tr>\n",
       "      <th>245</th>\n",
       "      <td>-121.903019</td>\n",
       "      <td>37.701222</td>\n",
       "      <td>62</td>\n",
       "    </tr>\n",
       "    <tr>\n",
       "      <th>246</th>\n",
       "      <td>-122.302741</td>\n",
       "      <td>37.864767</td>\n",
       "      <td>95</td>\n",
       "    </tr>\n",
       "    <tr>\n",
       "      <th>247</th>\n",
       "      <td>-122.302741</td>\n",
       "      <td>37.864767</td>\n",
       "      <td>67</td>\n",
       "    </tr>\n",
       "    <tr>\n",
       "      <th>248</th>\n",
       "      <td>-122.031547</td>\n",
       "      <td>37.654456</td>\n",
       "      <td>129</td>\n",
       "    </tr>\n",
       "    <tr>\n",
       "      <th>...</th>\n",
       "      <td>...</td>\n",
       "      <td>...</td>\n",
       "      <td>...</td>\n",
       "    </tr>\n",
       "    <tr>\n",
       "      <th>19128</th>\n",
       "      <td>-121.773400</td>\n",
       "      <td>38.534450</td>\n",
       "      <td>69</td>\n",
       "    </tr>\n",
       "    <tr>\n",
       "      <th>19129</th>\n",
       "      <td>-121.773400</td>\n",
       "      <td>38.534450</td>\n",
       "      <td>69</td>\n",
       "    </tr>\n",
       "    <tr>\n",
       "      <th>19130</th>\n",
       "      <td>-121.773400</td>\n",
       "      <td>38.534450</td>\n",
       "      <td>75</td>\n",
       "    </tr>\n",
       "    <tr>\n",
       "      <th>19131</th>\n",
       "      <td>-121.773400</td>\n",
       "      <td>38.534450</td>\n",
       "      <td>111</td>\n",
       "    </tr>\n",
       "    <tr>\n",
       "      <th>19132</th>\n",
       "      <td>-121.773400</td>\n",
       "      <td>38.534450</td>\n",
       "      <td>157</td>\n",
       "    </tr>\n",
       "  </tbody>\n",
       "</table>\n",
       "<p>1582 rows × 3 columns</p>\n",
       "</div>"
      ],
      "text/plain": [
       "        Longitude   Latitude  AQI\n",
       "244   -121.903019  37.701222   70\n",
       "245   -121.903019  37.701222   62\n",
       "246   -122.302741  37.864767   95\n",
       "247   -122.302741  37.864767   67\n",
       "248   -122.031547  37.654456  129\n",
       "...           ...        ...  ...\n",
       "19128 -121.773400  38.534450   69\n",
       "19129 -121.773400  38.534450   69\n",
       "19130 -121.773400  38.534450   75\n",
       "19131 -121.773400  38.534450  111\n",
       "19132 -121.773400  38.534450  157\n",
       "\n",
       "[1582 rows x 3 columns]"
      ]
     },
     "execution_count": 23,
     "metadata": {},
     "output_type": "execute_result"
    }
   ],
   "source": [
    "coords = epa_data_CA_merged[epa_data_CA_merged['Month']==9][['Longitude','Latitude','AQI']]\n",
    "coords"
   ]
  },
  {
   "cell_type": "code",
   "execution_count": 24,
   "metadata": {},
   "outputs": [
    {
     "ename": "AttributeError",
     "evalue": "module 'geopandas' has no attribute 'points_from_xy'",
     "output_type": "error",
     "traceback": [
      "\u001b[1;31m---------------------------------------------------------------------------\u001b[0m",
      "\u001b[1;31mAttributeError\u001b[0m                            Traceback (most recent call last)",
      "\u001b[1;32m<ipython-input-24-b2cf9280b99f>\u001b[0m in \u001b[0;36m<module>\u001b[1;34m\u001b[0m\n\u001b[0;32m      1\u001b[0m gdf = gpd.GeoDataFrame(\n\u001b[0;32m      2\u001b[0m     \u001b[0mcoords\u001b[0m\u001b[1;33m,\u001b[0m\u001b[1;33m\u001b[0m\u001b[1;33m\u001b[0m\u001b[0m\n\u001b[1;32m----> 3\u001b[1;33m     \u001b[0mgeometry\u001b[0m\u001b[1;33m=\u001b[0m\u001b[0mgpd\u001b[0m\u001b[1;33m.\u001b[0m\u001b[0mpoints_from_xy\u001b[0m\u001b[1;33m(\u001b[0m\u001b[0mcoords\u001b[0m\u001b[1;33m.\u001b[0m\u001b[0mLongitude\u001b[0m\u001b[1;33m,\u001b[0m \u001b[0mcoords\u001b[0m\u001b[1;33m.\u001b[0m\u001b[0mLatitude\u001b[0m\u001b[1;33m)\u001b[0m\u001b[1;33m\u001b[0m\u001b[1;33m\u001b[0m\u001b[0m\n\u001b[0m\u001b[0;32m      4\u001b[0m )\n\u001b[0;32m      5\u001b[0m \u001b[1;33m\u001b[0m\u001b[0m\n",
      "\u001b[1;31mAttributeError\u001b[0m: module 'geopandas' has no attribute 'points_from_xy'"
     ]
    }
   ],
   "source": [
    "gdf = gpd.GeoDataFrame(\n",
    "    coords, \n",
    "    geometry=gpd.points_from_xy(coords.Longitude, coords.Latitude)\n",
    ")\n",
    "\n",
    "gdf"
   ]
  },
  {
   "cell_type": "markdown",
   "metadata": {},
   "source": [
    "Plotting latitude and Longitude points on California (no heat value). This is essentially the AQI measuring locations"
   ]
  },
  {
   "cell_type": "code",
   "execution_count": 25,
   "metadata": {},
   "outputs": [
    {
     "ename": "NameError",
     "evalue": "name 'gdf' is not defined",
     "output_type": "error",
     "traceback": [
      "\u001b[1;31m---------------------------------------------------------------------------\u001b[0m",
      "\u001b[1;31mNameError\u001b[0m                                 Traceback (most recent call last)",
      "\u001b[1;32m<ipython-input-25-b9da8b0f8f9d>\u001b[0m in \u001b[0;36m<module>\u001b[1;34m\u001b[0m\n\u001b[0;32m      2\u001b[0m \u001b[0musa\u001b[0m \u001b[1;33m=\u001b[0m \u001b[0mgpd\u001b[0m\u001b[1;33m.\u001b[0m\u001b[0mread_file\u001b[0m\u001b[1;33m(\u001b[0m\u001b[1;34m\"https://raw.githubusercontent.com/danhammer/envirods/main/data/gz_2010_us_040_00_20m.geojson\"\u001b[0m\u001b[1;33m)\u001b[0m\u001b[1;33m\u001b[0m\u001b[1;33m\u001b[0m\u001b[0m\n\u001b[0;32m      3\u001b[0m \u001b[0mstate_gdf\u001b[0m \u001b[1;33m=\u001b[0m \u001b[0musa\u001b[0m\u001b[1;33m[\u001b[0m\u001b[0musa\u001b[0m\u001b[1;33m.\u001b[0m\u001b[0mNAME\u001b[0m\u001b[1;33m.\u001b[0m\u001b[0misin\u001b[0m\u001b[1;33m(\u001b[0m\u001b[0mstates\u001b[0m\u001b[1;33m)\u001b[0m\u001b[1;33m]\u001b[0m\u001b[1;33m\u001b[0m\u001b[1;33m\u001b[0m\u001b[0m\n\u001b[1;32m----> 4\u001b[1;33m \u001b[0mmkt_gdf\u001b[0m \u001b[1;33m=\u001b[0m \u001b[0mgdf\u001b[0m\u001b[1;33m\u001b[0m\u001b[1;33m\u001b[0m\u001b[0m\n\u001b[0m\u001b[0;32m      5\u001b[0m \u001b[1;31m# fig, ax = plt.subplots(figsize=(15,10))\u001b[0m\u001b[1;33m\u001b[0m\u001b[1;33m\u001b[0m\u001b[1;33m\u001b[0m\u001b[0m\n\u001b[0;32m      6\u001b[0m \u001b[0mfig\u001b[0m\u001b[1;33m,\u001b[0m \u001b[0max\u001b[0m \u001b[1;33m=\u001b[0m \u001b[0mplt\u001b[0m\u001b[1;33m.\u001b[0m\u001b[0msubplots\u001b[0m\u001b[1;33m(\u001b[0m\u001b[1;33m)\u001b[0m\u001b[1;33m\u001b[0m\u001b[1;33m\u001b[0m\u001b[0m\n",
      "\u001b[1;31mNameError\u001b[0m: name 'gdf' is not defined"
     ]
    }
   ],
   "source": [
    "states =['California']\n",
    "usa = gpd.read_file(\"https://raw.githubusercontent.com/danhammer/envirods/main/data/gz_2010_us_040_00_20m.geojson\")\n",
    "state_gdf = usa[usa.NAME.isin(states)]\n",
    "mkt_gdf = gdf\n",
    "# fig, ax = plt.subplots(figsize=(15,10))\n",
    "fig, ax = plt.subplots()\n",
    "state_gdf.plot(\n",
    "    ax=ax,\n",
    "    color=\"lightgrey\",\n",
    "    edgecolor=\"white\"\n",
    ")\n",
    "mkt_gdf.plot(ax=ax,column=gdf.AQI,cmap = 'inferno',scheme='Percentiles',legend=True);\n"
   ]
  },
  {
   "cell_type": "markdown",
   "metadata": {},
   "source": [
    "The heatmap roughly looks like the outline of California, and the dark areas represent eastern California historically affected by wildfires, typically mountainous regions with lots of vegetation."
   ]
  },
  {
   "cell_type": "markdown",
   "metadata": {},
   "source": [
    "California counties shown on the right - San Bernardino, Los Angeles, Riverside - experienced much worse air quality with median AQI ranging from 80 to 95. On the left side of the plot, counties such as Del Norte and Trinity had very good air quality overall, with median . On the right compared to counties on the left such as Del Norte and Trinity, which had median AQI ranging from 28 to 32."
   ]
  },
  {
   "cell_type": "markdown",
   "metadata": {},
   "source": [
    "## we can also plot the danger levels by color"
   ]
  },
  {
   "cell_type": "code",
   "execution_count": 21,
   "metadata": {},
   "outputs": [
    {
     "ename": "NameError",
     "evalue": "name 'gdf' is not defined",
     "output_type": "error",
     "traceback": [
      "\u001b[1;31m---------------------------------------------------------------------------\u001b[0m",
      "\u001b[1;31mNameError\u001b[0m                                 Traceback (most recent call last)",
      "\u001b[1;32m<ipython-input-21-8b6775f26c49>\u001b[0m in \u001b[0;36m<module>\u001b[1;34m\u001b[0m\n\u001b[0;32m      4\u001b[0m \u001b[0musa\u001b[0m \u001b[1;33m=\u001b[0m \u001b[0mgpd\u001b[0m\u001b[1;33m.\u001b[0m\u001b[0mread_file\u001b[0m\u001b[1;33m(\u001b[0m\u001b[1;34m\"https://raw.githubusercontent.com/danhammer/envirods/main/data/gz_2010_us_040_00_20m.geojson\"\u001b[0m\u001b[1;33m)\u001b[0m\u001b[1;33m\u001b[0m\u001b[1;33m\u001b[0m\u001b[0m\n\u001b[0;32m      5\u001b[0m \u001b[0mstate_gdf\u001b[0m \u001b[1;33m=\u001b[0m \u001b[0musa\u001b[0m\u001b[1;33m[\u001b[0m\u001b[0musa\u001b[0m\u001b[1;33m.\u001b[0m\u001b[0mNAME\u001b[0m\u001b[1;33m.\u001b[0m\u001b[0misin\u001b[0m\u001b[1;33m(\u001b[0m\u001b[0mstates\u001b[0m\u001b[1;33m)\u001b[0m\u001b[1;33m]\u001b[0m\u001b[1;33m\u001b[0m\u001b[1;33m\u001b[0m\u001b[0m\n\u001b[1;32m----> 6\u001b[1;33m \u001b[0mmkt_gdf\u001b[0m \u001b[1;33m=\u001b[0m \u001b[0mgdf\u001b[0m\u001b[1;33m\u001b[0m\u001b[1;33m\u001b[0m\u001b[0m\n\u001b[0m\u001b[0;32m      7\u001b[0m \u001b[1;31m# fig, ax = plt.subplots(figsize=(15,10))\u001b[0m\u001b[1;33m\u001b[0m\u001b[1;33m\u001b[0m\u001b[1;33m\u001b[0m\u001b[0m\n\u001b[0;32m      8\u001b[0m \u001b[0mfig\u001b[0m\u001b[1;33m,\u001b[0m \u001b[0max\u001b[0m \u001b[1;33m=\u001b[0m \u001b[0mplt\u001b[0m\u001b[1;33m.\u001b[0m\u001b[0msubplots\u001b[0m\u001b[1;33m(\u001b[0m\u001b[1;33m)\u001b[0m\u001b[1;33m\u001b[0m\u001b[1;33m\u001b[0m\u001b[0m\n",
      "\u001b[1;31mNameError\u001b[0m: name 'gdf' is not defined"
     ]
    }
   ],
   "source": [
    "###make AQI values correspond with government color system\n",
    "#look up custom color map\n",
    "states =['California']\n",
    "usa = gpd.read_file(\"https://raw.githubusercontent.com/danhammer/envirods/main/data/gz_2010_us_040_00_20m.geojson\")\n",
    "state_gdf = usa[usa.NAME.isin(states)]\n",
    "mkt_gdf = gdf\n",
    "# fig, ax = plt.subplots(figsize=(15,10))\n",
    "fig, ax = plt.subplots()\n",
    "state_gdf.plot(\n",
    "    ax=ax,\n",
    "    color=\"lightgrey\",\n",
    "    edgecolor=\"white\"\n",
    ")\n",
    "# mkt_gdf.plot(ax=ax,column=gdf.AQI,cmap = 'inferno',scheme='Percentiles',legend=True);\n",
    "from matplotlib import colors\n",
    "#make a color map of fixed colors\n",
    "cmap = colors.ListedColormap(['Green','Yellow','Orange','Red','Purple','Maroon'])\n",
    "bounds = [0,50,100,150,200,300,2000]\n",
    "norm = colors.BoundaryNorm(bounds,cmap.N)\n",
    "\n",
    "mkt_gdf.plot(ax=ax,column=gdf.AQI,cmap = cmap,norm=norm,legend=True);\n"
   ]
  },
  {
   "cell_type": "markdown",
   "metadata": {},
   "source": [
    "## Missing AQI Data for CA"
   ]
  },
  {
   "cell_type": "markdown",
   "metadata": {},
   "source": [
    "# PCA"
   ]
  },
  {
   "cell_type": "markdown",
   "metadata": {},
   "source": [
    "# Linear Regression Model"
   ]
  },
  {
   "cell_type": "markdown",
   "metadata": {},
   "source": [
    "# Machine Learning Model"
   ]
  },
  {
   "cell_type": "markdown",
   "metadata": {},
   "source": [
    "### 1.Import Modules"
   ]
  },
  {
   "cell_type": "code",
   "execution_count": 3,
   "metadata": {},
   "outputs": [],
   "source": [
    "import numpy as np\n",
    "import matplotlib.pyplot as plt\n",
    "import pandas as pd\n",
    "%matplotlib inline\n",
    "from sklearn.model_selection import train_test_split\n",
    "import torch\n",
    "import torch.nn as nn\n",
    "import torch.nn.functional as fun\n",
    "import seaborn as sns"
   ]
  },
  {
   "cell_type": "markdown",
   "metadata": {},
   "source": [
    "### 2.Read Data and Process Data"
   ]
  },
  {
   "cell_type": "code",
   "execution_count": 4,
   "metadata": {},
   "outputs": [],
   "source": [
    "ca_whole_ml = pd.read_csv('ca_whole.csv')"
   ]
  },
  {
   "cell_type": "markdown",
   "metadata": {},
   "source": [
    "Drop Outlier to avoid influence from Outliers"
   ]
  },
  {
   "cell_type": "code",
   "execution_count": 5,
   "metadata": {},
   "outputs": [],
   "source": [
    "max_aqi_ml = np.mean(ca_whole_ml['AQI'])+2*np.std(ca_whole_ml['AQI'])\n",
    "min_aqi_ml = np.mean(ca_whole_ml['AQI'])-2*np.std(ca_whole_ml['AQI'])\n",
    "ca_whole_ml = ca_whole_ml.loc[ca_whole_ml['AQI']<=max_aqi_ml]"
   ]
  },
  {
   "cell_type": "markdown",
   "metadata": {},
   "source": [
    "Split X and y"
   ]
  },
  {
   "cell_type": "code",
   "execution_count": 6,
   "metadata": {},
   "outputs": [],
   "source": [
    "y_ml = ca_whole_ml.loc[:,['AQI']]\n",
    "X_ml= ca_whole_ml.drop(columns = ['County Name', 'Date Local','Category','AQI'])"
   ]
  },
  {
   "cell_type": "markdown",
   "metadata": {},
   "source": [
    "Split Data for Train(0.9) and Test(0.1)"
   ]
  },
  {
   "cell_type": "code",
   "execution_count": 7,
   "metadata": {},
   "outputs": [],
   "source": [
    "X_train_ml_np, X_test_ml_np, y_train_ml_np, y_test_ml_np = train_test_split(X_ml, y_ml, test_size=0.1)\n",
    "X_train_ml = torch.tensor(X_train_ml_np.values.astype(np.float32))\n",
    "X_test_ml = torch.tensor(X_test_ml_np.values.astype(np.float32))\n",
    "y_train_ml = torch.tensor(y_train_ml_np.values.astype(np.float32))\n",
    "y_test_ml = torch.tensor(y_test_ml_np.values.astype(np.float32))"
   ]
  },
  {
   "cell_type": "markdown",
   "metadata": {},
   "source": [
    "### 3.Create Model"
   ]
  },
  {
   "cell_type": "code",
   "execution_count": 9,
   "metadata": {},
   "outputs": [],
   "source": [
    "# One Hidden Layer of Fully Connected Model\n",
    "class mlmodel(nn.Module):\n",
    "    def __init__(self):\n",
    "        super(mlmodel, self).__init__()\n",
    "        self.fc1   = nn.Linear(18, 10)\n",
    "        self.fc2  = nn.Linear(10, 1)\n",
    "            \n",
    "    def forward(self, y):\n",
    "        y = fun.relu(self.fc1(y))\n",
    "        y = self.fc2(y)\n",
    "        return y\n",
    "def RMSELoss(yhat,y):\n",
    "    return torch.sqrt(torch.mean((yhat-y)**2))"
   ]
  },
  {
   "cell_type": "markdown",
   "metadata": {},
   "source": [
    "### 4.Validation for Learning Rate"
   ]
  },
  {
   "cell_type": "code",
   "execution_count": 11,
   "metadata": {},
   "outputs": [
    {
     "data": {
      "text/plain": [
       "[8.576381773681641,\n",
       " 8.233011893310547,\n",
       " 12.012910510253906,\n",
       " 5.1271369561767575,\n",
       " 4.833795243530274,\n",
       " 6.927354849853517]"
      ]
     },
     "execution_count": 11,
     "metadata": {},
     "output_type": "execute_result"
    }
   ],
   "source": [
    "valid_rmse = [None] * 6\n",
    "learning_rates = [1, 1e-1, 1e-2, 1e-3, 1e-4, 1e-5]\n",
    "\n",
    "for i in range(len(learning_rates)):\n",
    "    rmse = 0\n",
    "    learning_rate = learning_rates[i]\n",
    "    for j in range(5):\n",
    "        model = mlmodel()\n",
    "        # Set up valid train sets\n",
    "        X_valid_train, X_valid, y_valid_train, y_valid = train_test_split(X_train_ml, y_train_ml, test_size=0.2)\n",
    "        for t in range(4000):\n",
    "            # Forward pass\n",
    "            model.eval()\n",
    "            y_pred = model(X_valid_train)\n",
    "\n",
    "            # Compute loss.\n",
    "            loss = RMSELoss(y_pred, y_valid_train)\n",
    "            # Zero gradients\n",
    "            model.zero_grad()\n",
    "\n",
    "            # Backward pass\n",
    "            loss.backward()\n",
    "\n",
    "            # Update weights\n",
    "            with torch.no_grad():\n",
    "                for param in model.parameters():\n",
    "                    param -= learning_rate * param.grad\n",
    "        # Calculate validation rmse\n",
    "        y_pred = model(X_valid)\n",
    "        rmse = (rmse + RMSELoss(y_pred, y_valid).item())/5\n",
    "    # Store validation rmse\n",
    "    valid_rmse[i] = rmse\n",
    "valid_rmse"
   ]
  },
  {
   "cell_type": "code",
   "execution_count": 12,
   "metadata": {},
   "outputs": [
    {
     "data": {
      "text/plain": [
       "0.0001"
      ]
     },
     "execution_count": 12,
     "metadata": {},
     "output_type": "execute_result"
    }
   ],
   "source": [
    "learning_rate = learning_rates[valid_rmse.index(np.min(valid_rmse))]\n",
    "learning_rate"
   ]
  },
  {
   "cell_type": "markdown",
   "metadata": {},
   "source": [
    "By using validation, we could find out that learning rate $=0.0001$ could provide us with the minimum learning rate. So, we will use learning rate $=0.0001$ for the rest training "
   ]
  },
  {
   "cell_type": "markdown",
   "metadata": {},
   "source": [
    "### 5.Train"
   ]
  },
  {
   "cell_type": "code",
   "execution_count": 13,
   "metadata": {},
   "outputs": [],
   "source": [
    "model_ml = mlmodel()\n",
    "train_loss_ml = [None]*4000\n",
    "test_loss_ml = [None]*4000\n",
    "for t in range(4000):\n",
    "    # Forward pass\n",
    "    model.eval()\n",
    "    y_pred_ml = model(X_train_ml)\n",
    "\n",
    "    # Compute loss.\n",
    "    loss_ml = RMSELoss(y_pred_ml, y_train_ml)\n",
    "    # Store Loss\n",
    "    train_loss_ml[t] = loss_ml.item()\n",
    "    test_loss_ml[t] = RMSELoss(model(X_test_ml), y_test_ml).item()\n",
    "    \n",
    "    # Zero the gradients.\n",
    "    model.zero_grad()\n",
    "    \n",
    "    # Backward pass\n",
    "    loss_ml.backward()\n",
    "\n",
    "    # Update weights\n",
    "    with torch.no_grad():\n",
    "        for param in model.parameters():\n",
    "            param -= learning_rate * param.grad"
   ]
  },
  {
   "cell_type": "markdown",
   "metadata": {},
   "source": [
    "### 6.Plots and Analysis of the Result"
   ]
  },
  {
   "cell_type": "markdown",
   "metadata": {},
   "source": [
    "#### 6.1 RMSE vs Training Time"
   ]
  },
  {
   "cell_type": "code",
   "execution_count": 16,
   "metadata": {},
   "outputs": [
    {
     "data": {
      "image/png": "[encoded data removed]",
      "text/plain": [
       "<Figure size 432x288 with 1 Axes>"
      ]
     },
     "metadata": {
      "needs_background": "light"
     },
     "output_type": "display_data"
    }
   ],
   "source": [
    "x_ml = np.arange(4000)\n",
    "plt.plot(x_ml,train_loss_ml)\n",
    "plt.title(\"Machine Learning Model Train RMSE vs Training Time\")\n",
    "plt.xlabel(\"Training Time\")\n",
    "plt.ylabel(\"Train RMSE\")\n",
    "plt.show()"
   ]
  },
  {
   "cell_type": "code",
   "execution_count": 17,
   "metadata": {},
   "outputs": [
    {
     "data": {
      "image/png": "[encoded data removed]",
      "text/plain": [
       "<Figure size 432x288 with 1 Axes>"
      ]
     },
     "metadata": {
      "needs_background": "light"
     },
     "output_type": "display_data"
    }
   ],
   "source": [
    "plt.plot(x_ml,test_loss_ml)\n",
    "plt.title(\"Machine Learning Model Test RMSE vs Training Time\")\n",
    "plt.xlabel(\"Train Time\")\n",
    "plt.ylabel(\"Test RMSE\")\n",
    "plt.show()"
   ]
  },
  {
   "cell_type": "code",
   "execution_count": 18,
   "metadata": {},
   "outputs": [
    {
     "name": "stdout",
     "output_type": "stream",
     "text": [
      "19.095420837402344\n",
      "16.781177520751953\n"
     ]
    }
   ],
   "source": [
    "print(train_loss_ml[-1])\n",
    "print(test_loss_ml[-1])"
   ]
  },
  {
   "cell_type": "markdown",
   "metadata": {},
   "source": [
    "It is clear that with the training time increase, both the Train RMSE and Test RMSE decreaseses. Note that both the Train RMSE and Test RMSE stop decrease dramatically after $1500$ epoches."
   ]
  },
  {
   "cell_type": "markdown",
   "metadata": {},
   "source": [
    "#### 6.2 Residual Analysis"
   ]
  },
  {
   "cell_type": "code",
   "execution_count": 19,
   "metadata": {},
   "outputs": [
    {
     "data": {
      "image/png": "[encoded data removed]",
      "text/plain": [
       "<Figure size 432x288 with 1 Axes>"
      ]
     },
     "metadata": {
      "needs_background": "light"
     },
     "output_type": "display_data"
    }
   ],
   "source": [
    "y_pred_ml = model(X_test_ml)\n",
    "residual_train_ml = y_pred_ml - y_test_ml\n",
    "plt.scatter(y_test_ml.detach().numpy(), residual_train_ml.detach().numpy(), s=5)\n",
    "plt.axhline(0, color ='Red')\n",
    "plt.title(\"Machine Learning Test Residual vs Test AQI\")\n",
    "plt.xlabel(\"Test AQI\")\n",
    "plt.ylabel(\"Test Residual\")\n",
    "plt.ylim([-60,60])\n",
    "plt.show()"
   ]
  },
  {
   "cell_type": "code",
   "execution_count": 20,
   "metadata": {},
   "outputs": [
    {
     "data": {
      "image/png": "[encoded data removed]",
      "text/plain": [
       "<Figure size 432x288 with 1 Axes>"
      ]
     },
     "metadata": {
      "needs_background": "light"
     },
     "output_type": "display_data"
    }
   ],
   "source": [
    "plt.scatter(y_pred_ml.detach().numpy(), y_test_ml.detach().numpy(),s=5)\n",
    "plt.plot(y_test_ml.detach().numpy(),y_test_ml.detach().numpy(), color='red')\n",
    "plt.title(\"Machine Learning Model Test AQI vs Predict AQI\")\n",
    "plt.xlabel(\"Test AQI\")\n",
    "plt.ylabel(\"Predict AQI\")\n",
    "plt.xlim([20, 165])\n",
    "plt.show()"
   ]
  },
  {
   "cell_type": "markdown",
   "metadata": {},
   "source": [
    "The distribution of Test RMSE and Test AQI is random enough that we could say over model does not either underfit or overfit the data.\n",
    "\n",
    "The distribution of Test AQI vs Predict AQI also support this conclusion.\n",
    "\n",
    "The ML model is not influenced by the value of Test AQI."
   ]
  },
  {
   "cell_type": "markdown",
   "metadata": {},
   "source": [
    "#### 6.3 Heat Map Residual"
   ]
  },
  {
   "cell_type": "code",
   "execution_count": 23,
   "metadata": {},
   "outputs": [],
   "source": [
    "def bucket_data_residual(table, aggfunc, resolution):\n",
    "    long_buckets = np.sort(np.linspace(table['Longitude'].min(), table['Longitude'].max(), num = resolution, endpoint = False))\n",
    "    lat_buckets = np.sort(np.linspace(table['Latitude'].min(), table['Latitude'].max(), num=resolution, endpoint=False))\n",
    "    \n",
    "    long_buckets_map = dict(list(zip(long_buckets, np.around(long_buckets,decimals=2))))\n",
    "    lat_buckets_map = dict(list(zip(lat_buckets, np.around(lat_buckets,decimals=2))))\n",
    "    \n",
    "    get_lat_bucket_num = lambda loc: lat_buckets_map.get(lat_buckets[lat_buckets <= loc].max())\n",
    "    get_long_bucket_num = lambda loc: long_buckets_map.get(long_buckets[long_buckets <= loc].max())\n",
    "    \n",
    "    table['lat_bucket'] = table['Latitude'].apply(get_lat_bucket_num)\n",
    "    table['long_bucket'] = table['Longitude'].apply(get_long_bucket_num)\n",
    "    \n",
    "    pivot_cols = ['lat_bucket','long_bucket','residual']\n",
    "    \n",
    "    return pd.pivot_table(table[pivot_cols], index = 'lat_bucket', columns = 'long_bucket', aggfunc = aggfunc)"
   ]
  },
  {
   "cell_type": "code",
   "execution_count": null,
   "metadata": {},
   "outputs": [],
   "source": [
    "residual_train_ml = X_train_ml_np.loc[:,['Latitude', 'Longitude']].copy()\n",
    "residual_train_ml.loc[:,\"residual\"] = (model(X_train_ml)-y_train_ml).detach().numpy().ravel().tolist()\n",
    "heatmap_data = bucket_data_residual(residual_train_ml, np.mean, 40)\n",
    "ax = sns.heatmap(heatmap_data, vmin=-150, vmax=150, cmap = sns.cm.rocket_r)\n",
    "ax.invert_yaxis()\n",
    "plt.title(\"ML Model Train Residual vs Position Heat Map\")\n",
    "plt.show()"
   ]
  },
  {
   "cell_type": "code",
   "execution_count": null,
   "metadata": {},
   "outputs": [],
   "source": [
    "residual_test_ml = X_test_ml_np.loc[:,['Latitude', 'Longitude']].copy()\n",
    "residual_test_ml.loc[:,\"residual\"] = (model(X_test_ml)-y_test_ml).detach().numpy().ravel().tolist()\n",
    "heatmap_data = bucket_data_residual(residual_test_ml, np.mean, 40)\n",
    "ax = sns.heatmap(heatmap_data, vmin=-150, vmax=150, cmap = sns.cm.rocket_r)\n",
    "ax.invert_yaxis()\n",
    "plt.title(\"ML Model Test Residual vs Position Heat Map\")\n",
    "plt.show()"
   ]
  },
  {
   "cell_type": "code",
   "execution_count": null,
   "metadata": {},
   "outputs": [],
   "source": [
    "residual_ml = pd.concat([residual_train_ml, residual_test_ml])\n",
    "heatmap_data = bucket_data_residual(residual_ml, np.mean, 40)\n",
    "ax = sns.heatmap(heatmap_data, vmin=-150, vmax=150, cmap = sns.cm.rocket_r)\n",
    "ax.invert_yaxis()\n",
    "plt.title(\"ML Model Total Residual vs Position Heat Map\")\n",
    "plt.show()"
   ]
  },
  {
   "cell_type": "code",
   "execution_count": null,
   "metadata": {},
   "outputs": [],
   "source": [
    "By viewing the three heat maps above. There is no pattern between residual and position. \n",
    "The negative and positive residual distribute normally.\n",
    "However, in some particular blocks, we could find the residual has a really large abosulute value. For instance, $(33.34-33.65, 116.26-115.89)$ has a residual near $-79$. However, by exploring the data, we did not find any cause of this issue."
   ]
  },
  {
   "cell_type": "markdown",
   "metadata": {},
   "source": [
    "# Supplementary Analysis"
   ]
  },
  {
   "cell_type": "markdown",
   "metadata": {},
   "source": [
    "## Logistic Regression Model"
   ]
  },
  {
   "cell_type": "code",
   "execution_count": null,
   "metadata": {},
   "outputs": [],
   "source": []
  }
 ],
 "metadata": {
  "kernelspec": {
   "display_name": "Python 3",
   "language": "python",
   "name": "python3"
  },
  "language_info": {
   "codemirror_mode": {
    "name": "ipython",
    "version": 3
   },
   "file_extension": ".py",
   "mimetype": "text/x-python",
   "name": "python",
   "nbconvert_exporter": "python",
   "pygments_lexer": "ipython3",
   "version": "3.8.5"
  }
 },
 "nbformat": 4,
 "nbformat_minor": 5
}
