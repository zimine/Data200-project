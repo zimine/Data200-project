{
 "cells": [
  {
   "cell_type": "code",
   "execution_count": 1,
   "id": "29562482",
   "metadata": {},
   "outputs": [],
   "source": [
    "#!pip install geopandas"
   ]
  },
  {
   "cell_type": "code",
   "execution_count": 2,
   "id": "7e9214bb-fdf5-44d1-898d-b70db53131fc",
   "metadata": {},
   "outputs": [],
   "source": [
    "import pandas as pd\n",
    "import numpy as np\n",
    "import seaborn as sns\n",
    "import matplotlib.pyplot as plt\n",
    "import re\n",
    "import geopandas as gpd\n",
    "from pathlib import Path\n",
    "import os\n",
    "import requests, zipfile, io\n",
    "import plotly\n",
    "\n",
    "import warnings\n",
    "warnings.filterwarnings('ignore')"
   ]
  },
  {
   "cell_type": "markdown",
   "id": "75b8592d-3916-4308-a1bd-3ba019629bca",
   "metadata": {},
   "source": [
    "Acknowledgement: Much of this code was helped made from my homework responses to AQI project from Data200 fall 2021. I give credit to the course staff for guiding me in many of these EDA ideas through the problem statements. Any code not provided in class was written by me"
   ]
  },
  {
   "cell_type": "code",
   "execution_count": 289,
   "id": "f8199046-318e-49e2-bf68-217e14f532ae",
   "metadata": {},
   "outputs": [
    {
     "name": "stdout",
     "output_type": "stream",
     "text": [
      "./us_greenhouse_gas_emission_direct_emitter_gas_type.csv\n",
      "./daily_us_weather_2020.csv\n",
      "./2020.csv\n",
      "./us_air_quality_measures.csv\n",
      "./daily_global_weather_2020.csv\n",
      "./us_greenhouse_gas_emissions_direct_emitter_facilities.csv\n",
      "./AQI_Data/epa_filenames.csv\n",
      "./AQI_Data/Traffic_Volumes_AADT.csv\n",
      "./AQI_Data/daily_co/daily_42101_2020.csv\n",
      "['daily_co']\n",
      "./AQI_Data/daily_no2/daily_42602_2020.csv\n",
      "['daily_no2']\n",
      "./AQI_Data/annual_county_aqi/annual_aqi_by_county_2020.csv\n",
      "['annual_county_aqi']\n",
      "./AQI_Data/aqs_sites/aqs_sites.csv\n",
      "['aqs_sites']\n",
      "./AQI_Data/daily_so2/daily_42401_2020.csv\n",
      "['daily_so2']\n",
      "./AQI_Data/daily_wind/daily_TEMP_2020.csv\n",
      "['daily_wind']\n",
      "./AQI_Data/daily_ozone/daily_44201_2020.csv\n",
      "['daily_ozone']\n",
      "./AQI_Data/daily_temp/daily_WIND_2020.csv\n",
      "['daily_temp']\n",
      "./AQI_Data/daily_county_aqi/daily_aqi_by_county_2020.csv\n",
      "['daily_county_aqi']\n",
      "./AQI_Data/previous_data/epa_data_CA_merged.csv\n",
      "['previous_data']\n"
     ]
    }
   ],
   "source": [
    "#works!!\n",
    "epa_data = {}\n",
    "for root,dirs, files in os.walk(\".\",topdown=True):\n",
    "    for name in files:\n",
    "        if name[-4:] == \".csv\":\n",
    "            path = os.path.join(root, name)\n",
    "            data = pd.read_csv(path)\n",
    "            print(path)\n",
    "            if \"./AQI_Data/\" in root:\n",
    "                pattern = r\"./AQI_Data/(\\w+)/\\w+.csv\"\n",
    "                ls_match = re.findall(pattern,str(path))\n",
    "                if \"/.ipynb\" not in root:\n",
    "                    print(ls_match)\n",
    "                    name = ls_match[0]\n",
    "                    epa_data[name] = data\n",
    "            else:\n",
    "                epa_data[name[:-4]] = data"
   ]
  },
  {
   "cell_type": "code",
   "execution_count": 290,
   "id": "77292b26-d480-424b-a8d6-5de501cfd920",
   "metadata": {},
   "outputs": [
    {
     "data": {
      "text/plain": [
       "dict_keys(['us_greenhouse_gas_emission_direct_emitter_gas_type', 'daily_us_weather_2020', '2020', 'us_air_quality_measures', 'daily_global_weather_2020', 'us_greenhouse_gas_emissions_direct_emitter_facilities', 'epa_filenames', 'Traffic_Volumes_AADT', 'daily_co', 'daily_no2', 'annual_county_aqi', 'aqs_sites', 'daily_so2', 'daily_wind', 'daily_ozone', 'daily_temp', 'daily_county_aqi', 'previous_data'])"
      ]
     },
     "execution_count": 290,
     "metadata": {},
     "output_type": "execute_result"
    }
   ],
   "source": [
    "epa_data.keys()"
   ]
  },
  {
   "cell_type": "code",
   "execution_count": 291,
   "id": "e59e33c0-1143-4d38-99ce-3f89f8211e81",
   "metadata": {},
   "outputs": [
    {
     "data": {
      "text/html": [
       "<div>\n",
       "<style scoped>\n",
       "    .dataframe tbody tr th:only-of-type {\n",
       "        vertical-align: middle;\n",
       "    }\n",
       "\n",
       "    .dataframe tbody tr th {\n",
       "        vertical-align: top;\n",
       "    }\n",
       "\n",
       "    .dataframe thead th {\n",
       "        text-align: right;\n",
       "    }\n",
       "</style>\n",
       "<table border=\"1\" class=\"dataframe\">\n",
       "  <thead>\n",
       "    <tr style=\"text-align: right;\">\n",
       "      <th></th>\n",
       "      <th>State Name</th>\n",
       "      <th>county Name</th>\n",
       "      <th>State Code</th>\n",
       "      <th>County Code</th>\n",
       "      <th>Date</th>\n",
       "      <th>AQI</th>\n",
       "      <th>Category</th>\n",
       "      <th>Defining Parameter</th>\n",
       "      <th>Defining Site</th>\n",
       "      <th>Number of Sites Reporting</th>\n",
       "      <th>Month</th>\n",
       "      <th>Day</th>\n",
       "    </tr>\n",
       "  </thead>\n",
       "  <tbody>\n",
       "    <tr>\n",
       "      <th>0</th>\n",
       "      <td>Alabama</td>\n",
       "      <td>Baldwin</td>\n",
       "      <td>1</td>\n",
       "      <td>3</td>\n",
       "      <td>2020-01-01</td>\n",
       "      <td>48</td>\n",
       "      <td>Good</td>\n",
       "      <td>PM2.5</td>\n",
       "      <td>01-003-0010</td>\n",
       "      <td>1</td>\n",
       "      <td>1</td>\n",
       "      <td>1</td>\n",
       "    </tr>\n",
       "    <tr>\n",
       "      <th>1</th>\n",
       "      <td>Alabama</td>\n",
       "      <td>Baldwin</td>\n",
       "      <td>1</td>\n",
       "      <td>3</td>\n",
       "      <td>2020-01-04</td>\n",
       "      <td>13</td>\n",
       "      <td>Good</td>\n",
       "      <td>PM2.5</td>\n",
       "      <td>01-003-0010</td>\n",
       "      <td>1</td>\n",
       "      <td>1</td>\n",
       "      <td>4</td>\n",
       "    </tr>\n",
       "    <tr>\n",
       "      <th>2</th>\n",
       "      <td>Alabama</td>\n",
       "      <td>Baldwin</td>\n",
       "      <td>1</td>\n",
       "      <td>3</td>\n",
       "      <td>2020-01-07</td>\n",
       "      <td>14</td>\n",
       "      <td>Good</td>\n",
       "      <td>PM2.5</td>\n",
       "      <td>01-003-0010</td>\n",
       "      <td>1</td>\n",
       "      <td>1</td>\n",
       "      <td>7</td>\n",
       "    </tr>\n",
       "    <tr>\n",
       "      <th>3</th>\n",
       "      <td>Alabama</td>\n",
       "      <td>Baldwin</td>\n",
       "      <td>1</td>\n",
       "      <td>3</td>\n",
       "      <td>2020-01-10</td>\n",
       "      <td>39</td>\n",
       "      <td>Good</td>\n",
       "      <td>PM2.5</td>\n",
       "      <td>01-003-0010</td>\n",
       "      <td>1</td>\n",
       "      <td>1</td>\n",
       "      <td>10</td>\n",
       "    </tr>\n",
       "    <tr>\n",
       "      <th>4</th>\n",
       "      <td>Alabama</td>\n",
       "      <td>Baldwin</td>\n",
       "      <td>1</td>\n",
       "      <td>3</td>\n",
       "      <td>2020-01-13</td>\n",
       "      <td>29</td>\n",
       "      <td>Good</td>\n",
       "      <td>PM2.5</td>\n",
       "      <td>01-003-0010</td>\n",
       "      <td>1</td>\n",
       "      <td>1</td>\n",
       "      <td>13</td>\n",
       "    </tr>\n",
       "  </tbody>\n",
       "</table>\n",
       "</div>"
      ],
      "text/plain": [
       "  State Name county Name  State Code  County Code        Date  AQI Category  \\\n",
       "0    Alabama     Baldwin           1            3  2020-01-01   48     Good   \n",
       "1    Alabama     Baldwin           1            3  2020-01-04   13     Good   \n",
       "2    Alabama     Baldwin           1            3  2020-01-07   14     Good   \n",
       "3    Alabama     Baldwin           1            3  2020-01-10   39     Good   \n",
       "4    Alabama     Baldwin           1            3  2020-01-13   29     Good   \n",
       "\n",
       "  Defining Parameter Defining Site  Number of Sites Reporting  Month  Day  \n",
       "0              PM2.5   01-003-0010                          1      1    1  \n",
       "1              PM2.5   01-003-0010                          1      1    4  \n",
       "2              PM2.5   01-003-0010                          1      1    7  \n",
       "3              PM2.5   01-003-0010                          1      1   10  \n",
       "4              PM2.5   01-003-0010                          1      1   13  "
      ]
     },
     "execution_count": 291,
     "metadata": {},
     "output_type": "execute_result"
    }
   ],
   "source": [
    "daily_county = epa_data.get('daily_county_aqi')\n",
    "daily_county['Month'] = pd.to_datetime(daily_county['Date']).dt.month\n",
    "daily_county['Day'] = pd.to_datetime(daily_county['Date']).dt.day\n",
    "\n",
    "\n",
    "daily_county.head()"
   ]
  },
  {
   "cell_type": "markdown",
   "id": "1d31dfcc-28a4-48e7-82d6-ea42d593eeff",
   "metadata": {},
   "source": [
    "https://www.epa.gov/outdoor-air-quality-data/about-air-data-reports\n",
    "Site ID:\n",
    "   FIPS state code (2) - FIPS county code (3) - AQS site code (4)\n",
    "e.g 10-003-2004"
   ]
  },
  {
   "cell_type": "code",
   "execution_count": 292,
   "id": "985450b5-536d-41c1-abf1-cfde9e527bd8",
   "metadata": {},
   "outputs": [
    {
     "data": {
      "text/html": [
       "<div>\n",
       "<style scoped>\n",
       "    .dataframe tbody tr th:only-of-type {\n",
       "        vertical-align: middle;\n",
       "    }\n",
       "\n",
       "    .dataframe tbody tr th {\n",
       "        vertical-align: top;\n",
       "    }\n",
       "\n",
       "    .dataframe thead th {\n",
       "        text-align: right;\n",
       "    }\n",
       "</style>\n",
       "<table border=\"1\" class=\"dataframe\">\n",
       "  <thead>\n",
       "    <tr style=\"text-align: right;\">\n",
       "      <th></th>\n",
       "      <th>State Code</th>\n",
       "      <th>County Code</th>\n",
       "      <th>Site Number</th>\n",
       "      <th>Latitude</th>\n",
       "      <th>Longitude</th>\n",
       "      <th>Datum</th>\n",
       "      <th>Elevation</th>\n",
       "      <th>Land Use</th>\n",
       "      <th>Location Setting</th>\n",
       "      <th>Site Established Date</th>\n",
       "      <th>...</th>\n",
       "      <th>Owning Agency</th>\n",
       "      <th>Local Site Name</th>\n",
       "      <th>Address</th>\n",
       "      <th>Zip Code</th>\n",
       "      <th>State Name</th>\n",
       "      <th>County Name</th>\n",
       "      <th>City Name</th>\n",
       "      <th>CBSA Name</th>\n",
       "      <th>Tribe Name</th>\n",
       "      <th>Extraction Date</th>\n",
       "    </tr>\n",
       "  </thead>\n",
       "  <tbody>\n",
       "    <tr>\n",
       "      <th>0</th>\n",
       "      <td>01</td>\n",
       "      <td>1</td>\n",
       "      <td>1</td>\n",
       "      <td>32.437458</td>\n",
       "      <td>-86.472891</td>\n",
       "      <td>WGS84</td>\n",
       "      <td>64.0</td>\n",
       "      <td>RESIDENTIAL</td>\n",
       "      <td>SUBURBAN</td>\n",
       "      <td>1974-05-01</td>\n",
       "      <td>...</td>\n",
       "      <td>Al Dept Of Env Mgt</td>\n",
       "      <td>NaN</td>\n",
       "      <td>KING ARTHUR TRAILER COURT, PRATTVILLE,AL</td>\n",
       "      <td>36067.0</td>\n",
       "      <td>Alabama</td>\n",
       "      <td>Autauga</td>\n",
       "      <td>Prattville</td>\n",
       "      <td>Montgomery, AL</td>\n",
       "      <td>NaN</td>\n",
       "      <td>2021-05-18</td>\n",
       "    </tr>\n",
       "    <tr>\n",
       "      <th>1</th>\n",
       "      <td>01</td>\n",
       "      <td>1</td>\n",
       "      <td>2</td>\n",
       "      <td>32.428470</td>\n",
       "      <td>-86.443585</td>\n",
       "      <td>WGS84</td>\n",
       "      <td>0.0</td>\n",
       "      <td>AGRICULTURAL</td>\n",
       "      <td>RURAL</td>\n",
       "      <td>1980-01-01</td>\n",
       "      <td>...</td>\n",
       "      <td>Al Dept Of Env Mgt</td>\n",
       "      <td>NaN</td>\n",
       "      <td>COUNTY RD 4 PRATTVILLE EXPERIMENT ST</td>\n",
       "      <td>NaN</td>\n",
       "      <td>Alabama</td>\n",
       "      <td>Autauga</td>\n",
       "      <td>Prattville</td>\n",
       "      <td>Montgomery, AL</td>\n",
       "      <td>NaN</td>\n",
       "      <td>2021-05-18</td>\n",
       "    </tr>\n",
       "    <tr>\n",
       "      <th>2</th>\n",
       "      <td>01</td>\n",
       "      <td>1</td>\n",
       "      <td>3</td>\n",
       "      <td>32.332659</td>\n",
       "      <td>-86.791521</td>\n",
       "      <td>WGS84</td>\n",
       "      <td>41.0</td>\n",
       "      <td>FOREST</td>\n",
       "      <td>RURAL</td>\n",
       "      <td>1989-08-31</td>\n",
       "      <td>...</td>\n",
       "      <td>Al Dept Of Env Mgt</td>\n",
       "      <td>NaN</td>\n",
       "      <td>1170 COUNTY RD.15 SO., SELMA, AL. 36701</td>\n",
       "      <td>36003.0</td>\n",
       "      <td>Alabama</td>\n",
       "      <td>Autauga</td>\n",
       "      <td>Not in a City</td>\n",
       "      <td>Montgomery, AL</td>\n",
       "      <td>NaN</td>\n",
       "      <td>2021-05-18</td>\n",
       "    </tr>\n",
       "    <tr>\n",
       "      <th>3</th>\n",
       "      <td>01</td>\n",
       "      <td>3</td>\n",
       "      <td>1</td>\n",
       "      <td>0.000000</td>\n",
       "      <td>0.000000</td>\n",
       "      <td>NAD27</td>\n",
       "      <td>0.0</td>\n",
       "      <td>UNKNOWN</td>\n",
       "      <td>RURAL</td>\n",
       "      <td>1959-01-01</td>\n",
       "      <td>...</td>\n",
       "      <td>US EPA National Exposure Research Lab</td>\n",
       "      <td>NaN</td>\n",
       "      <td>CHANDLER RESIDENCE FT MORGAN STATE PARK</td>\n",
       "      <td>NaN</td>\n",
       "      <td>Alabama</td>\n",
       "      <td>Baldwin</td>\n",
       "      <td>Not in a city</td>\n",
       "      <td>Daphne-Fairhope-Foley, AL</td>\n",
       "      <td>NaN</td>\n",
       "      <td>2021-05-18</td>\n",
       "    </tr>\n",
       "    <tr>\n",
       "      <th>4</th>\n",
       "      <td>01</td>\n",
       "      <td>3</td>\n",
       "      <td>2</td>\n",
       "      <td>30.552367</td>\n",
       "      <td>-87.706911</td>\n",
       "      <td>WGS84</td>\n",
       "      <td>0.0</td>\n",
       "      <td>COMMERCIAL</td>\n",
       "      <td>RURAL</td>\n",
       "      <td>1974-01-01</td>\n",
       "      <td>...</td>\n",
       "      <td>Al Dept Of Env Mgt</td>\n",
       "      <td>NaN</td>\n",
       "      <td>COR PENNSYLVANIA &amp; CHICAGO (ROBERTSDALE)</td>\n",
       "      <td>36567.0</td>\n",
       "      <td>Alabama</td>\n",
       "      <td>Baldwin</td>\n",
       "      <td>Robertsdale</td>\n",
       "      <td>Daphne-Fairhope-Foley, AL</td>\n",
       "      <td>NaN</td>\n",
       "      <td>2021-05-18</td>\n",
       "    </tr>\n",
       "  </tbody>\n",
       "</table>\n",
       "<p>5 rows × 28 columns</p>\n",
       "</div>"
      ],
      "text/plain": [
       "  State Code  County Code  Site Number   Latitude  Longitude  Datum  \\\n",
       "0         01            1            1  32.437458 -86.472891  WGS84   \n",
       "1         01            1            2  32.428470 -86.443585  WGS84   \n",
       "2         01            1            3  32.332659 -86.791521  WGS84   \n",
       "3         01            3            1   0.000000   0.000000  NAD27   \n",
       "4         01            3            2  30.552367 -87.706911  WGS84   \n",
       "\n",
       "   Elevation      Land Use Location Setting Site Established Date  ...  \\\n",
       "0       64.0   RESIDENTIAL         SUBURBAN            1974-05-01  ...   \n",
       "1        0.0  AGRICULTURAL            RURAL            1980-01-01  ...   \n",
       "2       41.0        FOREST            RURAL            1989-08-31  ...   \n",
       "3        0.0       UNKNOWN            RURAL            1959-01-01  ...   \n",
       "4        0.0    COMMERCIAL            RURAL            1974-01-01  ...   \n",
       "\n",
       "                           Owning Agency  Local Site Name  \\\n",
       "0                     Al Dept Of Env Mgt              NaN   \n",
       "1                     Al Dept Of Env Mgt              NaN   \n",
       "2                     Al Dept Of Env Mgt              NaN   \n",
       "3  US EPA National Exposure Research Lab              NaN   \n",
       "4                     Al Dept Of Env Mgt              NaN   \n",
       "\n",
       "                                    Address  Zip Code State Name  County Name  \\\n",
       "0  KING ARTHUR TRAILER COURT, PRATTVILLE,AL   36067.0    Alabama      Autauga   \n",
       "1      COUNTY RD 4 PRATTVILLE EXPERIMENT ST       NaN    Alabama      Autauga   \n",
       "2   1170 COUNTY RD.15 SO., SELMA, AL. 36701   36003.0    Alabama      Autauga   \n",
       "3   CHANDLER RESIDENCE FT MORGAN STATE PARK       NaN    Alabama      Baldwin   \n",
       "4  COR PENNSYLVANIA & CHICAGO (ROBERTSDALE)   36567.0    Alabama      Baldwin   \n",
       "\n",
       "       City Name                  CBSA Name Tribe Name Extraction Date  \n",
       "0     Prattville             Montgomery, AL        NaN      2021-05-18  \n",
       "1     Prattville             Montgomery, AL        NaN      2021-05-18  \n",
       "2  Not in a City             Montgomery, AL        NaN      2021-05-18  \n",
       "3  Not in a city  Daphne-Fairhope-Foley, AL        NaN      2021-05-18  \n",
       "4    Robertsdale  Daphne-Fairhope-Foley, AL        NaN      2021-05-18  \n",
       "\n",
       "[5 rows x 28 columns]"
      ]
     },
     "execution_count": 292,
     "metadata": {},
     "output_type": "execute_result"
    }
   ],
   "source": [
    "epa_data['aqs_sites'].head()#take the lat and longitude info from aqs sites and put in daily_county_aqi"
   ]
  },
  {
   "cell_type": "code",
   "execution_count": 293,
   "id": "5d7f07a1-47a3-432b-bd83-eab01f226915",
   "metadata": {},
   "outputs": [
    {
     "data": {
      "text/plain": [
       "['us_greenhouse_gas_emission_direct_emitter_gas_type',\n",
       " 'daily_us_weather_2020',\n",
       " '2020',\n",
       " 'us_air_quality_measures',\n",
       " 'daily_global_weather_2020',\n",
       " 'us_greenhouse_gas_emissions_direct_emitter_facilities',\n",
       " 'epa_filenames',\n",
       " 'Traffic_Volumes_AADT',\n",
       " 'daily_co',\n",
       " 'daily_no2',\n",
       " 'annual_county_aqi',\n",
       " 'aqs_sites',\n",
       " 'daily_so2',\n",
       " 'daily_wind',\n",
       " 'daily_ozone',\n",
       " 'daily_temp',\n",
       " 'daily_county_aqi',\n",
       " 'previous_data']"
      ]
     },
     "execution_count": 293,
     "metadata": {},
     "output_type": "execute_result"
    }
   ],
   "source": [
    "list(epa_data)"
   ]
  },
  {
   "cell_type": "code",
   "execution_count": 294,
   "id": "77f6e34c-e960-4045-a85c-1b27721f2670",
   "metadata": {},
   "outputs": [
    {
     "name": "stdout",
     "output_type": "stream",
     "text": [
      "daily_us_weather_2020\n",
      "   Unnamed: 0.1  index  Unnamed: 0      Station        Date  TAVG  Latitude  \\\n",
      "0             0    222         222  CA001017099  2020-01-01  73.0   48.7833   \n",
      "1             1    223         223  CA001017101  2020-01-01  98.0   48.7833   \n",
      "2             2    226         226  CA001018611  2020-01-01  88.0   48.0333   \n",
      "3             3    266         266  CA001054503  2020-01-01  39.0   54.2500   \n",
      "4             4    267         267  CA001054500  2020-01-01  58.0   54.2500   \n",
      "\n",
      "   Longitude  Elevation  PRCP Country               City  \n",
      "0  -123.1333      178.0   0.0      US      Point Roberts  \n",
      "1  -123.0500       24.0   0.0      US      Point Roberts  \n",
      "2  -123.3333       70.0   2.0      US  Port Angeles East  \n",
      "3  -133.0667       44.0  37.0      US              Craig  \n",
      "4  -133.0500       43.0  22.0      US              Craig  \n",
      "2020\n",
      "   AE000041196  20200101  TMIN  168 Unnamed: 4 Unnamed: 5  S  Unnamed: 7\n",
      "0  AE000041196  20200101  PRCP    0          D        NaN  S         NaN\n",
      "1  AE000041196  20200101  TAVG  211          H        NaN  S         NaN\n",
      "2  AEM00041194  20200101  PRCP    0        NaN        NaN  S         NaN\n",
      "3  AEM00041194  20200101  TAVG  217          H        NaN  S         NaN\n",
      "4  AEM00041217  20200101  TAVG  205          H        NaN  S         NaN\n"
     ]
    },
    {
     "data": {
      "text/html": [
       "<div>\n",
       "<style scoped>\n",
       "    .dataframe tbody tr th:only-of-type {\n",
       "        vertical-align: middle;\n",
       "    }\n",
       "\n",
       "    .dataframe tbody tr th {\n",
       "        vertical-align: top;\n",
       "    }\n",
       "\n",
       "    .dataframe thead th {\n",
       "        text-align: right;\n",
       "    }\n",
       "</style>\n",
       "<table border=\"1\" class=\"dataframe\">\n",
       "  <thead>\n",
       "    <tr style=\"text-align: right;\">\n",
       "      <th></th>\n",
       "      <th>State Name</th>\n",
       "      <th>county Name</th>\n",
       "      <th>State Code</th>\n",
       "      <th>County Code</th>\n",
       "      <th>Date</th>\n",
       "      <th>AQI</th>\n",
       "      <th>Category</th>\n",
       "      <th>Defining Parameter</th>\n",
       "      <th>Defining Site</th>\n",
       "      <th>Number of Sites Reporting</th>\n",
       "      <th>Month</th>\n",
       "      <th>Day</th>\n",
       "    </tr>\n",
       "  </thead>\n",
       "  <tbody>\n",
       "    <tr>\n",
       "      <th>14003</th>\n",
       "      <td>California</td>\n",
       "      <td>Alameda</td>\n",
       "      <td>6</td>\n",
       "      <td>1</td>\n",
       "      <td>2020-01-01</td>\n",
       "      <td>53</td>\n",
       "      <td>Moderate</td>\n",
       "      <td>PM2.5</td>\n",
       "      <td>06-001-0009</td>\n",
       "      <td>7</td>\n",
       "      <td>1</td>\n",
       "      <td>1</td>\n",
       "    </tr>\n",
       "    <tr>\n",
       "      <th>14004</th>\n",
       "      <td>California</td>\n",
       "      <td>Alameda</td>\n",
       "      <td>6</td>\n",
       "      <td>1</td>\n",
       "      <td>2020-01-02</td>\n",
       "      <td>43</td>\n",
       "      <td>Good</td>\n",
       "      <td>PM2.5</td>\n",
       "      <td>06-001-0013</td>\n",
       "      <td>7</td>\n",
       "      <td>1</td>\n",
       "      <td>2</td>\n",
       "    </tr>\n",
       "    <tr>\n",
       "      <th>14005</th>\n",
       "      <td>California</td>\n",
       "      <td>Alameda</td>\n",
       "      <td>6</td>\n",
       "      <td>1</td>\n",
       "      <td>2020-01-03</td>\n",
       "      <td>74</td>\n",
       "      <td>Moderate</td>\n",
       "      <td>PM2.5</td>\n",
       "      <td>06-001-0013</td>\n",
       "      <td>7</td>\n",
       "      <td>1</td>\n",
       "      <td>3</td>\n",
       "    </tr>\n",
       "    <tr>\n",
       "      <th>14006</th>\n",
       "      <td>California</td>\n",
       "      <td>Alameda</td>\n",
       "      <td>6</td>\n",
       "      <td>1</td>\n",
       "      <td>2020-01-04</td>\n",
       "      <td>45</td>\n",
       "      <td>Good</td>\n",
       "      <td>PM2.5</td>\n",
       "      <td>06-001-0007</td>\n",
       "      <td>7</td>\n",
       "      <td>1</td>\n",
       "      <td>4</td>\n",
       "    </tr>\n",
       "    <tr>\n",
       "      <th>14007</th>\n",
       "      <td>California</td>\n",
       "      <td>Alameda</td>\n",
       "      <td>6</td>\n",
       "      <td>1</td>\n",
       "      <td>2020-01-05</td>\n",
       "      <td>33</td>\n",
       "      <td>Good</td>\n",
       "      <td>PM2.5</td>\n",
       "      <td>06-001-0007</td>\n",
       "      <td>7</td>\n",
       "      <td>1</td>\n",
       "      <td>5</td>\n",
       "    </tr>\n",
       "  </tbody>\n",
       "</table>\n",
       "</div>"
      ],
      "text/plain": [
       "       State Name county Name  State Code  County Code        Date  AQI  \\\n",
       "14003  California     Alameda           6            1  2020-01-01   53   \n",
       "14004  California     Alameda           6            1  2020-01-02   43   \n",
       "14005  California     Alameda           6            1  2020-01-03   74   \n",
       "14006  California     Alameda           6            1  2020-01-04   45   \n",
       "14007  California     Alameda           6            1  2020-01-05   33   \n",
       "\n",
       "       Category Defining Parameter Defining Site  Number of Sites Reporting  \\\n",
       "14003  Moderate              PM2.5   06-001-0009                          7   \n",
       "14004      Good              PM2.5   06-001-0013                          7   \n",
       "14005  Moderate              PM2.5   06-001-0013                          7   \n",
       "14006      Good              PM2.5   06-001-0007                          7   \n",
       "14007      Good              PM2.5   06-001-0007                          7   \n",
       "\n",
       "       Month  Day  \n",
       "14003      1    1  \n",
       "14004      1    2  \n",
       "14005      1    3  \n",
       "14006      1    4  \n",
       "14007      1    5  "
      ]
     },
     "execution_count": 294,
     "metadata": {},
     "output_type": "execute_result"
    }
   ],
   "source": [
    "epa_data_CA = {}\n",
    "keep_out = ['annual_county_aqi','aqs_sites','us_air_quality_measures','us_greenhouse_gas_emission_direct_emitter_gas_type',\\\n",
    "            'us_greenhouse_gas_emissions_direct_emitter_facilities','daily_global_weather_2020','2021','epa_filenames','Traffic_Volumes_AADT']\n",
    "for table in list(epa_data):\n",
    "    if table in keep_out:\n",
    "        continue\n",
    "    elif 'State Name' not in epa_data[table].keys():\n",
    "        print(table)\n",
    "        print(epa_data[table].head())\n",
    "    else:\n",
    "        epa_data_CA[table] = epa_data[table][epa_data[table][\"State Name\"] == 'California']\n",
    "\n",
    "epa_data_CA.get('daily_county_aqi').head()"
   ]
  },
  {
   "cell_type": "code",
   "execution_count": 295,
   "id": "e1ba3704-511e-4fc8-9033-d54b0e519518",
   "metadata": {},
   "outputs": [
    {
     "data": {
      "text/plain": [
       "Index(['State Code', 'County Code', 'Site Number', 'Latitude', 'Longitude',\n",
       "       'Datum', 'Elevation', 'Land Use', 'Location Setting',\n",
       "       'Site Established Date', 'Site Closed Date', 'Met Site State Code',\n",
       "       'Met Site County Code', 'Met Site Site Number', 'Met Site Type',\n",
       "       'Met Site Distance', 'Met Site Direction', 'GMT Offset',\n",
       "       'Owning Agency', 'Local Site Name', 'Address', 'Zip Code', 'State Name',\n",
       "       'County Name', 'City Name', 'CBSA Name', 'Tribe Name',\n",
       "       'Extraction Date'],\n",
       "      dtype='object')"
      ]
     },
     "execution_count": 295,
     "metadata": {},
     "output_type": "execute_result"
    }
   ],
   "source": [
    "# epa_data['annual_county_aqi'].keys()\n",
    "epa_data['aqs_sites'].keys()"
   ]
  },
  {
   "cell_type": "code",
   "execution_count": 387,
   "id": "3c780a30-25e4-4343-b131-88f957c2dd89",
   "metadata": {},
   "outputs": [],
   "source": [
    "cols = ['State Name', 'county Name', 'Month', 'Day', 'AQI', 'Category', 'Defining Site', 'Latitude', 'Longitude']\n",
    "epa_data['aqs_sites']['a'] = epa_data['aqs_sites']['State Code'].astype(str).str.zfill(2)\n",
    "epa_data['aqs_sites']['b'] = epa_data['aqs_sites']['County Code'].astype(str).str.zfill(3)\n",
    "epa_data['aqs_sites']['c'] = epa_data['aqs_sites']['Site Number'].astype(str).str.zfill(4)\n",
    "epa_data['aqs_sites']['Defining Site'] = epa_data['aqs_sites']['a'] + '-' + epa_data['aqs_sites']['b'] + '-' + epa_data['aqs_sites']['c']\n",
    "epa_data_CA_merged = epa_data_CA['daily_county_aqi'].merge(epa_data['aqs_sites'], how='left', left_on='Defining Site', right_on='Defining Site', suffixes=('', '_y'))[cols]\n",
    "\n",
    "epa_data_CA_merged = epa_data_CA_merged.rename(columns={\"county Name\": \"County Name\"})"
   ]
  },
  {
   "cell_type": "code",
   "execution_count": 388,
   "id": "e3716f99",
   "metadata": {},
   "outputs": [
    {
     "data": {
      "text/html": [
       "<div>\n",
       "<style scoped>\n",
       "    .dataframe tbody tr th:only-of-type {\n",
       "        vertical-align: middle;\n",
       "    }\n",
       "\n",
       "    .dataframe tbody tr th {\n",
       "        vertical-align: top;\n",
       "    }\n",
       "\n",
       "    .dataframe thead th {\n",
       "        text-align: right;\n",
       "    }\n",
       "</style>\n",
       "<table border=\"1\" class=\"dataframe\">\n",
       "  <thead>\n",
       "    <tr style=\"text-align: right;\">\n",
       "      <th></th>\n",
       "      <th>State Name</th>\n",
       "      <th>County Name</th>\n",
       "      <th>Month</th>\n",
       "      <th>Day</th>\n",
       "      <th>AQI</th>\n",
       "      <th>Category</th>\n",
       "      <th>Defining Site</th>\n",
       "      <th>Latitude</th>\n",
       "      <th>Longitude</th>\n",
       "    </tr>\n",
       "  </thead>\n",
       "  <tbody>\n",
       "    <tr>\n",
       "      <th>0</th>\n",
       "      <td>California</td>\n",
       "      <td>Alameda</td>\n",
       "      <td>1</td>\n",
       "      <td>1</td>\n",
       "      <td>53</td>\n",
       "      <td>Moderate</td>\n",
       "      <td>06-001-0009</td>\n",
       "      <td>37.743065</td>\n",
       "      <td>-122.169935</td>\n",
       "    </tr>\n",
       "    <tr>\n",
       "      <th>1</th>\n",
       "      <td>California</td>\n",
       "      <td>Alameda</td>\n",
       "      <td>1</td>\n",
       "      <td>2</td>\n",
       "      <td>43</td>\n",
       "      <td>Good</td>\n",
       "      <td>06-001-0013</td>\n",
       "      <td>37.864767</td>\n",
       "      <td>-122.302741</td>\n",
       "    </tr>\n",
       "    <tr>\n",
       "      <th>2</th>\n",
       "      <td>California</td>\n",
       "      <td>Alameda</td>\n",
       "      <td>1</td>\n",
       "      <td>3</td>\n",
       "      <td>74</td>\n",
       "      <td>Moderate</td>\n",
       "      <td>06-001-0013</td>\n",
       "      <td>37.864767</td>\n",
       "      <td>-122.302741</td>\n",
       "    </tr>\n",
       "    <tr>\n",
       "      <th>3</th>\n",
       "      <td>California</td>\n",
       "      <td>Alameda</td>\n",
       "      <td>1</td>\n",
       "      <td>4</td>\n",
       "      <td>45</td>\n",
       "      <td>Good</td>\n",
       "      <td>06-001-0007</td>\n",
       "      <td>37.687526</td>\n",
       "      <td>-121.784217</td>\n",
       "    </tr>\n",
       "    <tr>\n",
       "      <th>4</th>\n",
       "      <td>California</td>\n",
       "      <td>Alameda</td>\n",
       "      <td>1</td>\n",
       "      <td>5</td>\n",
       "      <td>33</td>\n",
       "      <td>Good</td>\n",
       "      <td>06-001-0007</td>\n",
       "      <td>37.687526</td>\n",
       "      <td>-121.784217</td>\n",
       "    </tr>\n",
       "    <tr>\n",
       "      <th>...</th>\n",
       "      <td>...</td>\n",
       "      <td>...</td>\n",
       "      <td>...</td>\n",
       "      <td>...</td>\n",
       "      <td>...</td>\n",
       "      <td>...</td>\n",
       "      <td>...</td>\n",
       "      <td>...</td>\n",
       "      <td>...</td>\n",
       "    </tr>\n",
       "    <tr>\n",
       "      <th>19220</th>\n",
       "      <td>California</td>\n",
       "      <td>Yolo</td>\n",
       "      <td>12</td>\n",
       "      <td>27</td>\n",
       "      <td>20</td>\n",
       "      <td>Good</td>\n",
       "      <td>06-113-0004</td>\n",
       "      <td>38.534450</td>\n",
       "      <td>-121.773400</td>\n",
       "    </tr>\n",
       "    <tr>\n",
       "      <th>19221</th>\n",
       "      <td>California</td>\n",
       "      <td>Yolo</td>\n",
       "      <td>12</td>\n",
       "      <td>28</td>\n",
       "      <td>33</td>\n",
       "      <td>Good</td>\n",
       "      <td>06-113-0004</td>\n",
       "      <td>38.534450</td>\n",
       "      <td>-121.773400</td>\n",
       "    </tr>\n",
       "    <tr>\n",
       "      <th>19222</th>\n",
       "      <td>California</td>\n",
       "      <td>Yolo</td>\n",
       "      <td>12</td>\n",
       "      <td>29</td>\n",
       "      <td>28</td>\n",
       "      <td>Good</td>\n",
       "      <td>06-113-0004</td>\n",
       "      <td>38.534450</td>\n",
       "      <td>-121.773400</td>\n",
       "    </tr>\n",
       "    <tr>\n",
       "      <th>19223</th>\n",
       "      <td>California</td>\n",
       "      <td>Yolo</td>\n",
       "      <td>12</td>\n",
       "      <td>30</td>\n",
       "      <td>39</td>\n",
       "      <td>Good</td>\n",
       "      <td>06-113-0004</td>\n",
       "      <td>38.534450</td>\n",
       "      <td>-121.773400</td>\n",
       "    </tr>\n",
       "    <tr>\n",
       "      <th>19224</th>\n",
       "      <td>California</td>\n",
       "      <td>Yolo</td>\n",
       "      <td>12</td>\n",
       "      <td>31</td>\n",
       "      <td>35</td>\n",
       "      <td>Good</td>\n",
       "      <td>06-113-0004</td>\n",
       "      <td>38.534450</td>\n",
       "      <td>-121.773400</td>\n",
       "    </tr>\n",
       "  </tbody>\n",
       "</table>\n",
       "<p>19225 rows × 9 columns</p>\n",
       "</div>"
      ],
      "text/plain": [
       "       State Name County Name  Month  Day  AQI  Category Defining Site  \\\n",
       "0      California     Alameda      1    1   53  Moderate   06-001-0009   \n",
       "1      California     Alameda      1    2   43      Good   06-001-0013   \n",
       "2      California     Alameda      1    3   74  Moderate   06-001-0013   \n",
       "3      California     Alameda      1    4   45      Good   06-001-0007   \n",
       "4      California     Alameda      1    5   33      Good   06-001-0007   \n",
       "...           ...         ...    ...  ...  ...       ...           ...   \n",
       "19220  California        Yolo     12   27   20      Good   06-113-0004   \n",
       "19221  California        Yolo     12   28   33      Good   06-113-0004   \n",
       "19222  California        Yolo     12   29   28      Good   06-113-0004   \n",
       "19223  California        Yolo     12   30   39      Good   06-113-0004   \n",
       "19224  California        Yolo     12   31   35      Good   06-113-0004   \n",
       "\n",
       "        Latitude   Longitude  \n",
       "0      37.743065 -122.169935  \n",
       "1      37.864767 -122.302741  \n",
       "2      37.864767 -122.302741  \n",
       "3      37.687526 -121.784217  \n",
       "4      37.687526 -121.784217  \n",
       "...          ...         ...  \n",
       "19220  38.534450 -121.773400  \n",
       "19221  38.534450 -121.773400  \n",
       "19222  38.534450 -121.773400  \n",
       "19223  38.534450 -121.773400  \n",
       "19224  38.534450 -121.773400  \n",
       "\n",
       "[19225 rows x 9 columns]"
      ]
     },
     "execution_count": 388,
     "metadata": {},
     "output_type": "execute_result"
    }
   ],
   "source": [
    "epa_data_CA_merged "
   ]
  },
  {
   "cell_type": "code",
   "execution_count": 47,
   "id": "3e54dbba",
   "metadata": {},
   "outputs": [
    {
     "data": {
      "text/html": [
       "<div>\n",
       "<style scoped>\n",
       "    .dataframe tbody tr th:only-of-type {\n",
       "        vertical-align: middle;\n",
       "    }\n",
       "\n",
       "    .dataframe tbody tr th {\n",
       "        vertical-align: top;\n",
       "    }\n",
       "\n",
       "    .dataframe thead th {\n",
       "        text-align: right;\n",
       "    }\n",
       "</style>\n",
       "<table border=\"1\" class=\"dataframe\">\n",
       "  <thead>\n",
       "    <tr style=\"text-align: right;\">\n",
       "      <th></th>\n",
       "      <th>State Name</th>\n",
       "      <th>county Name</th>\n",
       "      <th>State Code</th>\n",
       "      <th>County Code</th>\n",
       "      <th>Date</th>\n",
       "      <th>AQI</th>\n",
       "      <th>Category</th>\n",
       "      <th>Defining Parameter</th>\n",
       "      <th>Defining Site</th>\n",
       "      <th>Number of Sites Reporting</th>\n",
       "      <th>Month</th>\n",
       "      <th>Day</th>\n",
       "    </tr>\n",
       "  </thead>\n",
       "  <tbody>\n",
       "    <tr>\n",
       "      <th>14003</th>\n",
       "      <td>California</td>\n",
       "      <td>Alameda</td>\n",
       "      <td>6</td>\n",
       "      <td>1</td>\n",
       "      <td>2020-01-01</td>\n",
       "      <td>53</td>\n",
       "      <td>Moderate</td>\n",
       "      <td>PM2.5</td>\n",
       "      <td>06-001-0009</td>\n",
       "      <td>7</td>\n",
       "      <td>1</td>\n",
       "      <td>1</td>\n",
       "    </tr>\n",
       "    <tr>\n",
       "      <th>14004</th>\n",
       "      <td>California</td>\n",
       "      <td>Alameda</td>\n",
       "      <td>6</td>\n",
       "      <td>1</td>\n",
       "      <td>2020-01-02</td>\n",
       "      <td>43</td>\n",
       "      <td>Good</td>\n",
       "      <td>PM2.5</td>\n",
       "      <td>06-001-0013</td>\n",
       "      <td>7</td>\n",
       "      <td>1</td>\n",
       "      <td>2</td>\n",
       "    </tr>\n",
       "    <tr>\n",
       "      <th>14005</th>\n",
       "      <td>California</td>\n",
       "      <td>Alameda</td>\n",
       "      <td>6</td>\n",
       "      <td>1</td>\n",
       "      <td>2020-01-03</td>\n",
       "      <td>74</td>\n",
       "      <td>Moderate</td>\n",
       "      <td>PM2.5</td>\n",
       "      <td>06-001-0013</td>\n",
       "      <td>7</td>\n",
       "      <td>1</td>\n",
       "      <td>3</td>\n",
       "    </tr>\n",
       "    <tr>\n",
       "      <th>14006</th>\n",
       "      <td>California</td>\n",
       "      <td>Alameda</td>\n",
       "      <td>6</td>\n",
       "      <td>1</td>\n",
       "      <td>2020-01-04</td>\n",
       "      <td>45</td>\n",
       "      <td>Good</td>\n",
       "      <td>PM2.5</td>\n",
       "      <td>06-001-0007</td>\n",
       "      <td>7</td>\n",
       "      <td>1</td>\n",
       "      <td>4</td>\n",
       "    </tr>\n",
       "    <tr>\n",
       "      <th>14007</th>\n",
       "      <td>California</td>\n",
       "      <td>Alameda</td>\n",
       "      <td>6</td>\n",
       "      <td>1</td>\n",
       "      <td>2020-01-05</td>\n",
       "      <td>33</td>\n",
       "      <td>Good</td>\n",
       "      <td>PM2.5</td>\n",
       "      <td>06-001-0007</td>\n",
       "      <td>7</td>\n",
       "      <td>1</td>\n",
       "      <td>5</td>\n",
       "    </tr>\n",
       "    <tr>\n",
       "      <th>...</th>\n",
       "      <td>...</td>\n",
       "      <td>...</td>\n",
       "      <td>...</td>\n",
       "      <td>...</td>\n",
       "      <td>...</td>\n",
       "      <td>...</td>\n",
       "      <td>...</td>\n",
       "      <td>...</td>\n",
       "      <td>...</td>\n",
       "      <td>...</td>\n",
       "      <td>...</td>\n",
       "      <td>...</td>\n",
       "    </tr>\n",
       "    <tr>\n",
       "      <th>33223</th>\n",
       "      <td>California</td>\n",
       "      <td>Yolo</td>\n",
       "      <td>6</td>\n",
       "      <td>113</td>\n",
       "      <td>2020-12-27</td>\n",
       "      <td>20</td>\n",
       "      <td>Good</td>\n",
       "      <td>Ozone</td>\n",
       "      <td>06-113-0004</td>\n",
       "      <td>2</td>\n",
       "      <td>12</td>\n",
       "      <td>27</td>\n",
       "    </tr>\n",
       "    <tr>\n",
       "      <th>33224</th>\n",
       "      <td>California</td>\n",
       "      <td>Yolo</td>\n",
       "      <td>6</td>\n",
       "      <td>113</td>\n",
       "      <td>2020-12-28</td>\n",
       "      <td>33</td>\n",
       "      <td>Good</td>\n",
       "      <td>Ozone</td>\n",
       "      <td>06-113-0004</td>\n",
       "      <td>2</td>\n",
       "      <td>12</td>\n",
       "      <td>28</td>\n",
       "    </tr>\n",
       "    <tr>\n",
       "      <th>33225</th>\n",
       "      <td>California</td>\n",
       "      <td>Yolo</td>\n",
       "      <td>6</td>\n",
       "      <td>113</td>\n",
       "      <td>2020-12-29</td>\n",
       "      <td>28</td>\n",
       "      <td>Good</td>\n",
       "      <td>Ozone</td>\n",
       "      <td>06-113-0004</td>\n",
       "      <td>3</td>\n",
       "      <td>12</td>\n",
       "      <td>29</td>\n",
       "    </tr>\n",
       "    <tr>\n",
       "      <th>33226</th>\n",
       "      <td>California</td>\n",
       "      <td>Yolo</td>\n",
       "      <td>6</td>\n",
       "      <td>113</td>\n",
       "      <td>2020-12-30</td>\n",
       "      <td>39</td>\n",
       "      <td>Good</td>\n",
       "      <td>PM2.5</td>\n",
       "      <td>06-113-0004</td>\n",
       "      <td>2</td>\n",
       "      <td>12</td>\n",
       "      <td>30</td>\n",
       "    </tr>\n",
       "    <tr>\n",
       "      <th>33227</th>\n",
       "      <td>California</td>\n",
       "      <td>Yolo</td>\n",
       "      <td>6</td>\n",
       "      <td>113</td>\n",
       "      <td>2020-12-31</td>\n",
       "      <td>35</td>\n",
       "      <td>Good</td>\n",
       "      <td>PM2.5</td>\n",
       "      <td>06-113-0004</td>\n",
       "      <td>2</td>\n",
       "      <td>12</td>\n",
       "      <td>31</td>\n",
       "    </tr>\n",
       "  </tbody>\n",
       "</table>\n",
       "<p>19225 rows × 12 columns</p>\n",
       "</div>"
      ],
      "text/plain": [
       "       State Name county Name  State Code  County Code        Date  AQI  \\\n",
       "14003  California     Alameda           6            1  2020-01-01   53   \n",
       "14004  California     Alameda           6            1  2020-01-02   43   \n",
       "14005  California     Alameda           6            1  2020-01-03   74   \n",
       "14006  California     Alameda           6            1  2020-01-04   45   \n",
       "14007  California     Alameda           6            1  2020-01-05   33   \n",
       "...           ...         ...         ...          ...         ...  ...   \n",
       "33223  California        Yolo           6          113  2020-12-27   20   \n",
       "33224  California        Yolo           6          113  2020-12-28   33   \n",
       "33225  California        Yolo           6          113  2020-12-29   28   \n",
       "33226  California        Yolo           6          113  2020-12-30   39   \n",
       "33227  California        Yolo           6          113  2020-12-31   35   \n",
       "\n",
       "       Category Defining Parameter Defining Site  Number of Sites Reporting  \\\n",
       "14003  Moderate              PM2.5   06-001-0009                          7   \n",
       "14004      Good              PM2.5   06-001-0013                          7   \n",
       "14005  Moderate              PM2.5   06-001-0013                          7   \n",
       "14006      Good              PM2.5   06-001-0007                          7   \n",
       "14007      Good              PM2.5   06-001-0007                          7   \n",
       "...         ...                ...           ...                        ...   \n",
       "33223      Good              Ozone   06-113-0004                          2   \n",
       "33224      Good              Ozone   06-113-0004                          2   \n",
       "33225      Good              Ozone   06-113-0004                          3   \n",
       "33226      Good              PM2.5   06-113-0004                          2   \n",
       "33227      Good              PM2.5   06-113-0004                          2   \n",
       "\n",
       "       Month  Day  \n",
       "14003      1    1  \n",
       "14004      1    2  \n",
       "14005      1    3  \n",
       "14006      1    4  \n",
       "14007      1    5  \n",
       "...      ...  ...  \n",
       "33223     12   27  \n",
       "33224     12   28  \n",
       "33225     12   29  \n",
       "33226     12   30  \n",
       "33227     12   31  \n",
       "\n",
       "[19225 rows x 12 columns]"
      ]
     },
     "execution_count": 47,
     "metadata": {},
     "output_type": "execute_result"
    }
   ],
   "source": [
    "epa_data_CA['daily_county_aqi']"
   ]
  },
  {
   "cell_type": "markdown",
   "id": "f990f5ce-0693-443e-8408-5d72b7a0dc3f",
   "metadata": {},
   "source": [
    "## Worst AQI by state"
   ]
  },
  {
   "cell_type": "code",
   "execution_count": 11,
   "id": "ddb7e21e-0d01-4a71-91b8-266e78e988ed",
   "metadata": {},
   "outputs": [
    {
     "name": "stdout",
     "output_type": "stream",
     "text": [
      "Worst Median AQI : \n",
      "State\n",
      "California       48.018868\n",
      "Arizona          47.307692\n",
      "Utah             41.066667\n",
      "Connecticut      39.125000\n",
      "Delaware         38.000000\n",
      "Mississippi      37.200000\n",
      "New Jersey       36.937500\n",
      "Massachusetts    36.538462\n",
      "Nevada           36.222222\n",
      "Pennsylvania     35.756098\n",
      "Name: Average Median AQI, dtype: float64\n",
      "\n",
      "Worst Max AQI : \n",
      "State\n",
      "Oregon          430.347826\n",
      "Washington      334.419355\n",
      "California      286.981132\n",
      "Arizona         238.230769\n",
      "Idaho           197.857143\n",
      "Wyoming         196.666667\n",
      "Nevada          196.666667\n",
      "Montana         137.421053\n",
      "Rhode Island    133.000000\n",
      "Connecticut     124.750000\n",
      "Name: Average Max AQI, dtype: float64\n"
     ]
    },
    {
     "data": {
      "text/plain": [
       "array([48.02, 47.31, 41.07, 39.12, 38.  , 37.2 , 36.94, 36.54, 36.22,\n",
       "       35.76])"
      ]
     },
     "execution_count": 11,
     "metadata": {},
     "output_type": "execute_result"
    }
   ],
   "source": [
    "worst_median_aqis = epa_data['annual_county_aqi'].groupby('State').mean('Median AQI').sort_values('Median AQI', ascending=False)[['Median AQI']].rename(columns={'Median AQI':'Average Median AQI'}).drop(['Country Of Mexico','District Of Columbia'])['Average Median AQI'].head(10)\n",
    "#worst_max_aqis =  epa_data['annual_county_aqi'].groupby('State').mean('Max AQI').sort_values('Max AQI', ascending=False)[['Max AQI']].rename(columns={'Max AQI':'Average Max AQI'}).drop(['Country Of Mexico','District Of Columbia']).head(10)\n",
    "worst_max_aqis = epa_data['annual_county_aqi'].groupby('State').mean('Max AQI').sort_values('Max AQI', ascending=False)[['Max AQI']].rename(columns={'Max AQI':'Average Max AQI'}).drop(['Country Of Mexico','District Of Columbia','Puerto Rico'])['Average Max AQI'].head(10)\n",
    "print(\"Worst Median AQI : \\n{}\\n\".format(worst_median_aqis))\n",
    "print(\"Worst Max AQI : \\n{}\".format(worst_max_aqis))\n",
    "np.round(list(worst_max_aqis), 2)\n",
    "np.round(list(worst_median_aqis), 2)"
   ]
  },
  {
   "cell_type": "markdown",
   "id": "e62c3dd6-53dc-4c7a-b17a-8106bacad4bd",
   "metadata": {},
   "source": [
    "California, Arizona, Connecticut, and Nevada are in both top 10 lists. This signifies that the air quality in those states is worst overall. They are on both lists likely because of persistent wildfires and industrial emissions."
   ]
  },
  {
   "cell_type": "markdown",
   "id": "c87e4bf7-1942-48d0-b172-5c4138a70e4e",
   "metadata": {},
   "source": [
    "## Missing AQI Data"
   ]
  },
  {
   "cell_type": "markdown",
   "id": "d15c5ef0-da58-48b8-9566-f0b85b8075de",
   "metadata": {},
   "source": [
    "series that contains the state as the index and the average number of days with AQI entries across all counties in that state as the value"
   ]
  },
  {
   "cell_type": "code",
   "execution_count": 12,
   "id": "47374b6f-5fd4-4113-8cf3-b2db5f4f2c5a",
   "metadata": {},
   "outputs": [
    {
     "data": {
      "text/plain": [
       "Index(['State', 'County', 'Year', 'Days with AQI', 'Good Days',\n",
       "       'Moderate Days', 'Unhealthy for Sensitive Groups Days',\n",
       "       'Unhealthy Days', 'Very Unhealthy Days', 'Hazardous Days', 'Max AQI',\n",
       "       '90th Percentile AQI', 'Median AQI', 'Days CO', 'Days NO2',\n",
       "       'Days Ozone', 'Days SO2', 'Days PM2.5', 'Days PM10'],\n",
       "      dtype='object')"
      ]
     },
     "execution_count": 12,
     "metadata": {},
     "output_type": "execute_result"
    }
   ],
   "source": [
    "epa_data['annual_county_aqi'].keys() # Days with AQI"
   ]
  },
  {
   "cell_type": "code",
   "execution_count": 13,
   "id": "ed50f31f-8821-406f-a361-aa239b6d723e",
   "metadata": {},
   "outputs": [
    {
     "data": {
      "text/plain": [
       "State\n",
       "Alaska        235.222222\n",
       "Arkansas      251.545455\n",
       "New Mexico    264.062500\n",
       "Virginia      265.303030\n",
       "Colorado      278.892857\n",
       "Name: Days with AQI, dtype: float64"
      ]
     },
     "execution_count": 13,
     "metadata": {},
     "output_type": "execute_result"
    }
   ],
   "source": [
    "days_with_AQI = epa_data['annual_county_aqi'].groupby('State').mean('Days with AQI')['Days with AQI'].sort_values(ascending=True).drop(['Country Of Mexico','District Of Columbia','Puerto Rico','Virgin Islands'])\n",
    "days_with_AQI.head()"
   ]
  },
  {
   "cell_type": "code",
   "execution_count": 14,
   "id": "e2764ad5-c478-4aba-8300-aa87436ee1a7",
   "metadata": {},
   "outputs": [
    {
     "data": {
      "text/plain": [
       "54    274\n",
       "96    331\n",
       "63    351\n",
       "98    353\n",
       "49    359\n",
       "76    360\n",
       "51    364\n",
       "57    364\n",
       "72    365\n",
       "79    366\n",
       "81    366\n",
       "82    366\n",
       "83    366\n",
       "84    366\n",
       "85    366\n",
       "80    366\n",
       "86    366\n",
       "48    366\n",
       "88    366\n",
       "78    366\n",
       "Name: Days with AQI, dtype: int64"
      ]
     },
     "execution_count": 14,
     "metadata": {},
     "output_type": "execute_result"
    }
   ],
   "source": [
    "ca_annual_data = epa_data.get('annual_county_aqi')[epa_data.get('annual_county_aqi')['State'] == 'California']\n",
    "ca_aqi_days = ca_annual_data['Days with AQI'].sort_values()\n",
    "ca_aqi_days.head(20)"
   ]
  },
  {
   "cell_type": "code",
   "execution_count": 15,
   "id": "b9119f7f-6625-4feb-ad59-822f61ac8e29",
   "metadata": {},
   "outputs": [
    {
     "data": {
      "text/plain": [
       "{'Del Norte': Index(['2020-01-15', '2020-01-16', '2020-01-17', '2020-01-18', '2020-01-20',\n",
       "        '2020-01-21', '2020-01-23', '2020-03-14', '2020-03-15', '2020-04-22',\n",
       "        '2020-04-23', '2020-04-25', '2020-04-26', '2020-04-28', '2020-04-29',\n",
       "        '2020-05-01', '2020-05-02', '2020-05-04', '2020-05-05', '2020-05-07',\n",
       "        '2020-05-08', '2020-05-10', '2020-05-11', '2020-05-13', '2020-05-14',\n",
       "        '2020-05-16', '2020-05-17', '2020-05-19', '2020-05-20', '2020-05-22',\n",
       "        '2020-05-23', '2020-05-25', '2020-05-26', '2020-05-28', '2020-05-29',\n",
       "        '2020-05-31', '2020-06-01', '2020-06-02', '2020-06-03', '2020-06-04',\n",
       "        '2020-06-05', '2020-06-06', '2020-06-07', '2020-06-08', '2020-06-09',\n",
       "        '2020-06-10', '2020-06-11', '2020-06-12', '2020-06-13', '2020-06-14',\n",
       "        '2020-06-15', '2020-06-16', '2020-06-17', '2020-06-18', '2020-06-19',\n",
       "        '2020-06-20', '2020-06-21', '2020-06-22', '2020-06-23', '2020-06-24',\n",
       "        '2020-06-25', '2020-06-26', '2020-06-27', '2020-06-28', '2020-06-29',\n",
       "        '2020-06-30', '2020-07-01', '2020-07-02', '2020-07-03', '2020-07-04',\n",
       "        '2020-07-05', '2020-07-06', '2020-07-07', '2020-07-08', '2020-07-09',\n",
       "        '2020-07-10', '2020-07-11', '2020-07-12', '2020-07-13', '2020-07-14',\n",
       "        '2020-07-15', '2020-07-16', '2020-07-17', '2020-07-18', '2020-07-19',\n",
       "        '2020-07-20', '2020-07-21', '2020-09-13', '2020-09-14', '2020-09-15',\n",
       "        '2020-12-02', '2020-12-03'],\n",
       "       dtype='object'),\n",
       " 'Trinity': Index(['2020-01-29', '2020-02-28', '2020-02-29', '2020-03-02', '2020-03-03',\n",
       "        '2020-07-01', '2020-07-02', '2020-07-03', '2020-07-04', '2020-07-05',\n",
       "        '2020-07-06', '2020-07-08', '2020-07-09', '2020-07-10', '2020-07-11',\n",
       "        '2020-07-12', '2020-07-13', '2020-07-14', '2020-07-23', '2020-07-24',\n",
       "        '2020-07-25', '2020-07-26', '2020-07-27', '2020-07-28', '2020-07-29',\n",
       "        '2020-07-30', '2020-07-31', '2020-08-01', '2020-08-02', '2020-08-03',\n",
       "        '2020-08-13', '2020-09-27', '2020-09-28', '2020-12-01', '2020-12-02'],\n",
       "       dtype='object'),\n",
       " 'Lake': Index(['2020-02-04', '2020-02-05', '2020-02-29', '2020-04-24', '2020-05-04',\n",
       "        '2020-05-05', '2020-05-06', '2020-05-07', '2020-06-16', '2020-06-17',\n",
       "        '2020-08-17', '2020-08-22', '2020-08-23', '2020-08-24', '2020-10-21'],\n",
       "       dtype='object'),\n",
       " 'Tuolumne': Index(['2020-01-08', '2020-01-26', '2020-01-27', '2020-01-28', '2020-01-29',\n",
       "        '2020-01-30', '2020-01-31', '2020-02-01', '2020-02-02', '2020-02-03',\n",
       "        '2020-09-07', '2020-09-08', '2020-10-25'],\n",
       "       dtype='object'),\n",
       " 'Amador': Index(['2020-01-04', '2020-01-05', '2020-01-06', '2020-01-07', '2020-08-24',\n",
       "        '2020-10-17', '2020-10-18'],\n",
       "       dtype='object'),\n",
       " 'Plumas': Index(['2020-01-06', '2020-02-16', '2020-02-25', '2020-02-26', '2020-02-28',\n",
       "        '2020-02-29'],\n",
       "       dtype='object'),\n",
       " 'Calaveras': Index(['2020-06-04', '2020-09-21'], dtype='object'),\n",
       " 'Glenn': Index(['2020-11-08', '2020-11-11'], dtype='object'),\n",
       " 'Napa': Index(['2020-11-04'], dtype='object')}"
      ]
     },
     "execution_count": 15,
     "metadata": {},
     "output_type": "execute_result"
    }
   ],
   "source": [
    "county_to_missing_dates = {}\n",
    "\n",
    "interested = ca_aqi_days[ca_aqi_days != 366]\n",
    "\n",
    "for idx in interested.index:\n",
    "    county = ca_annual_data.loc[idx]['County']\n",
    "    evaluate = epa_data_CA['daily_county_aqi'][epa_data_CA['daily_county_aqi']['county Name'] == county]\n",
    "    evaluate.set_index('Date',inplace=True)\n",
    "    evaluate.index = pd.to_datetime(evaluate.index)\n",
    "    dates = pd.date_range(start = '2020-01-01',end='2020-12-31').difference(evaluate.index).strftime('%Y-%m-%d')\n",
    "    county_to_missing_dates[county] = dates\n",
    "\n",
    "county_to_missing_dates"
   ]
  },
  {
   "cell_type": "markdown",
   "id": "31919b41-546e-4d11-b587-d07e4a742793",
   "metadata": {},
   "source": [
    "Major missing dates in common were: February 29, 2020 (Count = 3), as well as July 1, 2020 through July 14, 2020.  Del Norte and Trinity counties had the most missing dates, perhaps because the wildfires occuring in those counties had some AQI values omitted."
   ]
  },
  {
   "cell_type": "markdown",
   "id": "54a8b636-5236-4292-8ab5-13cc3252268d",
   "metadata": {},
   "source": [
    "## AQI over time"
   ]
  },
  {
   "cell_type": "code",
   "execution_count": 16,
   "id": "2f856c1d-42c5-4644-861a-d713700579ba",
   "metadata": {},
   "outputs": [
    {
     "name": "stdout",
     "output_type": "stream",
     "text": [
      "AQI per Month: \n",
      "Month\n",
      "1     31.032050\n",
      "2     32.258621\n",
      "3     34.509181\n",
      "4     37.287264\n",
      "5     36.273464\n",
      "6     40.533681\n",
      "7     40.070404\n",
      "8     41.252281\n",
      "9     43.290611\n",
      "10    35.285558\n",
      "11    34.184020\n",
      "12    34.990632\n",
      "Name: AQI, dtype: float64\n",
      "\n",
      "AQI per Month California : \n",
      "Month\n",
      "1      46.346888\n",
      "2      47.110236\n",
      "3      40.114094\n",
      "4      41.443462\n",
      "5      49.538319\n",
      "6      47.996146\n",
      "7      56.069375\n",
      "8      79.960220\n",
      "9     107.020228\n",
      "10     75.491763\n",
      "11     52.070573\n",
      "12     53.645516\n",
      "Name: AQI, dtype: float64\n"
     ]
    }
   ],
   "source": [
    "aqi_per_month = epa_data['daily_county_aqi'].groupby(\"Month\").mean()[\"AQI\"]\n",
    "aqi_per_month_CA = epa_data_CA['daily_county_aqi'].groupby(\"Month\").mean()[\"AQI\"]\n",
    "print(\"AQI per Month: \\n{}\\n\".format(aqi_per_month))\n",
    "print(\"AQI per Month California : \\n{}\".format(aqi_per_month_CA))"
   ]
  },
  {
   "cell_type": "code",
   "execution_count": 17,
   "id": "0a866970-d3a5-4a54-aded-b5c9f0ee174e",
   "metadata": {},
   "outputs": [],
   "source": [
    "aqi_per_month = aqi_per_month.rename('AQI_all')\n",
    "aqi_per_month_CA = aqi_per_month_CA.rename('AQI_CA')"
   ]
  },
  {
   "cell_type": "code",
   "execution_count": 18,
   "id": "6c65b221-0e78-4d7e-b900-5a2f3737c0e0",
   "metadata": {},
   "outputs": [
    {
     "data": {
      "text/html": [
       "<div>\n",
       "<style scoped>\n",
       "    .dataframe tbody tr th:only-of-type {\n",
       "        vertical-align: middle;\n",
       "    }\n",
       "\n",
       "    .dataframe tbody tr th {\n",
       "        vertical-align: top;\n",
       "    }\n",
       "\n",
       "    .dataframe thead th {\n",
       "        text-align: right;\n",
       "    }\n",
       "</style>\n",
       "<table border=\"1\" class=\"dataframe\">\n",
       "  <thead>\n",
       "    <tr style=\"text-align: right;\">\n",
       "      <th></th>\n",
       "      <th>AQI_all</th>\n",
       "      <th>AQI_CA</th>\n",
       "    </tr>\n",
       "    <tr>\n",
       "      <th>Month</th>\n",
       "      <th></th>\n",
       "      <th></th>\n",
       "    </tr>\n",
       "  </thead>\n",
       "  <tbody>\n",
       "    <tr>\n",
       "      <th>1</th>\n",
       "      <td>31.032050</td>\n",
       "      <td>46.346888</td>\n",
       "    </tr>\n",
       "    <tr>\n",
       "      <th>2</th>\n",
       "      <td>32.258621</td>\n",
       "      <td>47.110236</td>\n",
       "    </tr>\n",
       "    <tr>\n",
       "      <th>3</th>\n",
       "      <td>34.509181</td>\n",
       "      <td>40.114094</td>\n",
       "    </tr>\n",
       "    <tr>\n",
       "      <th>4</th>\n",
       "      <td>37.287264</td>\n",
       "      <td>41.443462</td>\n",
       "    </tr>\n",
       "    <tr>\n",
       "      <th>5</th>\n",
       "      <td>36.273464</td>\n",
       "      <td>49.538319</td>\n",
       "    </tr>\n",
       "    <tr>\n",
       "      <th>6</th>\n",
       "      <td>40.533681</td>\n",
       "      <td>47.996146</td>\n",
       "    </tr>\n",
       "    <tr>\n",
       "      <th>7</th>\n",
       "      <td>40.070404</td>\n",
       "      <td>56.069375</td>\n",
       "    </tr>\n",
       "    <tr>\n",
       "      <th>8</th>\n",
       "      <td>41.252281</td>\n",
       "      <td>79.960220</td>\n",
       "    </tr>\n",
       "    <tr>\n",
       "      <th>9</th>\n",
       "      <td>43.290611</td>\n",
       "      <td>107.020228</td>\n",
       "    </tr>\n",
       "    <tr>\n",
       "      <th>10</th>\n",
       "      <td>35.285558</td>\n",
       "      <td>75.491763</td>\n",
       "    </tr>\n",
       "    <tr>\n",
       "      <th>11</th>\n",
       "      <td>34.184020</td>\n",
       "      <td>52.070573</td>\n",
       "    </tr>\n",
       "    <tr>\n",
       "      <th>12</th>\n",
       "      <td>34.990632</td>\n",
       "      <td>53.645516</td>\n",
       "    </tr>\n",
       "  </tbody>\n",
       "</table>\n",
       "</div>"
      ],
      "text/plain": [
       "         AQI_all      AQI_CA\n",
       "Month                       \n",
       "1      31.032050   46.346888\n",
       "2      32.258621   47.110236\n",
       "3      34.509181   40.114094\n",
       "4      37.287264   41.443462\n",
       "5      36.273464   49.538319\n",
       "6      40.533681   47.996146\n",
       "7      40.070404   56.069375\n",
       "8      41.252281   79.960220\n",
       "9      43.290611  107.020228\n",
       "10     35.285558   75.491763\n",
       "11     34.184020   52.070573\n",
       "12     34.990632   53.645516"
      ]
     },
     "execution_count": 18,
     "metadata": {},
     "output_type": "execute_result"
    }
   ],
   "source": [
    "aqi_per_month_df = pd.concat([aqi_per_month,aqi_per_month_CA], axis=1)\n",
    "aqi_per_month_df"
   ]
  },
  {
   "cell_type": "code",
   "execution_count": 19,
   "id": "ac6955c3-2f90-470f-b17c-6afa52831f85",
   "metadata": {},
   "outputs": [
    {
     "data": {
      "text/plain": [
       "<AxesSubplot:xlabel='Month', ylabel='AQI_all'>"
      ]
     },
     "execution_count": 19,
     "metadata": {},
     "output_type": "execute_result"
    },
    {
     "data": {
      "image/png": "[encoded data removed]",
      "text/plain": [
       "<Figure size 432x288 with 1 Axes>"
      ]
     },
     "metadata": {
      "needs_background": "light"
     },
     "output_type": "display_data"
    }
   ],
   "source": [
    "sns.scatterplot(x='Month',y='AQI_all',data=aqi_per_month_df)"
   ]
  },
  {
   "cell_type": "code",
   "execution_count": 20,
   "id": "b9fac611-46e4-489d-90e7-f8d45eced54c",
   "metadata": {},
   "outputs": [
    {
     "data": {
      "image/png": "[encoded data removed]",
      "text/plain": [
       "<Figure size 432x288 with 1 Axes>"
      ]
     },
     "metadata": {
      "needs_background": "light"
     },
     "output_type": "display_data"
    }
   ],
   "source": [
    "x = list(range(1,13))\n",
    "y = aqi_per_month\n",
    "plt.bar(x,y,label='all')\n",
    "plt.bar(x,aqi_per_month_CA,label='CA')\n",
    "plt.xlabel(\"Month\")\n",
    "plt.ylabel(\"AQI\")\n",
    "plt.title(\"aqi per month\")\n",
    "plt.legend()\n",
    "plt.show()"
   ]
  },
  {
   "cell_type": "code",
   "execution_count": 21,
   "id": "9d552bd9-8de5-44f3-bf88-81ae8aa2c9f9",
   "metadata": {},
   "outputs": [
    {
     "data": {
      "image/png": "[encoded data removed]",
      "text/plain": [
       "<Figure size 432x288 with 1 Axes>"
      ]
     },
     "metadata": {
      "needs_background": "light"
     },
     "output_type": "display_data"
    }
   ],
   "source": [
    "labels = ['1', '2', '3', '4', '5','6','7','8','9','10','11','12']\n",
    "\n",
    "x = np.arange(len(labels))  # the label locations\n",
    "width = 0.35  # the width of the bars\n",
    "\n",
    "fig, ax = plt.subplots()\n",
    "rects1 = ax.bar(x - width/2, aqi_per_month, width, label='AQI USA')\n",
    "rects2 = ax.bar(x + width/2, aqi_per_month_CA, width, label='AQI CA')\n",
    "\n",
    "# Add some text for labels, title and custom x-axis tick labels, etc.\n",
    "ax.set_ylabel('AQI')\n",
    "ax.set_title('AQI per month')\n",
    "ax.set_xticks(x, labels)\n",
    "ax.legend()\n",
    "\n",
    "# ax.bar_label(rects1, padding=3)\n",
    "# ax.bar_label(rects2, padding=3)\n",
    "\n",
    "fig.tight_layout()\n",
    "\n",
    "plt.show()"
   ]
  },
  {
   "cell_type": "markdown",
   "id": "1802e371-1f64-4573-9e29-2ee35a22d44d",
   "metadata": {},
   "source": [
    "We can see that the average AQI per month in the state of california is on average higher than the average for all US states. This is probably because CA has more wildfires on average compared to the rest of the USA. "
   ]
  },
  {
   "cell_type": "code",
   "execution_count": 22,
   "id": "240cdba2-cf41-4654-a5cc-d5e19de7376e",
   "metadata": {
    "tags": []
   },
   "outputs": [],
   "source": [
    "aqi_per_month_df1 = pd.DataFrame([aqi_per_month,aqi_per_month_CA])\n",
    "aqi_per_month_df1 = aqi_per_month_df1.reset_index()"
   ]
  },
  {
   "cell_type": "code",
   "execution_count": 23,
   "id": "9b3557c6-572e-4aaa-ad68-adfbee94fcc5",
   "metadata": {
    "tags": []
   },
   "outputs": [
    {
     "data": {
      "text/html": [
       "<div>\n",
       "<style scoped>\n",
       "    .dataframe tbody tr th:only-of-type {\n",
       "        vertical-align: middle;\n",
       "    }\n",
       "\n",
       "    .dataframe tbody tr th {\n",
       "        vertical-align: top;\n",
       "    }\n",
       "\n",
       "    .dataframe thead th {\n",
       "        text-align: right;\n",
       "    }\n",
       "</style>\n",
       "<table border=\"1\" class=\"dataframe\">\n",
       "  <thead>\n",
       "    <tr style=\"text-align: right;\">\n",
       "      <th>Month</th>\n",
       "      <th>index</th>\n",
       "      <th>1</th>\n",
       "      <th>2</th>\n",
       "      <th>3</th>\n",
       "      <th>4</th>\n",
       "      <th>5</th>\n",
       "      <th>6</th>\n",
       "      <th>7</th>\n",
       "      <th>8</th>\n",
       "      <th>9</th>\n",
       "      <th>10</th>\n",
       "      <th>11</th>\n",
       "      <th>12</th>\n",
       "    </tr>\n",
       "  </thead>\n",
       "  <tbody>\n",
       "    <tr>\n",
       "      <th>0</th>\n",
       "      <td>AQI_all</td>\n",
       "      <td>31.032050</td>\n",
       "      <td>32.258621</td>\n",
       "      <td>34.509181</td>\n",
       "      <td>37.287264</td>\n",
       "      <td>36.273464</td>\n",
       "      <td>40.533681</td>\n",
       "      <td>40.070404</td>\n",
       "      <td>41.252281</td>\n",
       "      <td>43.290611</td>\n",
       "      <td>35.285558</td>\n",
       "      <td>34.184020</td>\n",
       "      <td>34.990632</td>\n",
       "    </tr>\n",
       "    <tr>\n",
       "      <th>1</th>\n",
       "      <td>AQI_CA</td>\n",
       "      <td>46.346888</td>\n",
       "      <td>47.110236</td>\n",
       "      <td>40.114094</td>\n",
       "      <td>41.443462</td>\n",
       "      <td>49.538319</td>\n",
       "      <td>47.996146</td>\n",
       "      <td>56.069375</td>\n",
       "      <td>79.960220</td>\n",
       "      <td>107.020228</td>\n",
       "      <td>75.491763</td>\n",
       "      <td>52.070573</td>\n",
       "      <td>53.645516</td>\n",
       "    </tr>\n",
       "  </tbody>\n",
       "</table>\n",
       "</div>"
      ],
      "text/plain": [
       "Month    index          1          2          3          4          5  \\\n",
       "0      AQI_all  31.032050  32.258621  34.509181  37.287264  36.273464   \n",
       "1       AQI_CA  46.346888  47.110236  40.114094  41.443462  49.538319   \n",
       "\n",
       "Month          6          7          8           9         10         11  \\\n",
       "0      40.533681  40.070404  41.252281   43.290611  35.285558  34.184020   \n",
       "1      47.996146  56.069375  79.960220  107.020228  75.491763  52.070573   \n",
       "\n",
       "Month         12  \n",
       "0      34.990632  \n",
       "1      53.645516  "
      ]
     },
     "execution_count": 23,
     "metadata": {},
     "output_type": "execute_result"
    }
   ],
   "source": [
    "aqi_per_month_df1 "
   ]
  },
  {
   "cell_type": "code",
   "execution_count": 24,
   "id": "000d6d4b-2d8e-4087-afb8-641d2ed94a30",
   "metadata": {
    "tags": []
   },
   "outputs": [
    {
     "data": {
      "text/plain": [
       "<AxesSubplot:xlabel='Month'>"
      ]
     },
     "execution_count": 24,
     "metadata": {},
     "output_type": "execute_result"
    },
    {
     "data": {
      "image/png": "[encoded data removed]",
      "text/plain": [
       "<Figure size 432x288 with 1 Axes>"
      ]
     },
     "metadata": {
      "needs_background": "light"
     },
     "output_type": "display_data"
    }
   ],
   "source": [
    "sns.barplot(data=aqi_per_month_df1)"
   ]
  },
  {
   "cell_type": "code",
   "execution_count": 25,
   "id": "65f2760d-44d7-4298-b6dc-5b111366536f",
   "metadata": {},
   "outputs": [
    {
     "data": {
      "text/html": [
       "<div>\n",
       "<style scoped>\n",
       "    .dataframe tbody tr th:only-of-type {\n",
       "        vertical-align: middle;\n",
       "    }\n",
       "\n",
       "    .dataframe tbody tr th {\n",
       "        vertical-align: top;\n",
       "    }\n",
       "\n",
       "    .dataframe thead th {\n",
       "        text-align: right;\n",
       "    }\n",
       "</style>\n",
       "<table border=\"1\" class=\"dataframe\">\n",
       "  <thead>\n",
       "    <tr style=\"text-align: right;\">\n",
       "      <th></th>\n",
       "      <th>State</th>\n",
       "      <th>County</th>\n",
       "      <th>Year</th>\n",
       "      <th>Days with AQI</th>\n",
       "      <th>Good Days</th>\n",
       "      <th>Moderate Days</th>\n",
       "      <th>Unhealthy for Sensitive Groups Days</th>\n",
       "      <th>Unhealthy Days</th>\n",
       "      <th>Very Unhealthy Days</th>\n",
       "      <th>Hazardous Days</th>\n",
       "      <th>Max AQI</th>\n",
       "      <th>90th Percentile AQI</th>\n",
       "      <th>Median AQI</th>\n",
       "      <th>Days CO</th>\n",
       "      <th>Days NO2</th>\n",
       "      <th>Days Ozone</th>\n",
       "      <th>Days SO2</th>\n",
       "      <th>Days PM2.5</th>\n",
       "      <th>Days PM10</th>\n",
       "    </tr>\n",
       "  </thead>\n",
       "  <tbody>\n",
       "    <tr>\n",
       "      <th>0</th>\n",
       "      <td>Alabama</td>\n",
       "      <td>Baldwin</td>\n",
       "      <td>2020</td>\n",
       "      <td>269</td>\n",
       "      <td>250</td>\n",
       "      <td>19</td>\n",
       "      <td>0</td>\n",
       "      <td>0</td>\n",
       "      <td>0</td>\n",
       "      <td>0</td>\n",
       "      <td>74</td>\n",
       "      <td>49</td>\n",
       "      <td>36</td>\n",
       "      <td>0</td>\n",
       "      <td>0</td>\n",
       "      <td>198</td>\n",
       "      <td>0</td>\n",
       "      <td>71</td>\n",
       "      <td>0</td>\n",
       "    </tr>\n",
       "    <tr>\n",
       "      <th>1</th>\n",
       "      <td>Alabama</td>\n",
       "      <td>Clay</td>\n",
       "      <td>2020</td>\n",
       "      <td>108</td>\n",
       "      <td>99</td>\n",
       "      <td>9</td>\n",
       "      <td>0</td>\n",
       "      <td>0</td>\n",
       "      <td>0</td>\n",
       "      <td>0</td>\n",
       "      <td>86</td>\n",
       "      <td>49</td>\n",
       "      <td>26</td>\n",
       "      <td>0</td>\n",
       "      <td>0</td>\n",
       "      <td>0</td>\n",
       "      <td>0</td>\n",
       "      <td>108</td>\n",
       "      <td>0</td>\n",
       "    </tr>\n",
       "    <tr>\n",
       "      <th>2</th>\n",
       "      <td>Alabama</td>\n",
       "      <td>DeKalb</td>\n",
       "      <td>2020</td>\n",
       "      <td>364</td>\n",
       "      <td>350</td>\n",
       "      <td>14</td>\n",
       "      <td>0</td>\n",
       "      <td>0</td>\n",
       "      <td>0</td>\n",
       "      <td>0</td>\n",
       "      <td>90</td>\n",
       "      <td>45</td>\n",
       "      <td>36</td>\n",
       "      <td>0</td>\n",
       "      <td>0</td>\n",
       "      <td>331</td>\n",
       "      <td>0</td>\n",
       "      <td>33</td>\n",
       "      <td>0</td>\n",
       "    </tr>\n",
       "    <tr>\n",
       "      <th>3</th>\n",
       "      <td>Alabama</td>\n",
       "      <td>Elmore</td>\n",
       "      <td>2020</td>\n",
       "      <td>197</td>\n",
       "      <td>197</td>\n",
       "      <td>0</td>\n",
       "      <td>0</td>\n",
       "      <td>0</td>\n",
       "      <td>0</td>\n",
       "      <td>0</td>\n",
       "      <td>47</td>\n",
       "      <td>41</td>\n",
       "      <td>31</td>\n",
       "      <td>0</td>\n",
       "      <td>0</td>\n",
       "      <td>197</td>\n",
       "      <td>0</td>\n",
       "      <td>0</td>\n",
       "      <td>0</td>\n",
       "    </tr>\n",
       "    <tr>\n",
       "      <th>4</th>\n",
       "      <td>Alabama</td>\n",
       "      <td>Etowah</td>\n",
       "      <td>2020</td>\n",
       "      <td>278</td>\n",
       "      <td>260</td>\n",
       "      <td>18</td>\n",
       "      <td>0</td>\n",
       "      <td>0</td>\n",
       "      <td>0</td>\n",
       "      <td>0</td>\n",
       "      <td>92</td>\n",
       "      <td>46</td>\n",
       "      <td>34</td>\n",
       "      <td>0</td>\n",
       "      <td>0</td>\n",
       "      <td>204</td>\n",
       "      <td>0</td>\n",
       "      <td>74</td>\n",
       "      <td>0</td>\n",
       "    </tr>\n",
       "  </tbody>\n",
       "</table>\n",
       "</div>"
      ],
      "text/plain": [
       "     State   County  Year  Days with AQI  Good Days  Moderate Days  \\\n",
       "0  Alabama  Baldwin  2020            269        250             19   \n",
       "1  Alabama     Clay  2020            108         99              9   \n",
       "2  Alabama   DeKalb  2020            364        350             14   \n",
       "3  Alabama   Elmore  2020            197        197              0   \n",
       "4  Alabama   Etowah  2020            278        260             18   \n",
       "\n",
       "   Unhealthy for Sensitive Groups Days  Unhealthy Days  Very Unhealthy Days  \\\n",
       "0                                    0               0                    0   \n",
       "1                                    0               0                    0   \n",
       "2                                    0               0                    0   \n",
       "3                                    0               0                    0   \n",
       "4                                    0               0                    0   \n",
       "\n",
       "   Hazardous Days  Max AQI  90th Percentile AQI  Median AQI  Days CO  \\\n",
       "0               0       74                   49          36        0   \n",
       "1               0       86                   49          26        0   \n",
       "2               0       90                   45          36        0   \n",
       "3               0       47                   41          31        0   \n",
       "4               0       92                   46          34        0   \n",
       "\n",
       "   Days NO2  Days Ozone  Days SO2  Days PM2.5  Days PM10  \n",
       "0         0         198         0          71          0  \n",
       "1         0           0         0         108          0  \n",
       "2         0         331         0          33          0  \n",
       "3         0         197         0           0          0  \n",
       "4         0         204         0          74          0  "
      ]
     },
     "execution_count": 25,
     "metadata": {},
     "output_type": "execute_result"
    }
   ],
   "source": [
    "epa_data['annual_county_aqi'].head()"
   ]
  },
  {
   "cell_type": "code",
   "execution_count": 26,
   "id": "231ac06d-0fcf-4db5-b552-94ccb56e281a",
   "metadata": {},
   "outputs": [],
   "source": [
    "#looks like data is only from 2020"
   ]
  },
  {
   "cell_type": "markdown",
   "id": "6342f7d6-3f9d-41a3-87d8-5ee914551e11",
   "metadata": {},
   "source": [
    "If I were to use a parametric function to model the AQI over a year using the pattern shown for 2020, I would use a gaussian function maybe. If I were to assume that we see a linear increase in the average AQI per year I would add a linear term such that $$f(x) = a e^{-\\frac{x^2}{2c^2}} + d*x$$ where x is the independent variable of time."
   ]
  },
  {
   "cell_type": "code",
   "execution_count": 27,
   "id": "ce87cac2-e60e-4cb9-9f8d-642fd354c784",
   "metadata": {},
   "outputs": [
    {
     "ename": "ModuleNotFoundError",
     "evalue": "No module named 'cartopy'",
     "output_type": "error",
     "traceback": [
      "\u001b[0;31m---------------------------------------------------------------------------\u001b[0m",
      "\u001b[0;31mModuleNotFoundError\u001b[0m                       Traceback (most recent call last)",
      "Input \u001b[0;32mIn [27]\u001b[0m, in \u001b[0;36m<cell line: 5>\u001b[0;34m()\u001b[0m\n\u001b[1;32m      2\u001b[0m \u001b[38;5;28;01mimport\u001b[39;00m \u001b[38;5;21;01mmatplotlib\u001b[39;00m\u001b[38;5;21;01m.\u001b[39;00m\u001b[38;5;21;01mpyplot\u001b[39;00m \u001b[38;5;28;01mas\u001b[39;00m \u001b[38;5;21;01mplt\u001b[39;00m\n\u001b[1;32m      3\u001b[0m \u001b[38;5;28;01mimport\u001b[39;00m \u001b[38;5;21;01mshapely\u001b[39;00m\u001b[38;5;21;01m.\u001b[39;00m\u001b[38;5;21;01mgeometry\u001b[39;00m \u001b[38;5;28;01mas\u001b[39;00m \u001b[38;5;21;01msgeom\u001b[39;00m\n\u001b[0;32m----> 5\u001b[0m \u001b[38;5;28;01mimport\u001b[39;00m \u001b[38;5;21;01mcartopy\u001b[39;00m\u001b[38;5;21;01m.\u001b[39;00m\u001b[38;5;21;01mcrs\u001b[39;00m \u001b[38;5;28;01mas\u001b[39;00m \u001b[38;5;21;01mccrs\u001b[39;00m\n\u001b[1;32m      6\u001b[0m \u001b[38;5;28;01mimport\u001b[39;00m \u001b[38;5;21;01mcartopy\u001b[39;00m\u001b[38;5;21;01m.\u001b[39;00m\u001b[38;5;21;01mio\u001b[39;00m\u001b[38;5;21;01m.\u001b[39;00m\u001b[38;5;21;01mshapereader\u001b[39;00m \u001b[38;5;28;01mas\u001b[39;00m \u001b[38;5;21;01mshpreader\u001b[39;00m\n\u001b[1;32m      9\u001b[0m \u001b[38;5;28;01mdef\u001b[39;00m \u001b[38;5;21msample_data\u001b[39m():\n",
      "\u001b[0;31mModuleNotFoundError\u001b[0m: No module named 'cartopy'"
     ]
    }
   ],
   "source": [
    "import matplotlib.patches as mpatches\n",
    "import matplotlib.pyplot as plt\n",
    "import shapely.geometry as sgeom\n",
    "\n",
    "import cartopy.crs as ccrs\n",
    "import cartopy.io.shapereader as shpreader\n",
    "\n",
    "\n",
    "def sample_data():\n",
    "    \"\"\"\n",
    "    Return a list of latitudes and a list of longitudes (lons, lats)\n",
    "    for Hurricane Katrina (2005).\n",
    "\n",
    "    The data was originally sourced from the HURDAT2 dataset from AOML/NOAA:\n",
    "    https://www.aoml.noaa.gov/hrd/hurdat/newhurdat-all.html on 14th Dec 2012.\n",
    "\n",
    "    \"\"\"\n",
    "    lons = [-75.1, -75.7, -76.2, -76.5, -76.9, -77.7, -78.4, -79.0,\n",
    "            -79.6, -80.1, -80.3, -81.3, -82.0, -82.6, -83.3, -84.0,\n",
    "            -84.7, -85.3, -85.9, -86.7, -87.7, -88.6, -89.2, -89.6,\n",
    "            -89.6, -89.6, -89.6, -89.6, -89.1, -88.6, -88.0, -87.0,\n",
    "            -85.3, -82.9]\n",
    "\n",
    "    lats = [23.1, 23.4, 23.8, 24.5, 25.4, 26.0, 26.1, 26.2, 26.2, 26.0,\n",
    "            25.9, 25.4, 25.1, 24.9, 24.6, 24.4, 24.4, 24.5, 24.8, 25.2,\n",
    "            25.7, 26.3, 27.2, 28.2, 29.3, 29.5, 30.2, 31.1, 32.6, 34.1,\n",
    "            35.6, 37.0, 38.6, 40.1]\n",
    "\n",
    "    return lons, lats\n",
    "\n",
    "\n",
    "def main():\n",
    "    fig = plt.figure()\n",
    "    # to get the effect of having just the states without a map \"background\"\n",
    "    # turn off the background patch and axes frame\n",
    "    ax = fig.add_axes([0, 0, 1, 1], projection=ccrs.LambertConformal(),\n",
    "                      frameon=False)\n",
    "    ax.patch.set_visible(False)\n",
    "\n",
    "    ax.set_extent([-125, -66.5, 20, 50], ccrs.Geodetic())\n",
    "\n",
    "    shapename = 'admin_1_states_provinces_lakes'\n",
    "    states_shp = shpreader.natural_earth(resolution='110m',\n",
    "                                         category='cultural', name=shapename)\n",
    "\n",
    "    lons, lats = sample_data()\n",
    "\n",
    "    ax.set_title('US States which intersect the track of '\n",
    "                 'Hurricane Katrina (2005)')\n",
    "\n",
    "    # turn the lons and lats into a shapely LineString\n",
    "    track = sgeom.LineString(zip(lons, lats))\n",
    "\n",
    "    # buffer the linestring by two degrees (note: this is a non-physical\n",
    "    # distance)\n",
    "    track_buffer = track.buffer(2)\n",
    "\n",
    "    def colorize_state(geometry):\n",
    "        facecolor = (0.9375, 0.9375, 0.859375)\n",
    "        if geometry.intersects(track):\n",
    "            facecolor = 'red'\n",
    "        elif geometry.intersects(track_buffer):\n",
    "            facecolor = '#FF7E00'\n",
    "        return {'facecolor': facecolor, 'edgecolor': 'black'}\n",
    "\n",
    "    ax.add_geometries(\n",
    "        shpreader.Reader(states_shp).geometries(),\n",
    "        ccrs.PlateCarree(),\n",
    "        styler=colorize_state)\n",
    "\n",
    "    ax.add_geometries([track_buffer], ccrs.PlateCarree(),\n",
    "                      facecolor='#C8A2C8', alpha=0.5)\n",
    "    ax.add_geometries([track], ccrs.PlateCarree(),\n",
    "                      facecolor='none', edgecolor='k')\n",
    "\n",
    "    # make two proxy artists to add to a legend\n",
    "    direct_hit = mpatches.Rectangle((0, 0), 1, 1, facecolor=\"red\")\n",
    "    within_2_deg = mpatches.Rectangle((0, 0), 1, 1, facecolor=\"#FF7E00\")\n",
    "    labels = ['State directly intersects\\nwith track',\n",
    "              'State is within \\n2 degrees of track']\n",
    "    ax.legend([direct_hit, within_2_deg], labels,\n",
    "              loc='lower left', bbox_to_anchor=(0.025, -0.1), fancybox=True)\n",
    "\n",
    "    plt.show()"
   ]
  },
  {
   "cell_type": "markdown",
   "id": "e82eea4a-78ce-4247-95dd-d82b6698a05e",
   "metadata": {},
   "source": [
    "come back to this later"
   ]
  },
  {
   "cell_type": "code",
   "execution_count": 28,
   "id": "5c328564-adb5-4134-aae2-8e528c616428",
   "metadata": {},
   "outputs": [
    {
     "data": {
      "text/html": [
       "<div>\n",
       "<style scoped>\n",
       "    .dataframe tbody tr th:only-of-type {\n",
       "        vertical-align: middle;\n",
       "    }\n",
       "\n",
       "    .dataframe tbody tr th {\n",
       "        vertical-align: top;\n",
       "    }\n",
       "\n",
       "    .dataframe thead tr th {\n",
       "        text-align: left;\n",
       "    }\n",
       "\n",
       "    .dataframe thead tr:last-of-type th {\n",
       "        text-align: right;\n",
       "    }\n",
       "</style>\n",
       "<table border=\"1\" class=\"dataframe\">\n",
       "  <thead>\n",
       "    <tr>\n",
       "      <th></th>\n",
       "      <th colspan=\"5\" halign=\"left\">AQI</th>\n",
       "    </tr>\n",
       "    <tr>\n",
       "      <th>long_bucket</th>\n",
       "      <th>-124.20</th>\n",
       "      <th>-122.28</th>\n",
       "      <th>-120.36</th>\n",
       "      <th>-118.44</th>\n",
       "      <th>-116.52</th>\n",
       "    </tr>\n",
       "    <tr>\n",
       "      <th>lat_bucket</th>\n",
       "      <th></th>\n",
       "      <th></th>\n",
       "      <th></th>\n",
       "      <th></th>\n",
       "      <th></th>\n",
       "    </tr>\n",
       "  </thead>\n",
       "  <tbody>\n",
       "    <tr>\n",
       "      <th>32.58</th>\n",
       "      <td>NaN</td>\n",
       "      <td>NaN</td>\n",
       "      <td>65.317391</td>\n",
       "      <td>87.059645</td>\n",
       "      <td>67.955508</td>\n",
       "    </tr>\n",
       "    <tr>\n",
       "      <th>34.41</th>\n",
       "      <td>NaN</td>\n",
       "      <td>50.221983</td>\n",
       "      <td>67.597970</td>\n",
       "      <td>74.442308</td>\n",
       "      <td>58.294118</td>\n",
       "    </tr>\n",
       "    <tr>\n",
       "      <th>36.25</th>\n",
       "      <td>42.792276</td>\n",
       "      <td>51.489882</td>\n",
       "      <td>81.094254</td>\n",
       "      <td>74.704918</td>\n",
       "      <td>NaN</td>\n",
       "    </tr>\n",
       "    <tr>\n",
       "      <th>38.08</th>\n",
       "      <td>38.934803</td>\n",
       "      <td>53.699484</td>\n",
       "      <td>48.977778</td>\n",
       "      <td>NaN</td>\n",
       "      <td>NaN</td>\n",
       "    </tr>\n",
       "    <tr>\n",
       "      <th>39.92</th>\n",
       "      <td>38.790792</td>\n",
       "      <td>55.207065</td>\n",
       "      <td>NaN</td>\n",
       "      <td>NaN</td>\n",
       "      <td>NaN</td>\n",
       "    </tr>\n",
       "  </tbody>\n",
       "</table>\n",
       "</div>"
      ],
      "text/plain": [
       "                   AQI                                            \n",
       "long_bucket    -124.20    -122.28    -120.36    -118.44    -116.52\n",
       "lat_bucket                                                        \n",
       "32.58              NaN        NaN  65.317391  87.059645  67.955508\n",
       "34.41              NaN  50.221983  67.597970  74.442308  58.294118\n",
       "36.25        42.792276  51.489882  81.094254  74.704918        NaN\n",
       "38.08        38.934803  53.699484  48.977778        NaN        NaN\n",
       "39.92        38.790792  55.207065        NaN        NaN        NaN"
      ]
     },
     "execution_count": 28,
     "metadata": {},
     "output_type": "execute_result"
    }
   ],
   "source": [
    "def bucket_data(table, aggfunc, resolution):\n",
    "    long_buckets = np.sort(np.linspace(table['Longitude'].min(), table['Longitude'].max(), num = resolution, endpoint = False))\n",
    "    lat_buckets = np.sort(np.linspace(table['Latitude'].min(), table['Latitude'].max(), num=resolution, endpoint=False))\n",
    "    \n",
    "    long_buckets_map = dict(list(zip(long_buckets, np.around(long_buckets,decimals=2))))\n",
    "    lat_buckets_map = dict(list(zip(lat_buckets, np.around(lat_buckets,decimals=2))))\n",
    "    \n",
    "    get_lat_bucket_num = lambda loc: lat_buckets_map.get(lat_buckets[lat_buckets <= loc].max())\n",
    "    get_long_bucket_num = lambda loc: long_buckets_map.get(long_buckets[long_buckets <= loc].max())\n",
    "    \n",
    "    table['lat_bucket'] = table['Latitude'].apply(get_lat_bucket_num)\n",
    "    table['long_bucket'] = table['Longitude'].apply(get_long_bucket_num)\n",
    "    \n",
    "    pivot_cols = ['lat_bucket','long_bucket','AQI']\n",
    "    \n",
    "    return pd.pivot_table(table[pivot_cols], index = 'lat_bucket', columns = 'long_bucket', aggfunc = aggfunc)\n",
    "    \n",
    "bucket_data(epa_data_CA_merged, np.mean, 5)"
   ]
  },
  {
   "cell_type": "code",
   "execution_count": 29,
   "id": "2f46bd07-f4ed-405f-b940-eeffa1738f2f",
   "metadata": {},
   "outputs": [
    {
     "data": {
      "text/plain": [
       "nan"
      ]
     },
     "execution_count": 29,
     "metadata": {},
     "output_type": "execute_result"
    }
   ],
   "source": [
    "bd = bucket_data(epa_data_CA_merged, np.mean, 5)\n",
    "bd.iloc[0,0]"
   ]
  },
  {
   "cell_type": "code",
   "execution_count": 30,
   "id": "d84dfe56-6273-4cd1-9c9d-027e5047a4fd",
   "metadata": {},
   "outputs": [
    {
     "data": {
      "image/png": "[encoded data removed]",
      "text/plain": [
       "<Figure size 1080x576 with 2 Axes>"
      ]
     },
     "metadata": {
      "needs_background": "light"
     },
     "output_type": "display_data"
    }
   ],
   "source": [
    "heatmap_data = bucket_data(epa_data_CA_merged[epa_data_CA_merged['Month']==9], np.median, 30)\n",
    "\n",
    "#create visualization\n",
    "plt.figure(figsize=(15, 8))\n",
    "ax = sns.heatmap(heatmap_data, vmin=0, vmax=230, cmap = sns.cm.rocket_r)\n",
    "ax.invert_yaxis()\n",
    "plt.show()"
   ]
  },
  {
   "cell_type": "markdown",
   "id": "e68f170d-3178-4aad-8203-4f2570af5b9f",
   "metadata": {},
   "source": [
    "The heatmap roughly looks like the outline of California, and the dark areas represent eastern California historically affected by wildfires, typically mountainous regions with lots of vegetation."
   ]
  },
  {
   "cell_type": "code",
   "execution_count": 42,
   "id": "68a218c6-7595-4892-ba99-9f12b3616059",
   "metadata": {},
   "outputs": [
    {
     "name": "stdout",
     "output_type": "stream",
     "text": [
      "0.8730477899307385\n",
      "0.6073127281702171\n",
      "0.46838911539136174\n",
      "0.7715462609616611\n",
      "0.5789854885348934\n",
      "0.4485534797991734\n",
      "-0.8676596061217506\n",
      "0.8512839095028797\n"
     ]
    },
    {
     "data": {
      "application/vnd.plotly.v1+json": {
       "config": {
        "plotlyServerURL": "https://plot.ly"
       },
       "data": [
        {
         "hovertemplate": "pc1=%{x}<br>pc2=%{y}<br>point=%{text}<extra></extra>",
         "legendgroup": "",
         "marker": {
          "color": "#636efa",
          "symbol": "circle"
         },
         "mode": "markers+text",
         "name": "",
         "orientation": "v",
         "showlegend": false,
         "text": [
          "Alameda",
          "Amador",
          "Butte",
          "Calaveras",
          "Colusa",
          "Contra Costa",
          "Del Norte",
          "El Dorado",
          "Fresno",
          "Glenn",
          "Humboldt",
          "Imperial",
          "Inyo",
          "Kern",
          "Kings",
          "Lake",
          "Los Angeles",
          "Madera",
          "Marin",
          "Mariposa",
          "Mendocino",
          "Merced",
          "Mono",
          "Monterey",
          "Napa",
          "Nevada",
          "Orange",
          "Placer",
          "Plumas",
          "Riverside",
          "Sacramento",
          "San Benito",
          "San Bernardino",
          "San Diego",
          "San Francisco",
          "San Joaquin",
          "San Luis Obispo",
          "San Mateo",
          "Santa Barbara",
          "Santa Clara",
          "Santa Cruz",
          "Shasta",
          "Siskiyou",
          "Solano",
          "Sonoma",
          "Stanislaus",
          "Sutter",
          "Tehama",
          "Trinity",
          "Tulare",
          "Tuolumne",
          "Ventura",
          "Yolo"
         ],
         "textposition": "top center",
         "type": "scatter",
         "x": [
          0.09764360377034009,
          -1.1428311435460499,
          -0.014623494248827609,
          -0.6635600372971187,
          -1.46012690989815,
          0.3810898206116569,
          -4.109983791444545,
          -0.5509538659521664,
          2.695808592384935,
          -1.3808414927867592,
          -2.536144710707377,
          3.8102505954960986,
          0.9686261810353423,
          2.831786961826714,
          1.35576751254043,
          -1.8949855988909432,
          3.8527559903620388,
          0.7766587794225309,
          -1.1998204685922056,
          0.2039183229735555,
          -2.672766024537304,
          0.3939937622922603,
          -1.3623804301751448,
          -0.26425016599696693,
          -1.17708637829047,
          -1.3148069489486511,
          2.896404724882698,
          0.06961687762206342,
          -2.4906879125404933,
          4.10506322312069,
          0.7601684681732486,
          -0.6461241247115749,
          5.354275284341995,
          3.4401936021747277,
          -0.790832954483538,
          0.4881183222338169,
          0.5822143383538173,
          -0.8136955540701322,
          0.5301880981057808,
          0.9149482416730089,
          -1.2883212580439594,
          -1.6978025928229414,
          -2.891544587264908,
          -0.13058957767015997,
          -1.6773827838693804,
          0.9337016241684742,
          -0.3150812934683833,
          -1.163197533033762,
          -3.7308445339373093,
          2.1614517618876095,
          -0.5714622407478609,
          1.1457260736359072,
          -0.7976423551128311
         ],
         "xaxis": "x",
         "y": [
          2.8747462895503304,
          -1.0982601982314228,
          -0.12821945943185153,
          -1.4109620963490777,
          -1.1401024026022277,
          3.9240962552887955,
          0.9468646766309791,
          -1.6231998018677198,
          1.2708910933114144,
          -1.1835656584703578,
          2.070937931608175,
          -0.03755765030880121,
          -1.2562556829183107,
          -0.3992491298038258,
          -1.133679261583484,
          -0.8888340179259678,
          0.6373242639368759,
          -1.1831008152555622,
          1.668631315281315,
          -1.966128921892767,
          0.2026663501552789,
          -1.0376336777022908,
          -0.55452185442865,
          -0.14501239459196857,
          1.5348422836962798,
          -0.66037697040067,
          0.37680917607262293,
          -1.1286787475923732,
          0.4413159655529636,
          -0.20863711139665972,
          1.1608198188298873,
          -1.3085516635476393,
          1.3197357062445265,
          0.051324755447958184,
          1.7471751812875722,
          0.2619693051299678,
          -0.7129068207465146,
          1.9199457243814215,
          -0.698634747778529,
          1.6140233682687564,
          -0.9590567284427364,
          -0.9483410040669297,
          0.08217222563162808,
          2.8443625630877536,
          1.5228388926839278,
          0.30259537098901607,
          -1.0359371466332747,
          -1.559053398523065,
          0.8068253408372577,
          -1.4476202729408,
          -1.5015540502772338,
          -1.3602955210388974,
          -0.8669866471550313
         ],
         "yaxis": "y"
        }
       ],
       "layout": {
        "legend": {
         "tracegroupgap": 0
        },
        "margin": {
         "t": 60
        },
        "template": {
         "data": {
          "bar": [
           {
            "error_x": {
             "color": "#2a3f5f"
            },
            "error_y": {
             "color": "#2a3f5f"
            },
            "marker": {
             "line": {
              "color": "#E5ECF6",
              "width": 0.5
             },
             "pattern": {
              "fillmode": "overlay",
              "size": 10,
              "solidity": 0.2
             }
            },
            "type": "bar"
           }
          ],
          "barpolar": [
           {
            "marker": {
             "line": {
              "color": "#E5ECF6",
              "width": 0.5
             },
             "pattern": {
              "fillmode": "overlay",
              "size": 10,
              "solidity": 0.2
             }
            },
            "type": "barpolar"
           }
          ],
          "carpet": [
           {
            "aaxis": {
             "endlinecolor": "#2a3f5f",
             "gridcolor": "white",
             "linecolor": "white",
             "minorgridcolor": "white",
             "startlinecolor": "#2a3f5f"
            },
            "baxis": {
             "endlinecolor": "#2a3f5f",
             "gridcolor": "white",
             "linecolor": "white",
             "minorgridcolor": "white",
             "startlinecolor": "#2a3f5f"
            },
            "type": "carpet"
           }
          ],
          "choropleth": [
           {
            "colorbar": {
             "outlinewidth": 0,
             "ticks": ""
            },
            "type": "choropleth"
           }
          ],
          "contour": [
           {
            "colorbar": {
             "outlinewidth": 0,
             "ticks": ""
            },
            "colorscale": [
             [
              0,
              "#0d0887"
             ],
             [
              0.1111111111111111,
              "#46039f"
             ],
             [
              0.2222222222222222,
              "#7201a8"
             ],
             [
              0.3333333333333333,
              "#9c179e"
             ],
             [
              0.4444444444444444,
              "#bd3786"
             ],
             [
              0.5555555555555556,
              "#d8576b"
             ],
             [
              0.6666666666666666,
              "#ed7953"
             ],
             [
              0.7777777777777778,
              "#fb9f3a"
             ],
             [
              0.8888888888888888,
              "#fdca26"
             ],
             [
              1,
              "#f0f921"
             ]
            ],
            "type": "contour"
           }
          ],
          "contourcarpet": [
           {
            "colorbar": {
             "outlinewidth": 0,
             "ticks": ""
            },
            "type": "contourcarpet"
           }
          ],
          "heatmap": [
           {
            "colorbar": {
             "outlinewidth": 0,
             "ticks": ""
            },
            "colorscale": [
             [
              0,
              "#0d0887"
             ],
             [
              0.1111111111111111,
              "#46039f"
             ],
             [
              0.2222222222222222,
              "#7201a8"
             ],
             [
              0.3333333333333333,
              "#9c179e"
             ],
             [
              0.4444444444444444,
              "#bd3786"
             ],
             [
              0.5555555555555556,
              "#d8576b"
             ],
             [
              0.6666666666666666,
              "#ed7953"
             ],
             [
              0.7777777777777778,
              "#fb9f3a"
             ],
             [
              0.8888888888888888,
              "#fdca26"
             ],
             [
              1,
              "#f0f921"
             ]
            ],
            "type": "heatmap"
           }
          ],
          "heatmapgl": [
           {
            "colorbar": {
             "outlinewidth": 0,
             "ticks": ""
            },
            "colorscale": [
             [
              0,
              "#0d0887"
             ],
             [
              0.1111111111111111,
              "#46039f"
             ],
             [
              0.2222222222222222,
              "#7201a8"
             ],
             [
              0.3333333333333333,
              "#9c179e"
             ],
             [
              0.4444444444444444,
              "#bd3786"
             ],
             [
              0.5555555555555556,
              "#d8576b"
             ],
             [
              0.6666666666666666,
              "#ed7953"
             ],
             [
              0.7777777777777778,
              "#fb9f3a"
             ],
             [
              0.8888888888888888,
              "#fdca26"
             ],
             [
              1,
              "#f0f921"
             ]
            ],
            "type": "heatmapgl"
           }
          ],
          "histogram": [
           {
            "marker": {
             "pattern": {
              "fillmode": "overlay",
              "size": 10,
              "solidity": 0.2
             }
            },
            "type": "histogram"
           }
          ],
          "histogram2d": [
           {
            "colorbar": {
             "outlinewidth": 0,
             "ticks": ""
            },
            "colorscale": [
             [
              0,
              "#0d0887"
             ],
             [
              0.1111111111111111,
              "#46039f"
             ],
             [
              0.2222222222222222,
              "#7201a8"
             ],
             [
              0.3333333333333333,
              "#9c179e"
             ],
             [
              0.4444444444444444,
              "#bd3786"
             ],
             [
              0.5555555555555556,
              "#d8576b"
             ],
             [
              0.6666666666666666,
              "#ed7953"
             ],
             [
              0.7777777777777778,
              "#fb9f3a"
             ],
             [
              0.8888888888888888,
              "#fdca26"
             ],
             [
              1,
              "#f0f921"
             ]
            ],
            "type": "histogram2d"
           }
          ],
          "histogram2dcontour": [
           {
            "colorbar": {
             "outlinewidth": 0,
             "ticks": ""
            },
            "colorscale": [
             [
              0,
              "#0d0887"
             ],
             [
              0.1111111111111111,
              "#46039f"
             ],
             [
              0.2222222222222222,
              "#7201a8"
             ],
             [
              0.3333333333333333,
              "#9c179e"
             ],
             [
              0.4444444444444444,
              "#bd3786"
             ],
             [
              0.5555555555555556,
              "#d8576b"
             ],
             [
              0.6666666666666666,
              "#ed7953"
             ],
             [
              0.7777777777777778,
              "#fb9f3a"
             ],
             [
              0.8888888888888888,
              "#fdca26"
             ],
             [
              1,
              "#f0f921"
             ]
            ],
            "type": "histogram2dcontour"
           }
          ],
          "mesh3d": [
           {
            "colorbar": {
             "outlinewidth": 0,
             "ticks": ""
            },
            "type": "mesh3d"
           }
          ],
          "parcoords": [
           {
            "line": {
             "colorbar": {
              "outlinewidth": 0,
              "ticks": ""
             }
            },
            "type": "parcoords"
           }
          ],
          "pie": [
           {
            "automargin": true,
            "type": "pie"
           }
          ],
          "scatter": [
           {
            "marker": {
             "colorbar": {
              "outlinewidth": 0,
              "ticks": ""
             }
            },
            "type": "scatter"
           }
          ],
          "scatter3d": [
           {
            "line": {
             "colorbar": {
              "outlinewidth": 0,
              "ticks": ""
             }
            },
            "marker": {
             "colorbar": {
              "outlinewidth": 0,
              "ticks": ""
             }
            },
            "type": "scatter3d"
           }
          ],
          "scattercarpet": [
           {
            "marker": {
             "colorbar": {
              "outlinewidth": 0,
              "ticks": ""
             }
            },
            "type": "scattercarpet"
           }
          ],
          "scattergeo": [
           {
            "marker": {
             "colorbar": {
              "outlinewidth": 0,
              "ticks": ""
             }
            },
            "type": "scattergeo"
           }
          ],
          "scattergl": [
           {
            "marker": {
             "colorbar": {
              "outlinewidth": 0,
              "ticks": ""
             }
            },
            "type": "scattergl"
           }
          ],
          "scattermapbox": [
           {
            "marker": {
             "colorbar": {
              "outlinewidth": 0,
              "ticks": ""
             }
            },
            "type": "scattermapbox"
           }
          ],
          "scatterpolar": [
           {
            "marker": {
             "colorbar": {
              "outlinewidth": 0,
              "ticks": ""
             }
            },
            "type": "scatterpolar"
           }
          ],
          "scatterpolargl": [
           {
            "marker": {
             "colorbar": {
              "outlinewidth": 0,
              "ticks": ""
             }
            },
            "type": "scatterpolargl"
           }
          ],
          "scatterternary": [
           {
            "marker": {
             "colorbar": {
              "outlinewidth": 0,
              "ticks": ""
             }
            },
            "type": "scatterternary"
           }
          ],
          "surface": [
           {
            "colorbar": {
             "outlinewidth": 0,
             "ticks": ""
            },
            "colorscale": [
             [
              0,
              "#0d0887"
             ],
             [
              0.1111111111111111,
              "#46039f"
             ],
             [
              0.2222222222222222,
              "#7201a8"
             ],
             [
              0.3333333333333333,
              "#9c179e"
             ],
             [
              0.4444444444444444,
              "#bd3786"
             ],
             [
              0.5555555555555556,
              "#d8576b"
             ],
             [
              0.6666666666666666,
              "#ed7953"
             ],
             [
              0.7777777777777778,
              "#fb9f3a"
             ],
             [
              0.8888888888888888,
              "#fdca26"
             ],
             [
              1,
              "#f0f921"
             ]
            ],
            "type": "surface"
           }
          ],
          "table": [
           {
            "cells": {
             "fill": {
              "color": "#EBF0F8"
             },
             "line": {
              "color": "white"
             }
            },
            "header": {
             "fill": {
              "color": "#C8D4E3"
             },
             "line": {
              "color": "white"
             }
            },
            "type": "table"
           }
          ]
         },
         "layout": {
          "annotationdefaults": {
           "arrowcolor": "#2a3f5f",
           "arrowhead": 0,
           "arrowwidth": 1
          },
          "autotypenumbers": "strict",
          "coloraxis": {
           "colorbar": {
            "outlinewidth": 0,
            "ticks": ""
           }
          },
          "colorscale": {
           "diverging": [
            [
             0,
             "#8e0152"
            ],
            [
             0.1,
             "#c51b7d"
            ],
            [
             0.2,
             "#de77ae"
            ],
            [
             0.3,
             "#f1b6da"
            ],
            [
             0.4,
             "#fde0ef"
            ],
            [
             0.5,
             "#f7f7f7"
            ],
            [
             0.6,
             "#e6f5d0"
            ],
            [
             0.7,
             "#b8e186"
            ],
            [
             0.8,
             "#7fbc41"
            ],
            [
             0.9,
             "#4d9221"
            ],
            [
             1,
             "#276419"
            ]
           ],
           "sequential": [
            [
             0,
             "#0d0887"
            ],
            [
             0.1111111111111111,
             "#46039f"
            ],
            [
             0.2222222222222222,
             "#7201a8"
            ],
            [
             0.3333333333333333,
             "#9c179e"
            ],
            [
             0.4444444444444444,
             "#bd3786"
            ],
            [
             0.5555555555555556,
             "#d8576b"
            ],
            [
             0.6666666666666666,
             "#ed7953"
            ],
            [
             0.7777777777777778,
             "#fb9f3a"
            ],
            [
             0.8888888888888888,
             "#fdca26"
            ],
            [
             1,
             "#f0f921"
            ]
           ],
           "sequentialminus": [
            [
             0,
             "#0d0887"
            ],
            [
             0.1111111111111111,
             "#46039f"
            ],
            [
             0.2222222222222222,
             "#7201a8"
            ],
            [
             0.3333333333333333,
             "#9c179e"
            ],
            [
             0.4444444444444444,
             "#bd3786"
            ],
            [
             0.5555555555555556,
             "#d8576b"
            ],
            [
             0.6666666666666666,
             "#ed7953"
            ],
            [
             0.7777777777777778,
             "#fb9f3a"
            ],
            [
             0.8888888888888888,
             "#fdca26"
            ],
            [
             1,
             "#f0f921"
            ]
           ]
          },
          "colorway": [
           "#636efa",
           "#EF553B",
           "#00cc96",
           "#ab63fa",
           "#FFA15A",
           "#19d3f3",
           "#FF6692",
           "#B6E880",
           "#FF97FF",
           "#FECB52"
          ],
          "font": {
           "color": "#2a3f5f"
          },
          "geo": {
           "bgcolor": "white",
           "lakecolor": "white",
           "landcolor": "#E5ECF6",
           "showlakes": true,
           "showland": true,
           "subunitcolor": "white"
          },
          "hoverlabel": {
           "align": "left"
          },
          "hovermode": "closest",
          "mapbox": {
           "style": "light"
          },
          "paper_bgcolor": "white",
          "plot_bgcolor": "#E5ECF6",
          "polar": {
           "angularaxis": {
            "gridcolor": "white",
            "linecolor": "white",
            "ticks": ""
           },
           "bgcolor": "#E5ECF6",
           "radialaxis": {
            "gridcolor": "white",
            "linecolor": "white",
            "ticks": ""
           }
          },
          "scene": {
           "xaxis": {
            "backgroundcolor": "#E5ECF6",
            "gridcolor": "white",
            "gridwidth": 2,
            "linecolor": "white",
            "showbackground": true,
            "ticks": "",
            "zerolinecolor": "white"
           },
           "yaxis": {
            "backgroundcolor": "#E5ECF6",
            "gridcolor": "white",
            "gridwidth": 2,
            "linecolor": "white",
            "showbackground": true,
            "ticks": "",
            "zerolinecolor": "white"
           },
           "zaxis": {
            "backgroundcolor": "#E5ECF6",
            "gridcolor": "white",
            "gridwidth": 2,
            "linecolor": "white",
            "showbackground": true,
            "ticks": "",
            "zerolinecolor": "white"
           }
          },
          "shapedefaults": {
           "line": {
            "color": "#2a3f5f"
           }
          },
          "ternary": {
           "aaxis": {
            "gridcolor": "white",
            "linecolor": "white",
            "ticks": ""
           },
           "baxis": {
            "gridcolor": "white",
            "linecolor": "white",
            "ticks": ""
           },
           "bgcolor": "#E5ECF6",
           "caxis": {
            "gridcolor": "white",
            "linecolor": "white",
            "ticks": ""
           }
          },
          "title": {
           "x": 0.05
          },
          "xaxis": {
           "automargin": true,
           "gridcolor": "white",
           "linecolor": "white",
           "ticks": "",
           "title": {
            "standoff": 15
           },
           "zerolinecolor": "white",
           "zerolinewidth": 2
          },
          "yaxis": {
           "automargin": true,
           "gridcolor": "white",
           "linecolor": "white",
           "ticks": "",
           "title": {
            "standoff": 15
           },
           "zerolinecolor": "white",
           "zerolinewidth": 2
          }
         }
        },
        "xaxis": {
         "anchor": "y",
         "domain": [
          0,
          1
         ],
         "title": {
          "text": "pc1"
         }
        },
        "yaxis": {
         "anchor": "x",
         "domain": [
          0,
          1
         ],
         "title": {
          "text": "pc2"
         }
        }
       }
      },
      "text/html": [
       "<div>                            <div id=\"ccb97aae-d63b-419b-b83c-074844931842\" class=\"plotly-graph-div\" style=\"height:525px; width:100%;\"></div>            <script type=\"text/javascript\">                require([\"plotly\"], function(Plotly) {                    window.PLOTLYENV=window.PLOTLYENV || {};                                    if (document.getElementById(\"ccb97aae-d63b-419b-b83c-074844931842\")) {                    Plotly.newPlot(                        \"ccb97aae-d63b-419b-b83c-074844931842\",                        [{\"hovertemplate\":\"pc1=%{x}<br>pc2=%{y}<br>point=%{text}<extra></extra>\",\"legendgroup\":\"\",\"marker\":{\"color\":\"#636efa\",\"symbol\":\"circle\"},\"mode\":\"markers+text\",\"name\":\"\",\"orientation\":\"v\",\"showlegend\":false,\"text\":[\"Alameda\",\"Amador\",\"Butte\",\"Calaveras\",\"Colusa\",\"Contra Costa\",\"Del Norte\",\"El Dorado\",\"Fresno\",\"Glenn\",\"Humboldt\",\"Imperial\",\"Inyo\",\"Kern\",\"Kings\",\"Lake\",\"Los Angeles\",\"Madera\",\"Marin\",\"Mariposa\",\"Mendocino\",\"Merced\",\"Mono\",\"Monterey\",\"Napa\",\"Nevada\",\"Orange\",\"Placer\",\"Plumas\",\"Riverside\",\"Sacramento\",\"San Benito\",\"San Bernardino\",\"San Diego\",\"San Francisco\",\"San Joaquin\",\"San Luis Obispo\",\"San Mateo\",\"Santa Barbara\",\"Santa Clara\",\"Santa Cruz\",\"Shasta\",\"Siskiyou\",\"Solano\",\"Sonoma\",\"Stanislaus\",\"Sutter\",\"Tehama\",\"Trinity\",\"Tulare\",\"Tuolumne\",\"Ventura\",\"Yolo\"],\"x\":[0.09764360377034009,-1.1428311435460499,-0.014623494248827609,-0.6635600372971187,-1.46012690989815,0.3810898206116569,-4.109983791444545,-0.5509538659521664,2.695808592384935,-1.3808414927867592,-2.536144710707377,3.8102505954960986,0.9686261810353423,2.831786961826714,1.35576751254043,-1.8949855988909432,3.8527559903620388,0.7766587794225309,-1.1998204685922056,0.2039183229735555,-2.672766024537304,0.3939937622922603,-1.3623804301751448,-0.26425016599696693,-1.17708637829047,-1.3148069489486511,2.896404724882698,0.06961687762206342,-2.4906879125404933,4.10506322312069,0.7601684681732486,-0.6461241247115749,5.354275284341995,3.4401936021747277,-0.790832954483538,0.4881183222338169,0.5822143383538173,-0.8136955540701322,0.5301880981057808,0.9149482416730089,-1.2883212580439594,-1.6978025928229414,-2.891544587264908,-0.13058957767015997,-1.6773827838693804,0.9337016241684742,-0.3150812934683833,-1.163197533033762,-3.7308445339373093,2.1614517618876095,-0.5714622407478609,1.1457260736359072,-0.7976423551128311],\"xaxis\":\"x\",\"y\":[2.8747462895503304,-1.0982601982314228,-0.12821945943185153,-1.4109620963490777,-1.1401024026022277,3.9240962552887955,0.9468646766309791,-1.6231998018677198,1.2708910933114144,-1.1835656584703578,2.070937931608175,-0.03755765030880121,-1.2562556829183107,-0.3992491298038258,-1.133679261583484,-0.8888340179259678,0.6373242639368759,-1.1831008152555622,1.668631315281315,-1.966128921892767,0.2026663501552789,-1.0376336777022908,-0.55452185442865,-0.14501239459196857,1.5348422836962798,-0.66037697040067,0.37680917607262293,-1.1286787475923732,0.4413159655529636,-0.20863711139665972,1.1608198188298873,-1.3085516635476393,1.3197357062445265,0.051324755447958184,1.7471751812875722,0.2619693051299678,-0.7129068207465146,1.9199457243814215,-0.698634747778529,1.6140233682687564,-0.9590567284427364,-0.9483410040669297,0.08217222563162808,2.8443625630877536,1.5228388926839278,0.30259537098901607,-1.0359371466332747,-1.559053398523065,0.8068253408372577,-1.4476202729408,-1.5015540502772338,-1.3602955210388974,-0.8669866471550313],\"yaxis\":\"y\",\"type\":\"scatter\",\"textposition\":\"top center\"}],                        {\"template\":{\"data\":{\"bar\":[{\"error_x\":{\"color\":\"#2a3f5f\"},\"error_y\":{\"color\":\"#2a3f5f\"},\"marker\":{\"line\":{\"color\":\"#E5ECF6\",\"width\":0.5},\"pattern\":{\"fillmode\":\"overlay\",\"size\":10,\"solidity\":0.2}},\"type\":\"bar\"}],\"barpolar\":[{\"marker\":{\"line\":{\"color\":\"#E5ECF6\",\"width\":0.5},\"pattern\":{\"fillmode\":\"overlay\",\"size\":10,\"solidity\":0.2}},\"type\":\"barpolar\"}],\"carpet\":[{\"aaxis\":{\"endlinecolor\":\"#2a3f5f\",\"gridcolor\":\"white\",\"linecolor\":\"white\",\"minorgridcolor\":\"white\",\"startlinecolor\":\"#2a3f5f\"},\"baxis\":{\"endlinecolor\":\"#2a3f5f\",\"gridcolor\":\"white\",\"linecolor\":\"white\",\"minorgridcolor\":\"white\",\"startlinecolor\":\"#2a3f5f\"},\"type\":\"carpet\"}],\"choropleth\":[{\"colorbar\":{\"outlinewidth\":0,\"ticks\":\"\"},\"type\":\"choropleth\"}],\"contour\":[{\"colorbar\":{\"outlinewidth\":0,\"ticks\":\"\"},\"colorscale\":[[0.0,\"#0d0887\"],[0.1111111111111111,\"#46039f\"],[0.2222222222222222,\"#7201a8\"],[0.3333333333333333,\"#9c179e\"],[0.4444444444444444,\"#bd3786\"],[0.5555555555555556,\"#d8576b\"],[0.6666666666666666,\"#ed7953\"],[0.7777777777777778,\"#fb9f3a\"],[0.8888888888888888,\"#fdca26\"],[1.0,\"#f0f921\"]],\"type\":\"contour\"}],\"contourcarpet\":[{\"colorbar\":{\"outlinewidth\":0,\"ticks\":\"\"},\"type\":\"contourcarpet\"}],\"heatmap\":[{\"colorbar\":{\"outlinewidth\":0,\"ticks\":\"\"},\"colorscale\":[[0.0,\"#0d0887\"],[0.1111111111111111,\"#46039f\"],[0.2222222222222222,\"#7201a8\"],[0.3333333333333333,\"#9c179e\"],[0.4444444444444444,\"#bd3786\"],[0.5555555555555556,\"#d8576b\"],[0.6666666666666666,\"#ed7953\"],[0.7777777777777778,\"#fb9f3a\"],[0.8888888888888888,\"#fdca26\"],[1.0,\"#f0f921\"]],\"type\":\"heatmap\"}],\"heatmapgl\":[{\"colorbar\":{\"outlinewidth\":0,\"ticks\":\"\"},\"colorscale\":[[0.0,\"#0d0887\"],[0.1111111111111111,\"#46039f\"],[0.2222222222222222,\"#7201a8\"],[0.3333333333333333,\"#9c179e\"],[0.4444444444444444,\"#bd3786\"],[0.5555555555555556,\"#d8576b\"],[0.6666666666666666,\"#ed7953\"],[0.7777777777777778,\"#fb9f3a\"],[0.8888888888888888,\"#fdca26\"],[1.0,\"#f0f921\"]],\"type\":\"heatmapgl\"}],\"histogram\":[{\"marker\":{\"pattern\":{\"fillmode\":\"overlay\",\"size\":10,\"solidity\":0.2}},\"type\":\"histogram\"}],\"histogram2d\":[{\"colorbar\":{\"outlinewidth\":0,\"ticks\":\"\"},\"colorscale\":[[0.0,\"#0d0887\"],[0.1111111111111111,\"#46039f\"],[0.2222222222222222,\"#7201a8\"],[0.3333333333333333,\"#9c179e\"],[0.4444444444444444,\"#bd3786\"],[0.5555555555555556,\"#d8576b\"],[0.6666666666666666,\"#ed7953\"],[0.7777777777777778,\"#fb9f3a\"],[0.8888888888888888,\"#fdca26\"],[1.0,\"#f0f921\"]],\"type\":\"histogram2d\"}],\"histogram2dcontour\":[{\"colorbar\":{\"outlinewidth\":0,\"ticks\":\"\"},\"colorscale\":[[0.0,\"#0d0887\"],[0.1111111111111111,\"#46039f\"],[0.2222222222222222,\"#7201a8\"],[0.3333333333333333,\"#9c179e\"],[0.4444444444444444,\"#bd3786\"],[0.5555555555555556,\"#d8576b\"],[0.6666666666666666,\"#ed7953\"],[0.7777777777777778,\"#fb9f3a\"],[0.8888888888888888,\"#fdca26\"],[1.0,\"#f0f921\"]],\"type\":\"histogram2dcontour\"}],\"mesh3d\":[{\"colorbar\":{\"outlinewidth\":0,\"ticks\":\"\"},\"type\":\"mesh3d\"}],\"parcoords\":[{\"line\":{\"colorbar\":{\"outlinewidth\":0,\"ticks\":\"\"}},\"type\":\"parcoords\"}],\"pie\":[{\"automargin\":true,\"type\":\"pie\"}],\"scatter\":[{\"marker\":{\"colorbar\":{\"outlinewidth\":0,\"ticks\":\"\"}},\"type\":\"scatter\"}],\"scatter3d\":[{\"line\":{\"colorbar\":{\"outlinewidth\":0,\"ticks\":\"\"}},\"marker\":{\"colorbar\":{\"outlinewidth\":0,\"ticks\":\"\"}},\"type\":\"scatter3d\"}],\"scattercarpet\":[{\"marker\":{\"colorbar\":{\"outlinewidth\":0,\"ticks\":\"\"}},\"type\":\"scattercarpet\"}],\"scattergeo\":[{\"marker\":{\"colorbar\":{\"outlinewidth\":0,\"ticks\":\"\"}},\"type\":\"scattergeo\"}],\"scattergl\":[{\"marker\":{\"colorbar\":{\"outlinewidth\":0,\"ticks\":\"\"}},\"type\":\"scattergl\"}],\"scattermapbox\":[{\"marker\":{\"colorbar\":{\"outlinewidth\":0,\"ticks\":\"\"}},\"type\":\"scattermapbox\"}],\"scatterpolar\":[{\"marker\":{\"colorbar\":{\"outlinewidth\":0,\"ticks\":\"\"}},\"type\":\"scatterpolar\"}],\"scatterpolargl\":[{\"marker\":{\"colorbar\":{\"outlinewidth\":0,\"ticks\":\"\"}},\"type\":\"scatterpolargl\"}],\"scatterternary\":[{\"marker\":{\"colorbar\":{\"outlinewidth\":0,\"ticks\":\"\"}},\"type\":\"scatterternary\"}],\"surface\":[{\"colorbar\":{\"outlinewidth\":0,\"ticks\":\"\"},\"colorscale\":[[0.0,\"#0d0887\"],[0.1111111111111111,\"#46039f\"],[0.2222222222222222,\"#7201a8\"],[0.3333333333333333,\"#9c179e\"],[0.4444444444444444,\"#bd3786\"],[0.5555555555555556,\"#d8576b\"],[0.6666666666666666,\"#ed7953\"],[0.7777777777777778,\"#fb9f3a\"],[0.8888888888888888,\"#fdca26\"],[1.0,\"#f0f921\"]],\"type\":\"surface\"}],\"table\":[{\"cells\":{\"fill\":{\"color\":\"#EBF0F8\"},\"line\":{\"color\":\"white\"}},\"header\":{\"fill\":{\"color\":\"#C8D4E3\"},\"line\":{\"color\":\"white\"}},\"type\":\"table\"}]},\"layout\":{\"annotationdefaults\":{\"arrowcolor\":\"#2a3f5f\",\"arrowhead\":0,\"arrowwidth\":1},\"autotypenumbers\":\"strict\",\"coloraxis\":{\"colorbar\":{\"outlinewidth\":0,\"ticks\":\"\"}},\"colorscale\":{\"diverging\":[[0,\"#8e0152\"],[0.1,\"#c51b7d\"],[0.2,\"#de77ae\"],[0.3,\"#f1b6da\"],[0.4,\"#fde0ef\"],[0.5,\"#f7f7f7\"],[0.6,\"#e6f5d0\"],[0.7,\"#b8e186\"],[0.8,\"#7fbc41\"],[0.9,\"#4d9221\"],[1,\"#276419\"]],\"sequential\":[[0.0,\"#0d0887\"],[0.1111111111111111,\"#46039f\"],[0.2222222222222222,\"#7201a8\"],[0.3333333333333333,\"#9c179e\"],[0.4444444444444444,\"#bd3786\"],[0.5555555555555556,\"#d8576b\"],[0.6666666666666666,\"#ed7953\"],[0.7777777777777778,\"#fb9f3a\"],[0.8888888888888888,\"#fdca26\"],[1.0,\"#f0f921\"]],\"sequentialminus\":[[0.0,\"#0d0887\"],[0.1111111111111111,\"#46039f\"],[0.2222222222222222,\"#7201a8\"],[0.3333333333333333,\"#9c179e\"],[0.4444444444444444,\"#bd3786\"],[0.5555555555555556,\"#d8576b\"],[0.6666666666666666,\"#ed7953\"],[0.7777777777777778,\"#fb9f3a\"],[0.8888888888888888,\"#fdca26\"],[1.0,\"#f0f921\"]]},\"colorway\":[\"#636efa\",\"#EF553B\",\"#00cc96\",\"#ab63fa\",\"#FFA15A\",\"#19d3f3\",\"#FF6692\",\"#B6E880\",\"#FF97FF\",\"#FECB52\"],\"font\":{\"color\":\"#2a3f5f\"},\"geo\":{\"bgcolor\":\"white\",\"lakecolor\":\"white\",\"landcolor\":\"#E5ECF6\",\"showlakes\":true,\"showland\":true,\"subunitcolor\":\"white\"},\"hoverlabel\":{\"align\":\"left\"},\"hovermode\":\"closest\",\"mapbox\":{\"style\":\"light\"},\"paper_bgcolor\":\"white\",\"plot_bgcolor\":\"#E5ECF6\",\"polar\":{\"angularaxis\":{\"gridcolor\":\"white\",\"linecolor\":\"white\",\"ticks\":\"\"},\"bgcolor\":\"#E5ECF6\",\"radialaxis\":{\"gridcolor\":\"white\",\"linecolor\":\"white\",\"ticks\":\"\"}},\"scene\":{\"xaxis\":{\"backgroundcolor\":\"#E5ECF6\",\"gridcolor\":\"white\",\"gridwidth\":2,\"linecolor\":\"white\",\"showbackground\":true,\"ticks\":\"\",\"zerolinecolor\":\"white\"},\"yaxis\":{\"backgroundcolor\":\"#E5ECF6\",\"gridcolor\":\"white\",\"gridwidth\":2,\"linecolor\":\"white\",\"showbackground\":true,\"ticks\":\"\",\"zerolinecolor\":\"white\"},\"zaxis\":{\"backgroundcolor\":\"#E5ECF6\",\"gridcolor\":\"white\",\"gridwidth\":2,\"linecolor\":\"white\",\"showbackground\":true,\"ticks\":\"\",\"zerolinecolor\":\"white\"}},\"shapedefaults\":{\"line\":{\"color\":\"#2a3f5f\"}},\"ternary\":{\"aaxis\":{\"gridcolor\":\"white\",\"linecolor\":\"white\",\"ticks\":\"\"},\"baxis\":{\"gridcolor\":\"white\",\"linecolor\":\"white\",\"ticks\":\"\"},\"bgcolor\":\"#E5ECF6\",\"caxis\":{\"gridcolor\":\"white\",\"linecolor\":\"white\",\"ticks\":\"\"}},\"title\":{\"x\":0.05},\"xaxis\":{\"automargin\":true,\"gridcolor\":\"white\",\"linecolor\":\"white\",\"ticks\":\"\",\"title\":{\"standoff\":15},\"zerolinecolor\":\"white\",\"zerolinewidth\":2},\"yaxis\":{\"automargin\":true,\"gridcolor\":\"white\",\"linecolor\":\"white\",\"ticks\":\"\",\"title\":{\"standoff\":15},\"zerolinecolor\":\"white\",\"zerolinewidth\":2}}},\"xaxis\":{\"anchor\":\"y\",\"domain\":[0.0,1.0],\"title\":{\"text\":\"pc1\"}},\"yaxis\":{\"anchor\":\"x\",\"domain\":[0.0,1.0],\"title\":{\"text\":\"pc2\"}},\"legend\":{\"tracegroupgap\":0},\"margin\":{\"t\":60}},                        {\"responsive\": true}                    ).then(function(){\n",
       "                            \n",
       "var gd = document.getElementById('ccb97aae-d63b-419b-b83c-074844931842');\n",
       "var x = new MutationObserver(function (mutations, observer) {{\n",
       "        var display = window.getComputedStyle(gd).display;\n",
       "        if (!display || display === 'none') {{\n",
       "            console.log([gd, 'removed!']);\n",
       "            Plotly.purge(gd);\n",
       "            observer.disconnect();\n",
       "        }}\n",
       "}});\n",
       "\n",
       "// Listen for the removal of the full notebook cells\n",
       "var notebookContainer = gd.closest('#notebook-container');\n",
       "if (notebookContainer) {{\n",
       "    x.observe(notebookContainer, {childList: true});\n",
       "}}\n",
       "\n",
       "// Listen for the clearing of the current output cell\n",
       "var outputEl = gd.closest('.output');\n",
       "if (outputEl) {{\n",
       "    x.observe(outputEl, {childList: true});\n",
       "}}\n",
       "\n",
       "                        })                };                });            </script>        </div>"
      ]
     },
     "metadata": {},
     "output_type": "display_data"
    },
    {
     "data": {
      "image/png": "[encoded data removed]",
      "text/plain": [
       "<Figure size 432x288 with 1 Axes>"
      ]
     },
     "metadata": {
      "needs_background": "light"
     },
     "output_type": "display_data"
    },
    {
     "data": {
      "image/png": "[encoded data removed]",
      "text/plain": [
       "<Figure size 432x288 with 1 Axes>"
      ]
     },
     "metadata": {
      "needs_background": "light"
     },
     "output_type": "display_data"
    },
    {
     "data": {
      "image/png": "[encoded data removed]",
      "text/plain": [
       "<Figure size 432x288 with 1 Axes>"
      ]
     },
     "metadata": {
      "needs_background": "light"
     },
     "output_type": "display_data"
    },
    {
     "data": {
      "image/png": "[encoded data removed]",
      "text/plain": [
       "<Figure size 432x288 with 1 Axes>"
      ]
     },
     "metadata": {
      "needs_background": "light"
     },
     "output_type": "display_data"
    },
    {
     "data": {
      "image/png": "[encoded data removed]",
      "text/plain": [
       "<Figure size 432x288 with 1 Axes>"
      ]
     },
     "metadata": {
      "needs_background": "light"
     },
     "output_type": "display_data"
    },
    {
     "data": {
      "image/png": "[encoded data removed]",
      "text/plain": [
       "<Figure size 432x288 with 1 Axes>"
      ]
     },
     "metadata": {
      "needs_background": "light"
     },
     "output_type": "display_data"
    },
    {
     "data": {
      "image/png": "[encoded data removed]",
      "text/plain": [
       "<Figure size 432x288 with 1 Axes>"
      ]
     },
     "metadata": {
      "needs_background": "light"
     },
     "output_type": "display_data"
    },
    {
     "data": {
      "image/png": "[encoded data removed]",
      "text/plain": [
       "<Figure size 432x288 with 1 Axes>"
      ]
     },
     "metadata": {
      "needs_background": "light"
     },
     "output_type": "display_data"
    }
   ],
   "source": [
    "#data setup\n",
    "import plotly.express as px\n",
    "ca_aqi_agg = epa_data.get('annual_county_aqi')[epa_data.get('annual_county_aqi')['State'] == 'California']\n",
    "ca_temp_agg = epa_data_CA['daily_wind'].groupby('County Name').mean('Arithmetic Mean')['Arithmetic Mean'].rename('Mean Temp')\n",
    "ca_co_agg = epa_data_CA['daily_co'].groupby('County Name').mean('Arithmetic Mean')['Arithmetic Mean'].rename('Mean CO')\n",
    "ca_no2_agg = epa_data_CA['daily_no2'].groupby('County Name').mean('Arithmetic Mean')['Arithmetic Mean'].rename('Mean NO2')\n",
    "ca_ozone_agg = epa_data_CA['daily_ozone'].groupby('County Name').mean('Arithmetic Mean')['Arithmetic Mean'].rename('Mean Ozone')\n",
    "ca_so2_agg = epa_data_CA['daily_so2'].groupby('County Name').mean('Arithmetic Mean')['Arithmetic Mean'].rename('Mean SO2')\n",
    "ca_coords = epa_data_CA_merged.groupby('county Name').mean(['Latitude','Longitude'])[['Latitude','Longitude']]\n",
    "\n",
    "ca_merged = ca_aqi_agg.merge(ca_temp_agg, left_on='County', right_on='County Name',how='left').fillna(0)\n",
    "ca_merged = ca_merged.merge(ca_co_agg, left_on='County', right_on='County Name',how='left').fillna(0)\n",
    "ca_merged = ca_merged.merge(ca_no2_agg, left_on='County', right_on='County Name',how='left').fillna(0)\n",
    "ca_merged = ca_merged.merge(ca_ozone_agg, left_on='County', right_on='County Name',how='left').fillna(0)\n",
    "ca_merged = ca_merged.merge(ca_so2_agg, left_on='County', right_on='County Name',how='left').fillna(0)\n",
    "ca_merged = ca_merged.merge(ca_coords, left_on='County',right_on = 'county Name',how='left').fillna(0)\n",
    "\n",
    "cols = ['Median AQI','Mean Temp','Mean CO', 'Mean NO2', 'Mean Ozone', 'Mean SO2', 'Latitude', 'Longitude']\n",
    "\n",
    "ca_final = ca_merged.set_index('County')[cols]\n",
    "\n",
    "ca_final_centered = (ca_final - np.mean(ca_final, axis=0))/np.std(ca_final, axis=0)\n",
    "u, s, vt = np.linalg.svd(ca_final_centered, full_matrices = False)\n",
    "first_2_pcs = pd.DataFrame(u[:,0:2]*s[0:2], columns = ['pc1','pc2'])\n",
    "\n",
    "point_names = list(ca_final_centered.index) \n",
    "first_2_pcs['point'] = point_names\n",
    "\n",
    "for col in cols:\n",
    "    plt.figure()\n",
    "    plt.scatter(first_2_pcs['pc1'],ca_final_centered[col])\n",
    "    plt.ylabel(col)\n",
    "    plt.xlabel('pc1')\n",
    "    print(np.corrcoef(first_2_pcs['pc1'],ca_final_centered[col])[0,1])\n",
    "\n",
    "fig = px.scatter(first_2_pcs, x=\"pc1\", y=\"pc2\", text=\"point\"); \n",
    "\n",
    "fig.update_traces(textposition='top center');\n",
    "\n",
    "fig.show(); "
   ]
  },
  {
   "cell_type": "code",
   "execution_count": 32,
   "id": "13b91716-b797-40f5-984c-25bf793d990d",
   "metadata": {},
   "outputs": [
    {
     "data": {
      "image/png": "[encoded data removed]",
      "text/plain": [
       "<Figure size 432x288 with 1 Axes>"
      ]
     },
     "metadata": {
      "needs_background": "light"
     },
     "output_type": "display_data"
    }
   ],
   "source": [
    "######Code for EDA Temp boxplot#####################\n",
    "###############################################\n",
    "###Trying out with addtion of temp\n",
    "#data setup with Long and Lat\n",
    "ca_annual = epa_data.get('annual_county_aqi')[epa_data.get('annual_county_aqi')['State'] == 'California']\n",
    "ca_daily = epa_data_CA_merged\n",
    "ca_merged_coords = ca_daily.merge(right=ca_annual, how='left', left_on='county Name', right_on='County')\n",
    "cols = ['AQI','Longitude','Latitude','Good Days','Moderate Days','Unhealthy for Sensitive Groups Days','Unhealthy Days','Very Unhealthy Days','Hazardous Days','Max AQI','90th Percentile AQI','Median AQI','Days CO','Days NO2','Days Ozone','Days SO2','Days PM2.5','Days PM10']\n",
    "ca_grouped_coords2 = ca_merged_coords.groupby(['county Name','Month']).mean(cols)[cols]\n",
    "#restrict to CA\n",
    "temp_df = epa_data.get('daily_wind')\n",
    "temp_df = temp_df[temp_df['State Name'] == 'California']\n",
    "temp_df = temp_df[['Observation Count', 'Units of Measure', 'Date Local','1st Max Value','County Name','1st Max Hour','Sample Duration',\\\n",
    "         'Datum']].groupby('County Name').agg({'Observation Count':'mean','Units of Measure':'first','1st Max Value':'mean','Sample Duration':'first','Datum':'first'})\n",
    "ca_merged_coords_temp = ca_merged_coords.merge(right=temp_df,how='left', left_on='county Name', right_on='County Name')\n",
    "ca_merged_coords_temp\n",
    "data = ca_merged_coords_temp.head(5000)\n",
    "ax = sns.boxplot(x=\"1st Max Value\", y=\"AQI\", data=data)\n",
    "plt.suptitle(\"temp on AQI\");"
   ]
  },
  {
   "cell_type": "code",
   "execution_count": 33,
   "id": "33c5f638-b0fd-4f19-a9b5-e76c2be02387",
   "metadata": {},
   "outputs": [],
   "source": [
    "def bucket_temp(table, aggfunc, resolution):\n",
    "    temp_buckets = np.sort(np.linspace(table['1st Max Value'].min(), table['1st Max Value'].max(), num=resolution, endpoint=False))\n",
    "    \n",
    "    temp_buckets_map = dict(list(zip(temp_buckets, np.around(temp_buckets,decimals=0))))\n",
    "    \n",
    "    get_temp_bucket_num = lambda loc: temp_buckets_map.get(temp_buckets[temp_buckets <= loc].max())\n",
    "    \n",
    "    table['temp_bucket'] = table['1st Max Value'].apply(get_temp_bucket_num)\n",
    "    pivot_cols = ['temp_bucket', 'AQI']\n",
    "    return table[pivot_cols]\n",
    "\n",
    "ca_merged_coords_temp.dropna(axis=0,inplace=True)\n",
    "dftemp =bucket_temp(ca_merged_coords_temp, np.mean, 20)"
   ]
  },
  {
   "cell_type": "code",
   "execution_count": 34,
   "id": "8d722632-9300-4db7-86c5-cd2f44ed15ef",
   "metadata": {},
   "outputs": [
    {
     "name": "stdout",
     "output_type": "stream",
     "text": [
      "0.8512839095028799\n"
     ]
    },
    {
     "data": {
      "image/png": "[encoded data removed]",
      "text/plain": [
       "<Figure size 432x288 with 1 Axes>"
      ]
     },
     "metadata": {
      "needs_background": "light"
     },
     "output_type": "display_data"
    }
   ],
   "source": [
    "\n",
    "plt.scatter(first_2_pcs['pc1'], ca_final['Longitude'],label='Data')\n",
    "plt.ylabel('Longitude')\n",
    "plt.xlabel('pc1')\n",
    "plt.title('Correlation between Longitude and PC1')\n",
    "print(np.corrcoef((first_2_pcs['pc1'], ca_final['Longitude']))[0,1])\n",
    "m,b= np.polyfit(first_2_pcs['pc1'], ca_final['Longitude'], 1)\n",
    "x_val = np.linspace(-4,5,100)\n",
    "plt.plot(x_val, m*x_val +b, label='Fit')\n",
    "plt.legend()\n",
    "plt.show()"
   ]
  },
  {
   "cell_type": "code",
   "execution_count": 35,
   "id": "c087a58c-eee5-4ffa-a833-cf2ad6664a29",
   "metadata": {},
   "outputs": [
    {
     "data": {
      "image/png": "[encoded data removed]",
      "text/plain": [
       "<Figure size 432x288 with 1 Axes>"
      ]
     },
     "metadata": {
      "needs_background": "light"
     },
     "output_type": "display_data"
    }
   ],
   "source": [
    "dftemp2=dftemp[dftemp['AQI'] < 230]#remove outliers\n",
    "data = dftemp2\n",
    "ax = sns.boxplot(x=\"temp_bucket\", y=\"AQI\", data=data)\n",
    "plt.xlabel('Temperature (Degrees Farhenheit)')\n",
    "plt.suptitle(\"Potential positive trend of AQI with temperature\");\n",
    "plt.savefig('./Aqi_temp')"
   ]
  },
  {
   "cell_type": "markdown",
   "id": "e1fe1314-4c0b-4f85-abc5-b4c25991ba84",
   "metadata": {},
   "source": [
    "Preliminary visual analysis of the scatter plot shows promise that there is a physical interpretation for each principal component. California counties shown on the right - San Bernardino, Los Angeles, Riverside - experienced much worse air quality with median AQI ranging from 80 to 95. On the left side of the plot, counties such as Del Norte and Trinity had very good air quality overall, with median . On the right compared to counties on the left such as Del Norte and Trinity, which had median AQI ranging from 28 to 32. Plotting standardized longitude against the first principal component, we see that there is a very strong correlation between the two (r = 0.85), indicating that longitude is a strong predictor of AQI. Indeed, a heat map showing the spatial evolution of AQI across California (notice that the heat map mostly takes on the shape of California) supports the fact that more eastern regions, which correspond to higher values of longitude, experience higher AQI than those closer to the western coast. Similar analysis shows that CO concentration is strongly correlated with the second principal component (r = 79). Boxplots of the temperature with respect to AQI measurements show a slight increasing trend that could be investigated further with quantitative analysis. In summary, we use PCA to reduce the dimensionality of our data. We found that the frist two principle components accounted for 72% of the variance of our data. Plotting each principle component, against the features of our data, we see a strong correlation between Longitude and PC1. It seems like the second principle component can be explained by the mean CO concentration. We additionally, visually inspected the correlation between temperature and AQI through the use of boxplots."
   ]
  },
  {
   "cell_type": "code",
   "execution_count": 44,
   "id": "94199d6a",
   "metadata": {},
   "outputs": [
    {
     "name": "stdout",
     "output_type": "stream",
     "text": [
      "-0.11016237859887486\n",
      "-0.644687215825128\n",
      "0.7866939159362069\n",
      "0.4471266952843491\n",
      "-0.34972160786145845\n",
      "0.5951927159740515\n",
      "0.05365319325467462\n",
      "-0.2862656523152409\n"
     ]
    },
    {
     "data": {
      "image/png": "[encoded data removed]",
      "text/plain": [
       "<Figure size 432x288 with 1 Axes>"
      ]
     },
     "metadata": {
      "needs_background": "light"
     },
     "output_type": "display_data"
    },
    {
     "data": {
      "image/png": "[encoded data removed]",
      "text/plain": [
       "<Figure size 432x288 with 1 Axes>"
      ]
     },
     "metadata": {
      "needs_background": "light"
     },
     "output_type": "display_data"
    },
    {
     "data": {
      "image/png": "[encoded data removed]",
      "text/plain": [
       "<Figure size 432x288 with 1 Axes>"
      ]
     },
     "metadata": {
      "needs_background": "light"
     },
     "output_type": "display_data"
    },
    {
     "data": {
      "image/png": "[encoded data removed]",
      "text/plain": [
       "<Figure size 432x288 with 1 Axes>"
      ]
     },
     "metadata": {
      "needs_background": "light"
     },
     "output_type": "display_data"
    },
    {
     "data": {
      "image/png": "[encoded data removed]",
      "text/plain": [
       "<Figure size 432x288 with 1 Axes>"
      ]
     },
     "metadata": {
      "needs_background": "light"
     },
     "output_type": "display_data"
    },
    {
     "data": {
      "image/png": "[encoded data removed]",
      "text/plain": [
       "<Figure size 432x288 with 1 Axes>"
      ]
     },
     "metadata": {
      "needs_background": "light"
     },
     "output_type": "display_data"
    },
    {
     "data": {
      "image/png": "[encoded data removed]",
      "text/plain": [
       "<Figure size 432x288 with 1 Axes>"
      ]
     },
     "metadata": {
      "needs_background": "light"
     },
     "output_type": "display_data"
    },
    {
     "data": {
      "image/png": "[encoded data removed]",
      "text/plain": [
       "<Figure size 432x288 with 1 Axes>"
      ]
     },
     "metadata": {
      "needs_background": "light"
     },
     "output_type": "display_data"
    }
   ],
   "source": [
    "for col in cols:\n",
    "    plt.figure()\n",
    "    plt.scatter(first_2_pcs['pc2'],ca_final_centered[col])\n",
    "    plt.ylabel(col)\n",
    "    plt.xlabel('pc2')\n",
    "    print(np.corrcoef(first_2_pcs['pc2'],ca_final_centered[col])[0,1])"
   ]
  },
  {
   "cell_type": "code",
   "execution_count": 41,
   "id": "a2284673",
   "metadata": {},
   "outputs": [
    {
     "data": {
      "text/html": [
       "<div>\n",
       "<style scoped>\n",
       "    .dataframe tbody tr th:only-of-type {\n",
       "        vertical-align: middle;\n",
       "    }\n",
       "\n",
       "    .dataframe tbody tr th {\n",
       "        vertical-align: top;\n",
       "    }\n",
       "\n",
       "    .dataframe thead th {\n",
       "        text-align: right;\n",
       "    }\n",
       "</style>\n",
       "<table border=\"1\" class=\"dataframe\">\n",
       "  <thead>\n",
       "    <tr style=\"text-align: right;\">\n",
       "      <th></th>\n",
       "      <th>Median AQI</th>\n",
       "      <th>Mean Temp</th>\n",
       "      <th>Mean CO</th>\n",
       "      <th>Mean NO2</th>\n",
       "      <th>Mean Ozone</th>\n",
       "      <th>Mean SO2</th>\n",
       "      <th>Latitude</th>\n",
       "      <th>Longitude</th>\n",
       "    </tr>\n",
       "    <tr>\n",
       "      <th>County</th>\n",
       "      <th></th>\n",
       "      <th></th>\n",
       "      <th></th>\n",
       "      <th></th>\n",
       "      <th></th>\n",
       "      <th></th>\n",
       "      <th></th>\n",
       "      <th></th>\n",
       "    </tr>\n",
       "  </thead>\n",
       "  <tbody>\n",
       "    <tr>\n",
       "      <th>Alameda</th>\n",
       "      <td>-0.327264</td>\n",
       "      <td>-1.559516</td>\n",
       "      <td>1.747788</td>\n",
       "      <td>1.421118</td>\n",
       "      <td>-0.403175</td>\n",
       "      <td>0.807502</td>\n",
       "      <td>0.064980</td>\n",
       "      <td>-0.658261</td>\n",
       "    </tr>\n",
       "    <tr>\n",
       "      <th>Amador</th>\n",
       "      <td>-0.718504</td>\n",
       "      <td>0.203448</td>\n",
       "      <td>-0.889566</td>\n",
       "      <td>-1.045110</td>\n",
       "      <td>-0.079049</td>\n",
       "      <td>-0.499057</td>\n",
       "      <td>0.342720</td>\n",
       "      <td>0.023054</td>\n",
       "    </tr>\n",
       "    <tr>\n",
       "      <th>Butte</th>\n",
       "      <td>0.194390</td>\n",
       "      <td>0.677792</td>\n",
       "      <td>0.722346</td>\n",
       "      <td>0.141608</td>\n",
       "      <td>0.661648</td>\n",
       "      <td>-0.499057</td>\n",
       "      <td>0.951278</td>\n",
       "      <td>-0.460345</td>\n",
       "    </tr>\n",
       "    <tr>\n",
       "      <th>Calaveras</th>\n",
       "      <td>-0.262057</td>\n",
       "      <td>0.477856</td>\n",
       "      <td>-0.889566</td>\n",
       "      <td>-1.045110</td>\n",
       "      <td>0.426845</td>\n",
       "      <td>-0.499057</td>\n",
       "      <td>0.276308</td>\n",
       "      <td>0.067711</td>\n",
       "    </tr>\n",
       "    <tr>\n",
       "      <th>Colusa</th>\n",
       "      <td>-0.653297</td>\n",
       "      <td>0.663500</td>\n",
       "      <td>-0.889566</td>\n",
       "      <td>-1.045110</td>\n",
       "      <td>-0.181087</td>\n",
       "      <td>-0.499057</td>\n",
       "      <td>0.736315</td>\n",
       "      <td>-0.643143</td>\n",
       "    </tr>\n",
       "    <tr>\n",
       "      <th>Contra Costa</th>\n",
       "      <td>-0.457677</td>\n",
       "      <td>-1.559516</td>\n",
       "      <td>1.666457</td>\n",
       "      <td>0.245446</td>\n",
       "      <td>-0.170716</td>\n",
       "      <td>4.279938</td>\n",
       "      <td>0.159314</td>\n",
       "      <td>-0.643286</td>\n",
       "    </tr>\n",
       "    <tr>\n",
       "      <th>Del Norte</th>\n",
       "      <td>-1.044537</td>\n",
       "      <td>-1.559516</td>\n",
       "      <td>-0.889566</td>\n",
       "      <td>-1.045110</td>\n",
       "      <td>-2.852319</td>\n",
       "      <td>-0.499057</td>\n",
       "      <td>1.947934</td>\n",
       "      <td>-1.798344</td>\n",
       "    </tr>\n",
       "    <tr>\n",
       "      <th>El Dorado</th>\n",
       "      <td>-0.327264</td>\n",
       "      <td>0.442253</td>\n",
       "      <td>-0.889566</td>\n",
       "      <td>-1.045110</td>\n",
       "      <td>1.402400</td>\n",
       "      <td>-0.499057</td>\n",
       "      <td>0.538834</td>\n",
       "      <td>0.027273</td>\n",
       "    </tr>\n",
       "    <tr>\n",
       "      <th>Fresno</th>\n",
       "      <td>1.694143</td>\n",
       "      <td>0.704528</td>\n",
       "      <td>1.355590</td>\n",
       "      <td>1.316396</td>\n",
       "      <td>0.348992</td>\n",
       "      <td>1.691255</td>\n",
       "      <td>-0.397300</td>\n",
       "      <td>0.589011</td>\n",
       "    </tr>\n",
       "    <tr>\n",
       "      <th>Glenn</th>\n",
       "      <td>-0.327264</td>\n",
       "      <td>0.660644</td>\n",
       "      <td>-0.889566</td>\n",
       "      <td>-1.045110</td>\n",
       "      <td>-0.011246</td>\n",
       "      <td>-0.499057</td>\n",
       "      <td>0.904790</td>\n",
       "      <td>-0.733941</td>\n",
       "    </tr>\n",
       "    <tr>\n",
       "      <th>Humboldt</th>\n",
       "      <td>-1.240157</td>\n",
       "      <td>-1.559516</td>\n",
       "      <td>0.659445</td>\n",
       "      <td>-0.612556</td>\n",
       "      <td>-0.763143</td>\n",
       "      <td>0.904847</td>\n",
       "      <td>1.491228</td>\n",
       "      <td>-1.789322</td>\n",
       "    </tr>\n",
       "    <tr>\n",
       "      <th>Imperial</th>\n",
       "      <td>0.650837</td>\n",
       "      <td>1.493554</td>\n",
       "      <td>0.725430</td>\n",
       "      <td>0.961091</td>\n",
       "      <td>-0.081450</td>\n",
       "      <td>1.488881</td>\n",
       "      <td>-2.310576</td>\n",
       "      <td>2.819176</td>\n",
       "    </tr>\n",
       "    <tr>\n",
       "      <th>Inyo</th>\n",
       "      <td>0.259596</td>\n",
       "      <td>0.651498</td>\n",
       "      <td>-0.096760</td>\n",
       "      <td>-1.045110</td>\n",
       "      <td>0.642425</td>\n",
       "      <td>0.059003</td>\n",
       "      <td>-0.351606</td>\n",
       "      <td>1.707223</td>\n",
       "    </tr>\n",
       "    <tr>\n",
       "      <th>Kern</th>\n",
       "      <td>2.150590</td>\n",
       "      <td>0.696808</td>\n",
       "      <td>0.849782</td>\n",
       "      <td>1.016986</td>\n",
       "      <td>0.896067</td>\n",
       "      <td>-0.499057</td>\n",
       "      <td>-1.095204</td>\n",
       "      <td>1.064616</td>\n",
       "    </tr>\n",
       "    <tr>\n",
       "      <th>Kings</th>\n",
       "      <td>1.237697</td>\n",
       "      <td>0.705876</td>\n",
       "      <td>-0.889566</td>\n",
       "      <td>0.799700</td>\n",
       "      <td>0.235771</td>\n",
       "      <td>-0.499057</td>\n",
       "      <td>-0.632024</td>\n",
       "      <td>0.619290</td>\n",
       "    </tr>\n",
       "    <tr>\n",
       "      <th>Lake</th>\n",
       "      <td>-1.044537</td>\n",
       "      <td>0.479158</td>\n",
       "      <td>-0.889566</td>\n",
       "      <td>-1.045110</td>\n",
       "      <td>-0.307659</td>\n",
       "      <td>-0.499057</td>\n",
       "      <td>0.661499</td>\n",
       "      <td>-1.117047</td>\n",
       "    </tr>\n",
       "    <tr>\n",
       "      <th>Los Angeles</th>\n",
       "      <td>2.281004</td>\n",
       "      <td>0.734985</td>\n",
       "      <td>1.128482</td>\n",
       "      <td>1.924582</td>\n",
       "      <td>0.415772</td>\n",
       "      <td>0.784781</td>\n",
       "      <td>-1.654499</td>\n",
       "      <td>1.394371</td>\n",
       "    </tr>\n",
       "    <tr>\n",
       "      <th>Madera</th>\n",
       "      <td>0.846457</td>\n",
       "      <td>0.648322</td>\n",
       "      <td>-0.889566</td>\n",
       "      <td>0.342318</td>\n",
       "      <td>0.290070</td>\n",
       "      <td>-0.499057</td>\n",
       "      <td>-0.313034</td>\n",
       "      <td>0.410653</td>\n",
       "    </tr>\n",
       "    <tr>\n",
       "      <th>Marin</th>\n",
       "      <td>-1.044537</td>\n",
       "      <td>-1.559516</td>\n",
       "      <td>0.923700</td>\n",
       "      <td>0.586621</td>\n",
       "      <td>-0.460627</td>\n",
       "      <td>-0.499057</td>\n",
       "      <td>0.169170</td>\n",
       "      <td>-0.912020</td>\n",
       "    </tr>\n",
       "    <tr>\n",
       "      <th>Mariposa</th>\n",
       "      <td>-0.066437</td>\n",
       "      <td>0.555418</td>\n",
       "      <td>-0.889566</td>\n",
       "      <td>-1.045110</td>\n",
       "      <td>1.907430</td>\n",
       "      <td>-0.499057</td>\n",
       "      <td>0.016765</td>\n",
       "      <td>0.567970</td>\n",
       "    </tr>\n",
       "    <tr>\n",
       "      <th>Mendocino</th>\n",
       "      <td>-0.914124</td>\n",
       "      <td>-1.559516</td>\n",
       "      <td>-0.889566</td>\n",
       "      <td>-1.045110</td>\n",
       "      <td>-0.622750</td>\n",
       "      <td>-0.499057</td>\n",
       "      <td>0.760385</td>\n",
       "      <td>-1.299369</td>\n",
       "    </tr>\n",
       "    <tr>\n",
       "      <th>Merced</th>\n",
       "      <td>0.324803</td>\n",
       "      <td>0.642478</td>\n",
       "      <td>-0.889566</td>\n",
       "      <td>0.423883</td>\n",
       "      <td>0.210361</td>\n",
       "      <td>-0.499057</td>\n",
       "      <td>-0.156201</td>\n",
       "      <td>0.195465</td>\n",
       "    </tr>\n",
       "    <tr>\n",
       "      <th>Mono</th>\n",
       "      <td>-0.522884</td>\n",
       "      <td>0.094487</td>\n",
       "      <td>-0.889566</td>\n",
       "      <td>-1.045110</td>\n",
       "      <td>-2.852319</td>\n",
       "      <td>-0.499057</td>\n",
       "      <td>0.047051</td>\n",
       "      <td>0.971799</td>\n",
       "    </tr>\n",
       "    <tr>\n",
       "      <th>Monterey</th>\n",
       "      <td>-0.783711</td>\n",
       "      <td>0.433976</td>\n",
       "      <td>0.249333</td>\n",
       "      <td>-0.127443</td>\n",
       "      <td>-0.316525</td>\n",
       "      <td>-0.499057</td>\n",
       "      <td>-0.591988</td>\n",
       "      <td>-0.270361</td>\n",
       "    </tr>\n",
       "    <tr>\n",
       "      <th>Napa</th>\n",
       "      <td>-0.783711</td>\n",
       "      <td>-1.559516</td>\n",
       "      <td>1.212518</td>\n",
       "      <td>0.002697</td>\n",
       "      <td>-0.212450</td>\n",
       "      <td>-0.499057</td>\n",
       "      <td>0.312638</td>\n",
       "      <td>-0.778621</td>\n",
       "    </tr>\n",
       "    <tr>\n",
       "      <th>Nevada</th>\n",
       "      <td>-0.457677</td>\n",
       "      <td>-1.559516</td>\n",
       "      <td>-0.889566</td>\n",
       "      <td>-1.045110</td>\n",
       "      <td>1.524030</td>\n",
       "      <td>-0.499057</td>\n",
       "      <td>0.771693</td>\n",
       "      <td>-0.041806</td>\n",
       "    </tr>\n",
       "    <tr>\n",
       "      <th>Orange</th>\n",
       "      <td>0.194390</td>\n",
       "      <td>0.750632</td>\n",
       "      <td>1.241290</td>\n",
       "      <td>2.198480</td>\n",
       "      <td>0.291720</td>\n",
       "      <td>-0.499057</td>\n",
       "      <td>-1.813659</td>\n",
       "      <td>1.575996</td>\n",
       "    </tr>\n",
       "    <tr>\n",
       "      <th>Placer</th>\n",
       "      <td>0.390010</td>\n",
       "      <td>0.627179</td>\n",
       "      <td>-0.889566</td>\n",
       "      <td>0.297188</td>\n",
       "      <td>0.705358</td>\n",
       "      <td>-0.499057</td>\n",
       "      <td>0.649780</td>\n",
       "      <td>-0.019080</td>\n",
       "    </tr>\n",
       "    <tr>\n",
       "      <th>Plumas</th>\n",
       "      <td>0.063976</td>\n",
       "      <td>-1.559516</td>\n",
       "      <td>-0.889566</td>\n",
       "      <td>-1.045110</td>\n",
       "      <td>-2.852319</td>\n",
       "      <td>-0.499057</td>\n",
       "      <td>1.106067</td>\n",
       "      <td>-0.008132</td>\n",
       "    </tr>\n",
       "    <tr>\n",
       "      <th>Riverside</th>\n",
       "      <td>2.541830</td>\n",
       "      <td>0.936513</td>\n",
       "      <td>0.775777</td>\n",
       "      <td>0.821308</td>\n",
       "      <td>1.073787</td>\n",
       "      <td>1.134150</td>\n",
       "      <td>-1.764600</td>\n",
       "      <td>2.023029</td>\n",
       "    </tr>\n",
       "    <tr>\n",
       "      <th>Sacramento</th>\n",
       "      <td>0.259596</td>\n",
       "      <td>0.629277</td>\n",
       "      <td>0.870068</td>\n",
       "      <td>0.463210</td>\n",
       "      <td>0.056620</td>\n",
       "      <td>1.700091</td>\n",
       "      <td>0.458975</td>\n",
       "      <td>-0.303313</td>\n",
       "    </tr>\n",
       "    <tr>\n",
       "      <th>San Benito</th>\n",
       "      <td>-0.588090</td>\n",
       "      <td>0.476631</td>\n",
       "      <td>-0.889566</td>\n",
       "      <td>-1.045110</td>\n",
       "      <td>0.253120</td>\n",
       "      <td>-0.499057</td>\n",
       "      <td>-0.486752</td>\n",
       "      <td>-0.215871</td>\n",
       "    </tr>\n",
       "    <tr>\n",
       "      <th>San Bernardino</th>\n",
       "      <td>2.933071</td>\n",
       "      <td>0.740347</td>\n",
       "      <td>0.965716</td>\n",
       "      <td>2.606119</td>\n",
       "      <td>1.421116</td>\n",
       "      <td>2.993479</td>\n",
       "      <td>-1.592733</td>\n",
       "      <td>1.918881</td>\n",
       "    </tr>\n",
       "    <tr>\n",
       "      <th>San Diego</th>\n",
       "      <td>1.498523</td>\n",
       "      <td>0.672209</td>\n",
       "      <td>1.565811</td>\n",
       "      <td>0.773002</td>\n",
       "      <td>0.464955</td>\n",
       "      <td>-0.091083</td>\n",
       "      <td>-2.131872</td>\n",
       "      <td>2.021859</td>\n",
       "    </tr>\n",
       "    <tr>\n",
       "      <th>San Francisco</th>\n",
       "      <td>-0.783711</td>\n",
       "      <td>-1.559516</td>\n",
       "      <td>1.108173</td>\n",
       "      <td>0.837734</td>\n",
       "      <td>-0.179185</td>\n",
       "      <td>-0.499057</td>\n",
       "      <td>0.070637</td>\n",
       "      <td>-0.844438</td>\n",
       "    </tr>\n",
       "    <tr>\n",
       "      <th>San Joaquin</th>\n",
       "      <td>0.063976</td>\n",
       "      <td>0.704507</td>\n",
       "      <td>0.927364</td>\n",
       "      <td>0.714176</td>\n",
       "      <td>0.068832</td>\n",
       "      <td>-0.499057</td>\n",
       "      <td>0.083212</td>\n",
       "      <td>-0.283801</td>\n",
       "    </tr>\n",
       "    <tr>\n",
       "      <th>San Luis Obispo</th>\n",
       "      <td>-0.001230</td>\n",
       "      <td>0.473239</td>\n",
       "      <td>-0.889566</td>\n",
       "      <td>-0.411267</td>\n",
       "      <td>0.307730</td>\n",
       "      <td>0.768542</td>\n",
       "      <td>-1.027027</td>\n",
       "      <td>0.225744</td>\n",
       "    </tr>\n",
       "    <tr>\n",
       "      <th>San Mateo</th>\n",
       "      <td>-0.848917</td>\n",
       "      <td>-1.559516</td>\n",
       "      <td>1.344770</td>\n",
       "      <td>0.719984</td>\n",
       "      <td>-0.546720</td>\n",
       "      <td>-0.499057</td>\n",
       "      <td>-0.062896</td>\n",
       "      <td>-0.740594</td>\n",
       "    </tr>\n",
       "    <tr>\n",
       "      <th>Santa Barbara</th>\n",
       "      <td>-0.392470</td>\n",
       "      <td>0.526293</td>\n",
       "      <td>-0.202377</td>\n",
       "      <td>-0.659376</td>\n",
       "      <td>0.014674</td>\n",
       "      <td>0.044376</td>\n",
       "      <td>-1.450301</td>\n",
       "      <td>0.463767</td>\n",
       "    </tr>\n",
       "    <tr>\n",
       "      <th>Santa Clara</th>\n",
       "      <td>-0.262057</td>\n",
       "      <td>0.563099</td>\n",
       "      <td>1.788977</td>\n",
       "      <td>1.472467</td>\n",
       "      <td>-0.266337</td>\n",
       "      <td>0.351862</td>\n",
       "      <td>-0.189780</td>\n",
       "      <td>-0.510813</td>\n",
       "    </tr>\n",
       "    <tr>\n",
       "      <th>Santa Cruz</th>\n",
       "      <td>-0.914124</td>\n",
       "      <td>0.397591</td>\n",
       "      <td>-0.889566</td>\n",
       "      <td>-1.045110</td>\n",
       "      <td>-0.467921</td>\n",
       "      <td>-0.499057</td>\n",
       "      <td>-0.291114</td>\n",
       "      <td>-0.636456</td>\n",
       "    </tr>\n",
       "    <tr>\n",
       "      <th>Shasta</th>\n",
       "      <td>-0.457677</td>\n",
       "      <td>0.042298</td>\n",
       "      <td>-0.889566</td>\n",
       "      <td>-1.045110</td>\n",
       "      <td>0.197383</td>\n",
       "      <td>-0.499057</td>\n",
       "      <td>1.374750</td>\n",
       "      <td>-0.562857</td>\n",
       "    </tr>\n",
       "    <tr>\n",
       "      <th>Siskiyou</th>\n",
       "      <td>-0.783711</td>\n",
       "      <td>-1.559516</td>\n",
       "      <td>-0.889566</td>\n",
       "      <td>-1.045110</td>\n",
       "      <td>-0.290160</td>\n",
       "      <td>-0.499057</td>\n",
       "      <td>1.939516</td>\n",
       "      <td>-0.968906</td>\n",
       "    </tr>\n",
       "    <tr>\n",
       "      <th>Solano</th>\n",
       "      <td>-0.457677</td>\n",
       "      <td>-1.559516</td>\n",
       "      <td>1.345852</td>\n",
       "      <td>0.548663</td>\n",
       "      <td>-0.088209</td>\n",
       "      <td>2.046555</td>\n",
       "      <td>0.271737</td>\n",
       "      <td>-0.702486</td>\n",
       "    </tr>\n",
       "    <tr>\n",
       "      <th>Sonoma</th>\n",
       "      <td>-0.979331</td>\n",
       "      <td>-1.559516</td>\n",
       "      <td>0.987870</td>\n",
       "      <td>-0.213307</td>\n",
       "      <td>-0.636097</td>\n",
       "      <td>-0.499057</td>\n",
       "      <td>0.379708</td>\n",
       "      <td>-1.071578</td>\n",
       "    </tr>\n",
       "    <tr>\n",
       "      <th>Stanislaus</th>\n",
       "      <td>0.455216</td>\n",
       "      <td>0.669144</td>\n",
       "      <td>1.044437</td>\n",
       "      <td>0.915430</td>\n",
       "      <td>0.164119</td>\n",
       "      <td>-0.499057</td>\n",
       "      <td>-0.032193</td>\n",
       "      <td>-0.047509</td>\n",
       "    </tr>\n",
       "    <tr>\n",
       "      <th>Sutter</th>\n",
       "      <td>-0.001230</td>\n",
       "      <td>0.750161</td>\n",
       "      <td>-0.889566</td>\n",
       "      <td>0.294781</td>\n",
       "      <td>0.617871</td>\n",
       "      <td>-0.499057</td>\n",
       "      <td>0.728104</td>\n",
       "      <td>-0.463297</td>\n",
       "    </tr>\n",
       "    <tr>\n",
       "      <th>Tehama</th>\n",
       "      <td>-0.327264</td>\n",
       "      <td>0.998344</td>\n",
       "      <td>-0.889566</td>\n",
       "      <td>-1.045110</td>\n",
       "      <td>0.857846</td>\n",
       "      <td>-0.499057</td>\n",
       "      <td>1.222996</td>\n",
       "      <td>-0.732884</td>\n",
       "    </tr>\n",
       "    <tr>\n",
       "      <th>Trinity</th>\n",
       "      <td>-1.305364</td>\n",
       "      <td>-1.559516</td>\n",
       "      <td>-0.889566</td>\n",
       "      <td>-1.045110</td>\n",
       "      <td>-2.852319</td>\n",
       "      <td>-0.499057</td>\n",
       "      <td>1.472352</td>\n",
       "      <td>-1.129337</td>\n",
       "    </tr>\n",
       "    <tr>\n",
       "      <th>Tulare</th>\n",
       "      <td>1.954970</td>\n",
       "      <td>0.675740</td>\n",
       "      <td>-0.889566</td>\n",
       "      <td>0.989257</td>\n",
       "      <td>1.275925</td>\n",
       "      <td>-0.499057</td>\n",
       "      <td>-0.629806</td>\n",
       "      <td>0.911493</td>\n",
       "    </tr>\n",
       "    <tr>\n",
       "      <th>Tuolumne</th>\n",
       "      <td>-0.457677</td>\n",
       "      <td>0.531302</td>\n",
       "      <td>-0.889566</td>\n",
       "      <td>-1.045110</td>\n",
       "      <td>0.591245</td>\n",
       "      <td>-0.499057</td>\n",
       "      <td>0.172473</td>\n",
       "      <td>0.227838</td>\n",
       "    </tr>\n",
       "    <tr>\n",
       "      <th>Ventura</th>\n",
       "      <td>-0.066437</td>\n",
       "      <td>0.637154</td>\n",
       "      <td>-0.889566</td>\n",
       "      <td>0.171408</td>\n",
       "      <td>0.333815</td>\n",
       "      <td>-0.499057</td>\n",
       "      <td>-1.567756</td>\n",
       "      <td>1.063843</td>\n",
       "    </tr>\n",
       "    <tr>\n",
       "      <th>Yolo</th>\n",
       "      <td>-0.392470</td>\n",
       "      <td>0.624495</td>\n",
       "      <td>-0.889566</td>\n",
       "      <td>-0.079509</td>\n",
       "      <td>-0.164148</td>\n",
       "      <td>-0.499057</td>\n",
       "      <td>0.459710</td>\n",
       "      <td>-0.502846</td>\n",
       "    </tr>\n",
       "  </tbody>\n",
       "</table>\n",
       "</div>"
      ],
      "text/plain": [
       "                 Median AQI  Mean Temp   Mean CO  Mean NO2  Mean Ozone  \\\n",
       "County                                                                   \n",
       "Alameda           -0.327264  -1.559516  1.747788  1.421118   -0.403175   \n",
       "Amador            -0.718504   0.203448 -0.889566 -1.045110   -0.079049   \n",
       "Butte              0.194390   0.677792  0.722346  0.141608    0.661648   \n",
       "Calaveras         -0.262057   0.477856 -0.889566 -1.045110    0.426845   \n",
       "Colusa            -0.653297   0.663500 -0.889566 -1.045110   -0.181087   \n",
       "Contra Costa      -0.457677  -1.559516  1.666457  0.245446   -0.170716   \n",
       "Del Norte         -1.044537  -1.559516 -0.889566 -1.045110   -2.852319   \n",
       "El Dorado         -0.327264   0.442253 -0.889566 -1.045110    1.402400   \n",
       "Fresno             1.694143   0.704528  1.355590  1.316396    0.348992   \n",
       "Glenn             -0.327264   0.660644 -0.889566 -1.045110   -0.011246   \n",
       "Humboldt          -1.240157  -1.559516  0.659445 -0.612556   -0.763143   \n",
       "Imperial           0.650837   1.493554  0.725430  0.961091   -0.081450   \n",
       "Inyo               0.259596   0.651498 -0.096760 -1.045110    0.642425   \n",
       "Kern               2.150590   0.696808  0.849782  1.016986    0.896067   \n",
       "Kings              1.237697   0.705876 -0.889566  0.799700    0.235771   \n",
       "Lake              -1.044537   0.479158 -0.889566 -1.045110   -0.307659   \n",
       "Los Angeles        2.281004   0.734985  1.128482  1.924582    0.415772   \n",
       "Madera             0.846457   0.648322 -0.889566  0.342318    0.290070   \n",
       "Marin             -1.044537  -1.559516  0.923700  0.586621   -0.460627   \n",
       "Mariposa          -0.066437   0.555418 -0.889566 -1.045110    1.907430   \n",
       "Mendocino         -0.914124  -1.559516 -0.889566 -1.045110   -0.622750   \n",
       "Merced             0.324803   0.642478 -0.889566  0.423883    0.210361   \n",
       "Mono              -0.522884   0.094487 -0.889566 -1.045110   -2.852319   \n",
       "Monterey          -0.783711   0.433976  0.249333 -0.127443   -0.316525   \n",
       "Napa              -0.783711  -1.559516  1.212518  0.002697   -0.212450   \n",
       "Nevada            -0.457677  -1.559516 -0.889566 -1.045110    1.524030   \n",
       "Orange             0.194390   0.750632  1.241290  2.198480    0.291720   \n",
       "Placer             0.390010   0.627179 -0.889566  0.297188    0.705358   \n",
       "Plumas             0.063976  -1.559516 -0.889566 -1.045110   -2.852319   \n",
       "Riverside          2.541830   0.936513  0.775777  0.821308    1.073787   \n",
       "Sacramento         0.259596   0.629277  0.870068  0.463210    0.056620   \n",
       "San Benito        -0.588090   0.476631 -0.889566 -1.045110    0.253120   \n",
       "San Bernardino     2.933071   0.740347  0.965716  2.606119    1.421116   \n",
       "San Diego          1.498523   0.672209  1.565811  0.773002    0.464955   \n",
       "San Francisco     -0.783711  -1.559516  1.108173  0.837734   -0.179185   \n",
       "San Joaquin        0.063976   0.704507  0.927364  0.714176    0.068832   \n",
       "San Luis Obispo   -0.001230   0.473239 -0.889566 -0.411267    0.307730   \n",
       "San Mateo         -0.848917  -1.559516  1.344770  0.719984   -0.546720   \n",
       "Santa Barbara     -0.392470   0.526293 -0.202377 -0.659376    0.014674   \n",
       "Santa Clara       -0.262057   0.563099  1.788977  1.472467   -0.266337   \n",
       "Santa Cruz        -0.914124   0.397591 -0.889566 -1.045110   -0.467921   \n",
       "Shasta            -0.457677   0.042298 -0.889566 -1.045110    0.197383   \n",
       "Siskiyou          -0.783711  -1.559516 -0.889566 -1.045110   -0.290160   \n",
       "Solano            -0.457677  -1.559516  1.345852  0.548663   -0.088209   \n",
       "Sonoma            -0.979331  -1.559516  0.987870 -0.213307   -0.636097   \n",
       "Stanislaus         0.455216   0.669144  1.044437  0.915430    0.164119   \n",
       "Sutter            -0.001230   0.750161 -0.889566  0.294781    0.617871   \n",
       "Tehama            -0.327264   0.998344 -0.889566 -1.045110    0.857846   \n",
       "Trinity           -1.305364  -1.559516 -0.889566 -1.045110   -2.852319   \n",
       "Tulare             1.954970   0.675740 -0.889566  0.989257    1.275925   \n",
       "Tuolumne          -0.457677   0.531302 -0.889566 -1.045110    0.591245   \n",
       "Ventura           -0.066437   0.637154 -0.889566  0.171408    0.333815   \n",
       "Yolo              -0.392470   0.624495 -0.889566 -0.079509   -0.164148   \n",
       "\n",
       "                 Mean SO2  Latitude  Longitude  \n",
       "County                                          \n",
       "Alameda          0.807502  0.064980  -0.658261  \n",
       "Amador          -0.499057  0.342720   0.023054  \n",
       "Butte           -0.499057  0.951278  -0.460345  \n",
       "Calaveras       -0.499057  0.276308   0.067711  \n",
       "Colusa          -0.499057  0.736315  -0.643143  \n",
       "Contra Costa     4.279938  0.159314  -0.643286  \n",
       "Del Norte       -0.499057  1.947934  -1.798344  \n",
       "El Dorado       -0.499057  0.538834   0.027273  \n",
       "Fresno           1.691255 -0.397300   0.589011  \n",
       "Glenn           -0.499057  0.904790  -0.733941  \n",
       "Humboldt         0.904847  1.491228  -1.789322  \n",
       "Imperial         1.488881 -2.310576   2.819176  \n",
       "Inyo             0.059003 -0.351606   1.707223  \n",
       "Kern            -0.499057 -1.095204   1.064616  \n",
       "Kings           -0.499057 -0.632024   0.619290  \n",
       "Lake            -0.499057  0.661499  -1.117047  \n",
       "Los Angeles      0.784781 -1.654499   1.394371  \n",
       "Madera          -0.499057 -0.313034   0.410653  \n",
       "Marin           -0.499057  0.169170  -0.912020  \n",
       "Mariposa        -0.499057  0.016765   0.567970  \n",
       "Mendocino       -0.499057  0.760385  -1.299369  \n",
       "Merced          -0.499057 -0.156201   0.195465  \n",
       "Mono            -0.499057  0.047051   0.971799  \n",
       "Monterey        -0.499057 -0.591988  -0.270361  \n",
       "Napa            -0.499057  0.312638  -0.778621  \n",
       "Nevada          -0.499057  0.771693  -0.041806  \n",
       "Orange          -0.499057 -1.813659   1.575996  \n",
       "Placer          -0.499057  0.649780  -0.019080  \n",
       "Plumas          -0.499057  1.106067  -0.008132  \n",
       "Riverside        1.134150 -1.764600   2.023029  \n",
       "Sacramento       1.700091  0.458975  -0.303313  \n",
       "San Benito      -0.499057 -0.486752  -0.215871  \n",
       "San Bernardino   2.993479 -1.592733   1.918881  \n",
       "San Diego       -0.091083 -2.131872   2.021859  \n",
       "San Francisco   -0.499057  0.070637  -0.844438  \n",
       "San Joaquin     -0.499057  0.083212  -0.283801  \n",
       "San Luis Obispo  0.768542 -1.027027   0.225744  \n",
       "San Mateo       -0.499057 -0.062896  -0.740594  \n",
       "Santa Barbara    0.044376 -1.450301   0.463767  \n",
       "Santa Clara      0.351862 -0.189780  -0.510813  \n",
       "Santa Cruz      -0.499057 -0.291114  -0.636456  \n",
       "Shasta          -0.499057  1.374750  -0.562857  \n",
       "Siskiyou        -0.499057  1.939516  -0.968906  \n",
       "Solano           2.046555  0.271737  -0.702486  \n",
       "Sonoma          -0.499057  0.379708  -1.071578  \n",
       "Stanislaus      -0.499057 -0.032193  -0.047509  \n",
       "Sutter          -0.499057  0.728104  -0.463297  \n",
       "Tehama          -0.499057  1.222996  -0.732884  \n",
       "Trinity         -0.499057  1.472352  -1.129337  \n",
       "Tulare          -0.499057 -0.629806   0.911493  \n",
       "Tuolumne        -0.499057  0.172473   0.227838  \n",
       "Ventura         -0.499057 -1.567756   1.063843  \n",
       "Yolo            -0.499057  0.459710  -0.502846  "
      ]
     },
     "execution_count": 41,
     "metadata": {},
     "output_type": "execute_result"
    }
   ],
   "source": [
    "ca_final_centered"
   ]
  },
  {
   "cell_type": "markdown",
   "id": "2d114f14-fdb9-44c1-918c-5a4cd739a05e",
   "metadata": {},
   "source": [
    "## Guided Modeling"
   ]
  },
  {
   "cell_type": "code",
   "execution_count": 36,
   "id": "681d4941-a7cb-4291-b7b7-e3b464c597c4",
   "metadata": {},
   "outputs": [
    {
     "data": {
      "image/png": "[encoded data removed]",
      "text/plain": [
       "<Figure size 1080x576 with 2 Axes>"
      ]
     },
     "metadata": {
      "needs_background": "light"
     },
     "output_type": "display_data"
    }
   ],
   "source": [
    "table_sep = epa_data_CA_merged[epa_data_CA_merged['Month'] == 9]\n",
    "heatmap_data = bucket_data(table_sep, np.median, 25)\n",
    "\n",
    "plt.figure(figsize=(15, 8))\n",
    "ax = sns.heatmap(heatmap_data, vmin=0, vmax=230, cmap = sns.cm.rocket_r)\n",
    "ax.invert_yaxis()\n",
    "plt.show()"
   ]
  },
  {
   "cell_type": "code",
   "execution_count": 37,
   "id": "f4bf409f-6748-4f2f-b38a-789a82578756",
   "metadata": {},
   "outputs": [
    {
     "data": {
      "text/html": [
       "<div>\n",
       "<style scoped>\n",
       "    .dataframe tbody tr th:only-of-type {\n",
       "        vertical-align: middle;\n",
       "    }\n",
       "\n",
       "    .dataframe tbody tr th {\n",
       "        vertical-align: top;\n",
       "    }\n",
       "\n",
       "    .dataframe thead th {\n",
       "        text-align: right;\n",
       "    }\n",
       "</style>\n",
       "<table border=\"1\" class=\"dataframe\">\n",
       "  <thead>\n",
       "    <tr style=\"text-align: right;\">\n",
       "      <th></th>\n",
       "      <th>State Name</th>\n",
       "      <th>county Name</th>\n",
       "      <th>Month</th>\n",
       "      <th>Day</th>\n",
       "      <th>AQI</th>\n",
       "      <th>Category</th>\n",
       "      <th>Defining Site</th>\n",
       "      <th>Latitude</th>\n",
       "      <th>Longitude</th>\n",
       "      <th>lat_bucket</th>\n",
       "      <th>long_bucket</th>\n",
       "    </tr>\n",
       "  </thead>\n",
       "  <tbody>\n",
       "    <tr>\n",
       "      <th>0</th>\n",
       "      <td>California</td>\n",
       "      <td>Alameda</td>\n",
       "      <td>1</td>\n",
       "      <td>1</td>\n",
       "      <td>53</td>\n",
       "      <td>Moderate</td>\n",
       "      <td>06-001-0009</td>\n",
       "      <td>37.743065</td>\n",
       "      <td>-122.169935</td>\n",
       "      <td>36.25</td>\n",
       "      <td>-122.28</td>\n",
       "    </tr>\n",
       "    <tr>\n",
       "      <th>1</th>\n",
       "      <td>California</td>\n",
       "      <td>Alameda</td>\n",
       "      <td>1</td>\n",
       "      <td>2</td>\n",
       "      <td>43</td>\n",
       "      <td>Good</td>\n",
       "      <td>06-001-0013</td>\n",
       "      <td>37.864767</td>\n",
       "      <td>-122.302741</td>\n",
       "      <td>36.25</td>\n",
       "      <td>-124.20</td>\n",
       "    </tr>\n",
       "    <tr>\n",
       "      <th>2</th>\n",
       "      <td>California</td>\n",
       "      <td>Alameda</td>\n",
       "      <td>1</td>\n",
       "      <td>3</td>\n",
       "      <td>74</td>\n",
       "      <td>Moderate</td>\n",
       "      <td>06-001-0013</td>\n",
       "      <td>37.864767</td>\n",
       "      <td>-122.302741</td>\n",
       "      <td>36.25</td>\n",
       "      <td>-124.20</td>\n",
       "    </tr>\n",
       "    <tr>\n",
       "      <th>3</th>\n",
       "      <td>California</td>\n",
       "      <td>Alameda</td>\n",
       "      <td>1</td>\n",
       "      <td>4</td>\n",
       "      <td>45</td>\n",
       "      <td>Good</td>\n",
       "      <td>06-001-0007</td>\n",
       "      <td>37.687526</td>\n",
       "      <td>-121.784217</td>\n",
       "      <td>36.25</td>\n",
       "      <td>-122.28</td>\n",
       "    </tr>\n",
       "    <tr>\n",
       "      <th>4</th>\n",
       "      <td>California</td>\n",
       "      <td>Alameda</td>\n",
       "      <td>1</td>\n",
       "      <td>5</td>\n",
       "      <td>33</td>\n",
       "      <td>Good</td>\n",
       "      <td>06-001-0007</td>\n",
       "      <td>37.687526</td>\n",
       "      <td>-121.784217</td>\n",
       "      <td>36.25</td>\n",
       "      <td>-122.28</td>\n",
       "    </tr>\n",
       "    <tr>\n",
       "      <th>...</th>\n",
       "      <td>...</td>\n",
       "      <td>...</td>\n",
       "      <td>...</td>\n",
       "      <td>...</td>\n",
       "      <td>...</td>\n",
       "      <td>...</td>\n",
       "      <td>...</td>\n",
       "      <td>...</td>\n",
       "      <td>...</td>\n",
       "      <td>...</td>\n",
       "      <td>...</td>\n",
       "    </tr>\n",
       "    <tr>\n",
       "      <th>19220</th>\n",
       "      <td>California</td>\n",
       "      <td>Yolo</td>\n",
       "      <td>12</td>\n",
       "      <td>27</td>\n",
       "      <td>20</td>\n",
       "      <td>Good</td>\n",
       "      <td>06-113-0004</td>\n",
       "      <td>38.534450</td>\n",
       "      <td>-121.773400</td>\n",
       "      <td>38.08</td>\n",
       "      <td>-122.28</td>\n",
       "    </tr>\n",
       "    <tr>\n",
       "      <th>19221</th>\n",
       "      <td>California</td>\n",
       "      <td>Yolo</td>\n",
       "      <td>12</td>\n",
       "      <td>28</td>\n",
       "      <td>33</td>\n",
       "      <td>Good</td>\n",
       "      <td>06-113-0004</td>\n",
       "      <td>38.534450</td>\n",
       "      <td>-121.773400</td>\n",
       "      <td>38.08</td>\n",
       "      <td>-122.28</td>\n",
       "    </tr>\n",
       "    <tr>\n",
       "      <th>19222</th>\n",
       "      <td>California</td>\n",
       "      <td>Yolo</td>\n",
       "      <td>12</td>\n",
       "      <td>29</td>\n",
       "      <td>28</td>\n",
       "      <td>Good</td>\n",
       "      <td>06-113-0004</td>\n",
       "      <td>38.534450</td>\n",
       "      <td>-121.773400</td>\n",
       "      <td>38.08</td>\n",
       "      <td>-122.28</td>\n",
       "    </tr>\n",
       "    <tr>\n",
       "      <th>19223</th>\n",
       "      <td>California</td>\n",
       "      <td>Yolo</td>\n",
       "      <td>12</td>\n",
       "      <td>30</td>\n",
       "      <td>39</td>\n",
       "      <td>Good</td>\n",
       "      <td>06-113-0004</td>\n",
       "      <td>38.534450</td>\n",
       "      <td>-121.773400</td>\n",
       "      <td>38.08</td>\n",
       "      <td>-122.28</td>\n",
       "    </tr>\n",
       "    <tr>\n",
       "      <th>19224</th>\n",
       "      <td>California</td>\n",
       "      <td>Yolo</td>\n",
       "      <td>12</td>\n",
       "      <td>31</td>\n",
       "      <td>35</td>\n",
       "      <td>Good</td>\n",
       "      <td>06-113-0004</td>\n",
       "      <td>38.534450</td>\n",
       "      <td>-121.773400</td>\n",
       "      <td>38.08</td>\n",
       "      <td>-122.28</td>\n",
       "    </tr>\n",
       "  </tbody>\n",
       "</table>\n",
       "<p>19225 rows × 11 columns</p>\n",
       "</div>"
      ],
      "text/plain": [
       "       State Name county Name  Month  Day  AQI  Category Defining Site  \\\n",
       "0      California     Alameda      1    1   53  Moderate   06-001-0009   \n",
       "1      California     Alameda      1    2   43      Good   06-001-0013   \n",
       "2      California     Alameda      1    3   74  Moderate   06-001-0013   \n",
       "3      California     Alameda      1    4   45      Good   06-001-0007   \n",
       "4      California     Alameda      1    5   33      Good   06-001-0007   \n",
       "...           ...         ...    ...  ...  ...       ...           ...   \n",
       "19220  California        Yolo     12   27   20      Good   06-113-0004   \n",
       "19221  California        Yolo     12   28   33      Good   06-113-0004   \n",
       "19222  California        Yolo     12   29   28      Good   06-113-0004   \n",
       "19223  California        Yolo     12   30   39      Good   06-113-0004   \n",
       "19224  California        Yolo     12   31   35      Good   06-113-0004   \n",
       "\n",
       "        Latitude   Longitude  lat_bucket  long_bucket  \n",
       "0      37.743065 -122.169935       36.25      -122.28  \n",
       "1      37.864767 -122.302741       36.25      -124.20  \n",
       "2      37.864767 -122.302741       36.25      -124.20  \n",
       "3      37.687526 -121.784217       36.25      -122.28  \n",
       "4      37.687526 -121.784217       36.25      -122.28  \n",
       "...          ...         ...         ...          ...  \n",
       "19220  38.534450 -121.773400       38.08      -122.28  \n",
       "19221  38.534450 -121.773400       38.08      -122.28  \n",
       "19222  38.534450 -121.773400       38.08      -122.28  \n",
       "19223  38.534450 -121.773400       38.08      -122.28  \n",
       "19224  38.534450 -121.773400       38.08      -122.28  \n",
       "\n",
       "[19225 rows x 11 columns]"
      ]
     },
     "execution_count": 37,
     "metadata": {},
     "output_type": "execute_result"
    }
   ],
   "source": [
    "epa_data_CA_merged"
   ]
  },
  {
   "cell_type": "code",
   "execution_count": 54,
   "id": "209c1575",
   "metadata": {},
   "outputs": [
    {
     "data": {
      "text/html": [
       "<div>\n",
       "<style scoped>\n",
       "    .dataframe tbody tr th:only-of-type {\n",
       "        vertical-align: middle;\n",
       "    }\n",
       "\n",
       "    .dataframe tbody tr th {\n",
       "        vertical-align: top;\n",
       "    }\n",
       "\n",
       "    .dataframe thead th {\n",
       "        text-align: right;\n",
       "    }\n",
       "</style>\n",
       "<table border=\"1\" class=\"dataframe\">\n",
       "  <thead>\n",
       "    <tr style=\"text-align: right;\">\n",
       "      <th></th>\n",
       "      <th>State</th>\n",
       "      <th>County</th>\n",
       "      <th>Year</th>\n",
       "      <th>Days with AQI</th>\n",
       "      <th>Good Days</th>\n",
       "      <th>Moderate Days</th>\n",
       "      <th>Unhealthy for Sensitive Groups Days</th>\n",
       "      <th>Unhealthy Days</th>\n",
       "      <th>Very Unhealthy Days</th>\n",
       "      <th>Hazardous Days</th>\n",
       "      <th>Max AQI</th>\n",
       "      <th>90th Percentile AQI</th>\n",
       "      <th>Median AQI</th>\n",
       "      <th>Days CO</th>\n",
       "      <th>Days NO2</th>\n",
       "      <th>Days Ozone</th>\n",
       "      <th>Days SO2</th>\n",
       "      <th>Days PM2.5</th>\n",
       "      <th>Days PM10</th>\n",
       "    </tr>\n",
       "  </thead>\n",
       "  <tbody>\n",
       "    <tr>\n",
       "      <th>0</th>\n",
       "      <td>Alabama</td>\n",
       "      <td>Baldwin</td>\n",
       "      <td>2020</td>\n",
       "      <td>269</td>\n",
       "      <td>250</td>\n",
       "      <td>19</td>\n",
       "      <td>0</td>\n",
       "      <td>0</td>\n",
       "      <td>0</td>\n",
       "      <td>0</td>\n",
       "      <td>74</td>\n",
       "      <td>49</td>\n",
       "      <td>36</td>\n",
       "      <td>0</td>\n",
       "      <td>0</td>\n",
       "      <td>198</td>\n",
       "      <td>0</td>\n",
       "      <td>71</td>\n",
       "      <td>0</td>\n",
       "    </tr>\n",
       "    <tr>\n",
       "      <th>1</th>\n",
       "      <td>Alabama</td>\n",
       "      <td>Clay</td>\n",
       "      <td>2020</td>\n",
       "      <td>108</td>\n",
       "      <td>99</td>\n",
       "      <td>9</td>\n",
       "      <td>0</td>\n",
       "      <td>0</td>\n",
       "      <td>0</td>\n",
       "      <td>0</td>\n",
       "      <td>86</td>\n",
       "      <td>49</td>\n",
       "      <td>26</td>\n",
       "      <td>0</td>\n",
       "      <td>0</td>\n",
       "      <td>0</td>\n",
       "      <td>0</td>\n",
       "      <td>108</td>\n",
       "      <td>0</td>\n",
       "    </tr>\n",
       "    <tr>\n",
       "      <th>2</th>\n",
       "      <td>Alabama</td>\n",
       "      <td>DeKalb</td>\n",
       "      <td>2020</td>\n",
       "      <td>364</td>\n",
       "      <td>350</td>\n",
       "      <td>14</td>\n",
       "      <td>0</td>\n",
       "      <td>0</td>\n",
       "      <td>0</td>\n",
       "      <td>0</td>\n",
       "      <td>90</td>\n",
       "      <td>45</td>\n",
       "      <td>36</td>\n",
       "      <td>0</td>\n",
       "      <td>0</td>\n",
       "      <td>331</td>\n",
       "      <td>0</td>\n",
       "      <td>33</td>\n",
       "      <td>0</td>\n",
       "    </tr>\n",
       "    <tr>\n",
       "      <th>3</th>\n",
       "      <td>Alabama</td>\n",
       "      <td>Elmore</td>\n",
       "      <td>2020</td>\n",
       "      <td>197</td>\n",
       "      <td>197</td>\n",
       "      <td>0</td>\n",
       "      <td>0</td>\n",
       "      <td>0</td>\n",
       "      <td>0</td>\n",
       "      <td>0</td>\n",
       "      <td>47</td>\n",
       "      <td>41</td>\n",
       "      <td>31</td>\n",
       "      <td>0</td>\n",
       "      <td>0</td>\n",
       "      <td>197</td>\n",
       "      <td>0</td>\n",
       "      <td>0</td>\n",
       "      <td>0</td>\n",
       "    </tr>\n",
       "    <tr>\n",
       "      <th>4</th>\n",
       "      <td>Alabama</td>\n",
       "      <td>Etowah</td>\n",
       "      <td>2020</td>\n",
       "      <td>278</td>\n",
       "      <td>260</td>\n",
       "      <td>18</td>\n",
       "      <td>0</td>\n",
       "      <td>0</td>\n",
       "      <td>0</td>\n",
       "      <td>0</td>\n",
       "      <td>92</td>\n",
       "      <td>46</td>\n",
       "      <td>34</td>\n",
       "      <td>0</td>\n",
       "      <td>0</td>\n",
       "      <td>204</td>\n",
       "      <td>0</td>\n",
       "      <td>74</td>\n",
       "      <td>0</td>\n",
       "    </tr>\n",
       "  </tbody>\n",
       "</table>\n",
       "</div>"
      ],
      "text/plain": [
       "     State   County  Year  Days with AQI  Good Days  Moderate Days  \\\n",
       "0  Alabama  Baldwin  2020            269        250             19   \n",
       "1  Alabama     Clay  2020            108         99              9   \n",
       "2  Alabama   DeKalb  2020            364        350             14   \n",
       "3  Alabama   Elmore  2020            197        197              0   \n",
       "4  Alabama   Etowah  2020            278        260             18   \n",
       "\n",
       "   Unhealthy for Sensitive Groups Days  Unhealthy Days  Very Unhealthy Days  \\\n",
       "0                                    0               0                    0   \n",
       "1                                    0               0                    0   \n",
       "2                                    0               0                    0   \n",
       "3                                    0               0                    0   \n",
       "4                                    0               0                    0   \n",
       "\n",
       "   Hazardous Days  Max AQI  90th Percentile AQI  Median AQI  Days CO  \\\n",
       "0               0       74                   49          36        0   \n",
       "1               0       86                   49          26        0   \n",
       "2               0       90                   45          36        0   \n",
       "3               0       47                   41          31        0   \n",
       "4               0       92                   46          34        0   \n",
       "\n",
       "   Days NO2  Days Ozone  Days SO2  Days PM2.5  Days PM10  \n",
       "0         0         198         0          71          0  \n",
       "1         0           0         0         108          0  \n",
       "2         0         331         0          33          0  \n",
       "3         0         197         0           0          0  \n",
       "4         0         204         0          74          0  "
      ]
     },
     "execution_count": 54,
     "metadata": {},
     "output_type": "execute_result"
    }
   ],
   "source": [
    "annual_aqi = epa_data['annual_county_aqi']\n",
    "annual_aqi.head()"
   ]
  },
  {
   "cell_type": "code",
   "execution_count": 55,
   "id": "bda0873d",
   "metadata": {},
   "outputs": [
    {
     "data": {
      "text/html": [
       "<div>\n",
       "<style scoped>\n",
       "    .dataframe tbody tr th:only-of-type {\n",
       "        vertical-align: middle;\n",
       "    }\n",
       "\n",
       "    .dataframe tbody tr th {\n",
       "        vertical-align: top;\n",
       "    }\n",
       "\n",
       "    .dataframe thead th {\n",
       "        text-align: right;\n",
       "    }\n",
       "</style>\n",
       "<table border=\"1\" class=\"dataframe\">\n",
       "  <thead>\n",
       "    <tr style=\"text-align: right;\">\n",
       "      <th></th>\n",
       "      <th>State Name</th>\n",
       "      <th>county Name</th>\n",
       "      <th>Month</th>\n",
       "      <th>Day</th>\n",
       "      <th>AQI</th>\n",
       "      <th>Category</th>\n",
       "      <th>Defining Site</th>\n",
       "      <th>Latitude</th>\n",
       "      <th>Longitude</th>\n",
       "      <th>lat_bucket</th>\n",
       "      <th>long_bucket</th>\n",
       "    </tr>\n",
       "  </thead>\n",
       "  <tbody>\n",
       "    <tr>\n",
       "      <th>0</th>\n",
       "      <td>California</td>\n",
       "      <td>Alameda</td>\n",
       "      <td>1</td>\n",
       "      <td>1</td>\n",
       "      <td>53</td>\n",
       "      <td>Moderate</td>\n",
       "      <td>06-001-0009</td>\n",
       "      <td>37.743065</td>\n",
       "      <td>-122.169935</td>\n",
       "      <td>36.25</td>\n",
       "      <td>-122.28</td>\n",
       "    </tr>\n",
       "    <tr>\n",
       "      <th>1</th>\n",
       "      <td>California</td>\n",
       "      <td>Alameda</td>\n",
       "      <td>1</td>\n",
       "      <td>2</td>\n",
       "      <td>43</td>\n",
       "      <td>Good</td>\n",
       "      <td>06-001-0013</td>\n",
       "      <td>37.864767</td>\n",
       "      <td>-122.302741</td>\n",
       "      <td>36.25</td>\n",
       "      <td>-124.20</td>\n",
       "    </tr>\n",
       "    <tr>\n",
       "      <th>2</th>\n",
       "      <td>California</td>\n",
       "      <td>Alameda</td>\n",
       "      <td>1</td>\n",
       "      <td>3</td>\n",
       "      <td>74</td>\n",
       "      <td>Moderate</td>\n",
       "      <td>06-001-0013</td>\n",
       "      <td>37.864767</td>\n",
       "      <td>-122.302741</td>\n",
       "      <td>36.25</td>\n",
       "      <td>-124.20</td>\n",
       "    </tr>\n",
       "    <tr>\n",
       "      <th>3</th>\n",
       "      <td>California</td>\n",
       "      <td>Alameda</td>\n",
       "      <td>1</td>\n",
       "      <td>4</td>\n",
       "      <td>45</td>\n",
       "      <td>Good</td>\n",
       "      <td>06-001-0007</td>\n",
       "      <td>37.687526</td>\n",
       "      <td>-121.784217</td>\n",
       "      <td>36.25</td>\n",
       "      <td>-122.28</td>\n",
       "    </tr>\n",
       "    <tr>\n",
       "      <th>4</th>\n",
       "      <td>California</td>\n",
       "      <td>Alameda</td>\n",
       "      <td>1</td>\n",
       "      <td>5</td>\n",
       "      <td>33</td>\n",
       "      <td>Good</td>\n",
       "      <td>06-001-0007</td>\n",
       "      <td>37.687526</td>\n",
       "      <td>-121.784217</td>\n",
       "      <td>36.25</td>\n",
       "      <td>-122.28</td>\n",
       "    </tr>\n",
       "    <tr>\n",
       "      <th>...</th>\n",
       "      <td>...</td>\n",
       "      <td>...</td>\n",
       "      <td>...</td>\n",
       "      <td>...</td>\n",
       "      <td>...</td>\n",
       "      <td>...</td>\n",
       "      <td>...</td>\n",
       "      <td>...</td>\n",
       "      <td>...</td>\n",
       "      <td>...</td>\n",
       "      <td>...</td>\n",
       "    </tr>\n",
       "    <tr>\n",
       "      <th>19220</th>\n",
       "      <td>California</td>\n",
       "      <td>Yolo</td>\n",
       "      <td>12</td>\n",
       "      <td>27</td>\n",
       "      <td>20</td>\n",
       "      <td>Good</td>\n",
       "      <td>06-113-0004</td>\n",
       "      <td>38.534450</td>\n",
       "      <td>-121.773400</td>\n",
       "      <td>38.08</td>\n",
       "      <td>-122.28</td>\n",
       "    </tr>\n",
       "    <tr>\n",
       "      <th>19221</th>\n",
       "      <td>California</td>\n",
       "      <td>Yolo</td>\n",
       "      <td>12</td>\n",
       "      <td>28</td>\n",
       "      <td>33</td>\n",
       "      <td>Good</td>\n",
       "      <td>06-113-0004</td>\n",
       "      <td>38.534450</td>\n",
       "      <td>-121.773400</td>\n",
       "      <td>38.08</td>\n",
       "      <td>-122.28</td>\n",
       "    </tr>\n",
       "    <tr>\n",
       "      <th>19222</th>\n",
       "      <td>California</td>\n",
       "      <td>Yolo</td>\n",
       "      <td>12</td>\n",
       "      <td>29</td>\n",
       "      <td>28</td>\n",
       "      <td>Good</td>\n",
       "      <td>06-113-0004</td>\n",
       "      <td>38.534450</td>\n",
       "      <td>-121.773400</td>\n",
       "      <td>38.08</td>\n",
       "      <td>-122.28</td>\n",
       "    </tr>\n",
       "    <tr>\n",
       "      <th>19223</th>\n",
       "      <td>California</td>\n",
       "      <td>Yolo</td>\n",
       "      <td>12</td>\n",
       "      <td>30</td>\n",
       "      <td>39</td>\n",
       "      <td>Good</td>\n",
       "      <td>06-113-0004</td>\n",
       "      <td>38.534450</td>\n",
       "      <td>-121.773400</td>\n",
       "      <td>38.08</td>\n",
       "      <td>-122.28</td>\n",
       "    </tr>\n",
       "    <tr>\n",
       "      <th>19224</th>\n",
       "      <td>California</td>\n",
       "      <td>Yolo</td>\n",
       "      <td>12</td>\n",
       "      <td>31</td>\n",
       "      <td>35</td>\n",
       "      <td>Good</td>\n",
       "      <td>06-113-0004</td>\n",
       "      <td>38.534450</td>\n",
       "      <td>-121.773400</td>\n",
       "      <td>38.08</td>\n",
       "      <td>-122.28</td>\n",
       "    </tr>\n",
       "  </tbody>\n",
       "</table>\n",
       "<p>19225 rows × 11 columns</p>\n",
       "</div>"
      ],
      "text/plain": [
       "       State Name county Name  Month  Day  AQI  Category Defining Site  \\\n",
       "0      California     Alameda      1    1   53  Moderate   06-001-0009   \n",
       "1      California     Alameda      1    2   43      Good   06-001-0013   \n",
       "2      California     Alameda      1    3   74  Moderate   06-001-0013   \n",
       "3      California     Alameda      1    4   45      Good   06-001-0007   \n",
       "4      California     Alameda      1    5   33      Good   06-001-0007   \n",
       "...           ...         ...    ...  ...  ...       ...           ...   \n",
       "19220  California        Yolo     12   27   20      Good   06-113-0004   \n",
       "19221  California        Yolo     12   28   33      Good   06-113-0004   \n",
       "19222  California        Yolo     12   29   28      Good   06-113-0004   \n",
       "19223  California        Yolo     12   30   39      Good   06-113-0004   \n",
       "19224  California        Yolo     12   31   35      Good   06-113-0004   \n",
       "\n",
       "        Latitude   Longitude  lat_bucket  long_bucket  \n",
       "0      37.743065 -122.169935       36.25      -122.28  \n",
       "1      37.864767 -122.302741       36.25      -124.20  \n",
       "2      37.864767 -122.302741       36.25      -124.20  \n",
       "3      37.687526 -121.784217       36.25      -122.28  \n",
       "4      37.687526 -121.784217       36.25      -122.28  \n",
       "...          ...         ...         ...          ...  \n",
       "19220  38.534450 -121.773400       38.08      -122.28  \n",
       "19221  38.534450 -121.773400       38.08      -122.28  \n",
       "19222  38.534450 -121.773400       38.08      -122.28  \n",
       "19223  38.534450 -121.773400       38.08      -122.28  \n",
       "19224  38.534450 -121.773400       38.08      -122.28  \n",
       "\n",
       "[19225 rows x 11 columns]"
      ]
     },
     "execution_count": 55,
     "metadata": {},
     "output_type": "execute_result"
    }
   ],
   "source": [
    "epa_data_CA_merged.head"
   ]
  },
  {
   "cell_type": "code",
   "execution_count": 57,
   "id": "667300ca",
   "metadata": {},
   "outputs": [],
   "source": [
    "CA_whole = epa_data_CA_merged.merge(annual_aqi, left_on=\"county Name\", right_on=\"County\")"
   ]
  },
  {
   "cell_type": "code",
   "execution_count": 58,
   "id": "e1953e74",
   "metadata": {},
   "outputs": [
    {
     "data": {
      "text/html": [
       "<div>\n",
       "<style scoped>\n",
       "    .dataframe tbody tr th:only-of-type {\n",
       "        vertical-align: middle;\n",
       "    }\n",
       "\n",
       "    .dataframe tbody tr th {\n",
       "        vertical-align: top;\n",
       "    }\n",
       "\n",
       "    .dataframe thead th {\n",
       "        text-align: right;\n",
       "    }\n",
       "</style>\n",
       "<table border=\"1\" class=\"dataframe\">\n",
       "  <thead>\n",
       "    <tr style=\"text-align: right;\">\n",
       "      <th></th>\n",
       "      <th>State Name</th>\n",
       "      <th>county Name</th>\n",
       "      <th>Month</th>\n",
       "      <th>Day</th>\n",
       "      <th>AQI</th>\n",
       "      <th>Category</th>\n",
       "      <th>Defining Site</th>\n",
       "      <th>Latitude</th>\n",
       "      <th>Longitude</th>\n",
       "      <th>lat_bucket</th>\n",
       "      <th>...</th>\n",
       "      <th>Hazardous Days</th>\n",
       "      <th>Max AQI</th>\n",
       "      <th>90th Percentile AQI</th>\n",
       "      <th>Median AQI</th>\n",
       "      <th>Days CO</th>\n",
       "      <th>Days NO2</th>\n",
       "      <th>Days Ozone</th>\n",
       "      <th>Days SO2</th>\n",
       "      <th>Days PM2.5</th>\n",
       "      <th>Days PM10</th>\n",
       "    </tr>\n",
       "  </thead>\n",
       "  <tbody>\n",
       "    <tr>\n",
       "      <th>0</th>\n",
       "      <td>California</td>\n",
       "      <td>Alameda</td>\n",
       "      <td>1</td>\n",
       "      <td>1</td>\n",
       "      <td>53</td>\n",
       "      <td>Moderate</td>\n",
       "      <td>06-001-0009</td>\n",
       "      <td>37.743065</td>\n",
       "      <td>-122.169935</td>\n",
       "      <td>36.25</td>\n",
       "      <td>...</td>\n",
       "      <td>0</td>\n",
       "      <td>218</td>\n",
       "      <td>79</td>\n",
       "      <td>43</td>\n",
       "      <td>0</td>\n",
       "      <td>13</td>\n",
       "      <td>155</td>\n",
       "      <td>0</td>\n",
       "      <td>198</td>\n",
       "      <td>0</td>\n",
       "    </tr>\n",
       "    <tr>\n",
       "      <th>1</th>\n",
       "      <td>California</td>\n",
       "      <td>Alameda</td>\n",
       "      <td>1</td>\n",
       "      <td>2</td>\n",
       "      <td>43</td>\n",
       "      <td>Good</td>\n",
       "      <td>06-001-0013</td>\n",
       "      <td>37.864767</td>\n",
       "      <td>-122.302741</td>\n",
       "      <td>36.25</td>\n",
       "      <td>...</td>\n",
       "      <td>0</td>\n",
       "      <td>218</td>\n",
       "      <td>79</td>\n",
       "      <td>43</td>\n",
       "      <td>0</td>\n",
       "      <td>13</td>\n",
       "      <td>155</td>\n",
       "      <td>0</td>\n",
       "      <td>198</td>\n",
       "      <td>0</td>\n",
       "    </tr>\n",
       "    <tr>\n",
       "      <th>2</th>\n",
       "      <td>California</td>\n",
       "      <td>Alameda</td>\n",
       "      <td>1</td>\n",
       "      <td>3</td>\n",
       "      <td>74</td>\n",
       "      <td>Moderate</td>\n",
       "      <td>06-001-0013</td>\n",
       "      <td>37.864767</td>\n",
       "      <td>-122.302741</td>\n",
       "      <td>36.25</td>\n",
       "      <td>...</td>\n",
       "      <td>0</td>\n",
       "      <td>218</td>\n",
       "      <td>79</td>\n",
       "      <td>43</td>\n",
       "      <td>0</td>\n",
       "      <td>13</td>\n",
       "      <td>155</td>\n",
       "      <td>0</td>\n",
       "      <td>198</td>\n",
       "      <td>0</td>\n",
       "    </tr>\n",
       "    <tr>\n",
       "      <th>3</th>\n",
       "      <td>California</td>\n",
       "      <td>Alameda</td>\n",
       "      <td>1</td>\n",
       "      <td>4</td>\n",
       "      <td>45</td>\n",
       "      <td>Good</td>\n",
       "      <td>06-001-0007</td>\n",
       "      <td>37.687526</td>\n",
       "      <td>-121.784217</td>\n",
       "      <td>36.25</td>\n",
       "      <td>...</td>\n",
       "      <td>0</td>\n",
       "      <td>218</td>\n",
       "      <td>79</td>\n",
       "      <td>43</td>\n",
       "      <td>0</td>\n",
       "      <td>13</td>\n",
       "      <td>155</td>\n",
       "      <td>0</td>\n",
       "      <td>198</td>\n",
       "      <td>0</td>\n",
       "    </tr>\n",
       "    <tr>\n",
       "      <th>4</th>\n",
       "      <td>California</td>\n",
       "      <td>Alameda</td>\n",
       "      <td>1</td>\n",
       "      <td>5</td>\n",
       "      <td>33</td>\n",
       "      <td>Good</td>\n",
       "      <td>06-001-0007</td>\n",
       "      <td>37.687526</td>\n",
       "      <td>-121.784217</td>\n",
       "      <td>36.25</td>\n",
       "      <td>...</td>\n",
       "      <td>0</td>\n",
       "      <td>218</td>\n",
       "      <td>79</td>\n",
       "      <td>43</td>\n",
       "      <td>0</td>\n",
       "      <td>13</td>\n",
       "      <td>155</td>\n",
       "      <td>0</td>\n",
       "      <td>198</td>\n",
       "      <td>0</td>\n",
       "    </tr>\n",
       "    <tr>\n",
       "      <th>...</th>\n",
       "      <td>...</td>\n",
       "      <td>...</td>\n",
       "      <td>...</td>\n",
       "      <td>...</td>\n",
       "      <td>...</td>\n",
       "      <td>...</td>\n",
       "      <td>...</td>\n",
       "      <td>...</td>\n",
       "      <td>...</td>\n",
       "      <td>...</td>\n",
       "      <td>...</td>\n",
       "      <td>...</td>\n",
       "      <td>...</td>\n",
       "      <td>...</td>\n",
       "      <td>...</td>\n",
       "      <td>...</td>\n",
       "      <td>...</td>\n",
       "      <td>...</td>\n",
       "      <td>...</td>\n",
       "      <td>...</td>\n",
       "      <td>...</td>\n",
       "    </tr>\n",
       "    <tr>\n",
       "      <th>23873</th>\n",
       "      <td>California</td>\n",
       "      <td>Yolo</td>\n",
       "      <td>12</td>\n",
       "      <td>27</td>\n",
       "      <td>20</td>\n",
       "      <td>Good</td>\n",
       "      <td>06-113-0004</td>\n",
       "      <td>38.534450</td>\n",
       "      <td>-121.773400</td>\n",
       "      <td>38.08</td>\n",
       "      <td>...</td>\n",
       "      <td>0</td>\n",
       "      <td>192</td>\n",
       "      <td>84</td>\n",
       "      <td>42</td>\n",
       "      <td>0</td>\n",
       "      <td>1</td>\n",
       "      <td>208</td>\n",
       "      <td>0</td>\n",
       "      <td>157</td>\n",
       "      <td>0</td>\n",
       "    </tr>\n",
       "    <tr>\n",
       "      <th>23874</th>\n",
       "      <td>California</td>\n",
       "      <td>Yolo</td>\n",
       "      <td>12</td>\n",
       "      <td>28</td>\n",
       "      <td>33</td>\n",
       "      <td>Good</td>\n",
       "      <td>06-113-0004</td>\n",
       "      <td>38.534450</td>\n",
       "      <td>-121.773400</td>\n",
       "      <td>38.08</td>\n",
       "      <td>...</td>\n",
       "      <td>0</td>\n",
       "      <td>192</td>\n",
       "      <td>84</td>\n",
       "      <td>42</td>\n",
       "      <td>0</td>\n",
       "      <td>1</td>\n",
       "      <td>208</td>\n",
       "      <td>0</td>\n",
       "      <td>157</td>\n",
       "      <td>0</td>\n",
       "    </tr>\n",
       "    <tr>\n",
       "      <th>23875</th>\n",
       "      <td>California</td>\n",
       "      <td>Yolo</td>\n",
       "      <td>12</td>\n",
       "      <td>29</td>\n",
       "      <td>28</td>\n",
       "      <td>Good</td>\n",
       "      <td>06-113-0004</td>\n",
       "      <td>38.534450</td>\n",
       "      <td>-121.773400</td>\n",
       "      <td>38.08</td>\n",
       "      <td>...</td>\n",
       "      <td>0</td>\n",
       "      <td>192</td>\n",
       "      <td>84</td>\n",
       "      <td>42</td>\n",
       "      <td>0</td>\n",
       "      <td>1</td>\n",
       "      <td>208</td>\n",
       "      <td>0</td>\n",
       "      <td>157</td>\n",
       "      <td>0</td>\n",
       "    </tr>\n",
       "    <tr>\n",
       "      <th>23876</th>\n",
       "      <td>California</td>\n",
       "      <td>Yolo</td>\n",
       "      <td>12</td>\n",
       "      <td>30</td>\n",
       "      <td>39</td>\n",
       "      <td>Good</td>\n",
       "      <td>06-113-0004</td>\n",
       "      <td>38.534450</td>\n",
       "      <td>-121.773400</td>\n",
       "      <td>38.08</td>\n",
       "      <td>...</td>\n",
       "      <td>0</td>\n",
       "      <td>192</td>\n",
       "      <td>84</td>\n",
       "      <td>42</td>\n",
       "      <td>0</td>\n",
       "      <td>1</td>\n",
       "      <td>208</td>\n",
       "      <td>0</td>\n",
       "      <td>157</td>\n",
       "      <td>0</td>\n",
       "    </tr>\n",
       "    <tr>\n",
       "      <th>23877</th>\n",
       "      <td>California</td>\n",
       "      <td>Yolo</td>\n",
       "      <td>12</td>\n",
       "      <td>31</td>\n",
       "      <td>35</td>\n",
       "      <td>Good</td>\n",
       "      <td>06-113-0004</td>\n",
       "      <td>38.534450</td>\n",
       "      <td>-121.773400</td>\n",
       "      <td>38.08</td>\n",
       "      <td>...</td>\n",
       "      <td>0</td>\n",
       "      <td>192</td>\n",
       "      <td>84</td>\n",
       "      <td>42</td>\n",
       "      <td>0</td>\n",
       "      <td>1</td>\n",
       "      <td>208</td>\n",
       "      <td>0</td>\n",
       "      <td>157</td>\n",
       "      <td>0</td>\n",
       "    </tr>\n",
       "  </tbody>\n",
       "</table>\n",
       "<p>23878 rows × 30 columns</p>\n",
       "</div>"
      ],
      "text/plain": [
       "       State Name county Name  Month  Day  AQI  Category Defining Site  \\\n",
       "0      California     Alameda      1    1   53  Moderate   06-001-0009   \n",
       "1      California     Alameda      1    2   43      Good   06-001-0013   \n",
       "2      California     Alameda      1    3   74  Moderate   06-001-0013   \n",
       "3      California     Alameda      1    4   45      Good   06-001-0007   \n",
       "4      California     Alameda      1    5   33      Good   06-001-0007   \n",
       "...           ...         ...    ...  ...  ...       ...           ...   \n",
       "23873  California        Yolo     12   27   20      Good   06-113-0004   \n",
       "23874  California        Yolo     12   28   33      Good   06-113-0004   \n",
       "23875  California        Yolo     12   29   28      Good   06-113-0004   \n",
       "23876  California        Yolo     12   30   39      Good   06-113-0004   \n",
       "23877  California        Yolo     12   31   35      Good   06-113-0004   \n",
       "\n",
       "        Latitude   Longitude  lat_bucket  ...  Hazardous Days Max AQI  \\\n",
       "0      37.743065 -122.169935       36.25  ...               0     218   \n",
       "1      37.864767 -122.302741       36.25  ...               0     218   \n",
       "2      37.864767 -122.302741       36.25  ...               0     218   \n",
       "3      37.687526 -121.784217       36.25  ...               0     218   \n",
       "4      37.687526 -121.784217       36.25  ...               0     218   \n",
       "...          ...         ...         ...  ...             ...     ...   \n",
       "23873  38.534450 -121.773400       38.08  ...               0     192   \n",
       "23874  38.534450 -121.773400       38.08  ...               0     192   \n",
       "23875  38.534450 -121.773400       38.08  ...               0     192   \n",
       "23876  38.534450 -121.773400       38.08  ...               0     192   \n",
       "23877  38.534450 -121.773400       38.08  ...               0     192   \n",
       "\n",
       "      90th Percentile AQI  Median AQI  Days CO  Days NO2  Days Ozone  \\\n",
       "0                      79          43        0        13         155   \n",
       "1                      79          43        0        13         155   \n",
       "2                      79          43        0        13         155   \n",
       "3                      79          43        0        13         155   \n",
       "4                      79          43        0        13         155   \n",
       "...                   ...         ...      ...       ...         ...   \n",
       "23873                  84          42        0         1         208   \n",
       "23874                  84          42        0         1         208   \n",
       "23875                  84          42        0         1         208   \n",
       "23876                  84          42        0         1         208   \n",
       "23877                  84          42        0         1         208   \n",
       "\n",
       "       Days SO2  Days PM2.5  Days PM10  \n",
       "0             0         198          0  \n",
       "1             0         198          0  \n",
       "2             0         198          0  \n",
       "3             0         198          0  \n",
       "4             0         198          0  \n",
       "...         ...         ...        ...  \n",
       "23873         0         157          0  \n",
       "23874         0         157          0  \n",
       "23875         0         157          0  \n",
       "23876         0         157          0  \n",
       "23877         0         157          0  \n",
       "\n",
       "[23878 rows x 30 columns]"
      ]
     },
     "execution_count": 58,
     "metadata": {},
     "output_type": "execute_result"
    }
   ],
   "source": [
    "CA_whole"
   ]
  },
  {
   "cell_type": "markdown",
   "id": "83a07533",
   "metadata": {},
   "source": [
    "## Daily data EDA"
   ]
  },
  {
   "cell_type": "code",
   "execution_count": 389,
   "id": "9a11dc16",
   "metadata": {},
   "outputs": [],
   "source": [
    "epa_data_CA_merged['year'] = '2020'"
   ]
  },
  {
   "cell_type": "code",
   "execution_count": 390,
   "id": "60949046",
   "metadata": {},
   "outputs": [],
   "source": [
    "epa_data_CA_merged['Date Local'] = pd.to_datetime(epa_data_CA_merged[[\"year\", 'Month', 'Day']])\n",
    "epa_data_CA_merged['Date Local'] = epa_data_CA_merged['Date Local'].astype(str)\n",
    "#epa_data_CA_merged['merge']=[i[0] + \"_\"+ i[1] for i in epa_data_CA_merged.index]"
   ]
  },
  {
   "cell_type": "code",
   "execution_count": 391,
   "id": "9a6ae674",
   "metadata": {},
   "outputs": [
    {
     "data": {
      "text/html": [
       "<div>\n",
       "<style scoped>\n",
       "    .dataframe tbody tr th:only-of-type {\n",
       "        vertical-align: middle;\n",
       "    }\n",
       "\n",
       "    .dataframe tbody tr th {\n",
       "        vertical-align: top;\n",
       "    }\n",
       "\n",
       "    .dataframe thead th {\n",
       "        text-align: right;\n",
       "    }\n",
       "</style>\n",
       "<table border=\"1\" class=\"dataframe\">\n",
       "  <thead>\n",
       "    <tr style=\"text-align: right;\">\n",
       "      <th></th>\n",
       "      <th>State Name</th>\n",
       "      <th>County Name</th>\n",
       "      <th>Month</th>\n",
       "      <th>Day</th>\n",
       "      <th>AQI</th>\n",
       "      <th>Category</th>\n",
       "      <th>Defining Site</th>\n",
       "      <th>Latitude</th>\n",
       "      <th>Longitude</th>\n",
       "      <th>year</th>\n",
       "      <th>Date Local</th>\n",
       "    </tr>\n",
       "  </thead>\n",
       "  <tbody>\n",
       "    <tr>\n",
       "      <th>0</th>\n",
       "      <td>California</td>\n",
       "      <td>Alameda</td>\n",
       "      <td>1</td>\n",
       "      <td>1</td>\n",
       "      <td>53</td>\n",
       "      <td>Moderate</td>\n",
       "      <td>06-001-0009</td>\n",
       "      <td>37.743065</td>\n",
       "      <td>-122.169935</td>\n",
       "      <td>2020</td>\n",
       "      <td>2020-01-01</td>\n",
       "    </tr>\n",
       "    <tr>\n",
       "      <th>1</th>\n",
       "      <td>California</td>\n",
       "      <td>Alameda</td>\n",
       "      <td>1</td>\n",
       "      <td>2</td>\n",
       "      <td>43</td>\n",
       "      <td>Good</td>\n",
       "      <td>06-001-0013</td>\n",
       "      <td>37.864767</td>\n",
       "      <td>-122.302741</td>\n",
       "      <td>2020</td>\n",
       "      <td>2020-01-02</td>\n",
       "    </tr>\n",
       "    <tr>\n",
       "      <th>2</th>\n",
       "      <td>California</td>\n",
       "      <td>Alameda</td>\n",
       "      <td>1</td>\n",
       "      <td>3</td>\n",
       "      <td>74</td>\n",
       "      <td>Moderate</td>\n",
       "      <td>06-001-0013</td>\n",
       "      <td>37.864767</td>\n",
       "      <td>-122.302741</td>\n",
       "      <td>2020</td>\n",
       "      <td>2020-01-03</td>\n",
       "    </tr>\n",
       "    <tr>\n",
       "      <th>3</th>\n",
       "      <td>California</td>\n",
       "      <td>Alameda</td>\n",
       "      <td>1</td>\n",
       "      <td>4</td>\n",
       "      <td>45</td>\n",
       "      <td>Good</td>\n",
       "      <td>06-001-0007</td>\n",
       "      <td>37.687526</td>\n",
       "      <td>-121.784217</td>\n",
       "      <td>2020</td>\n",
       "      <td>2020-01-04</td>\n",
       "    </tr>\n",
       "    <tr>\n",
       "      <th>4</th>\n",
       "      <td>California</td>\n",
       "      <td>Alameda</td>\n",
       "      <td>1</td>\n",
       "      <td>5</td>\n",
       "      <td>33</td>\n",
       "      <td>Good</td>\n",
       "      <td>06-001-0007</td>\n",
       "      <td>37.687526</td>\n",
       "      <td>-121.784217</td>\n",
       "      <td>2020</td>\n",
       "      <td>2020-01-05</td>\n",
       "    </tr>\n",
       "    <tr>\n",
       "      <th>...</th>\n",
       "      <td>...</td>\n",
       "      <td>...</td>\n",
       "      <td>...</td>\n",
       "      <td>...</td>\n",
       "      <td>...</td>\n",
       "      <td>...</td>\n",
       "      <td>...</td>\n",
       "      <td>...</td>\n",
       "      <td>...</td>\n",
       "      <td>...</td>\n",
       "      <td>...</td>\n",
       "    </tr>\n",
       "    <tr>\n",
       "      <th>19220</th>\n",
       "      <td>California</td>\n",
       "      <td>Yolo</td>\n",
       "      <td>12</td>\n",
       "      <td>27</td>\n",
       "      <td>20</td>\n",
       "      <td>Good</td>\n",
       "      <td>06-113-0004</td>\n",
       "      <td>38.534450</td>\n",
       "      <td>-121.773400</td>\n",
       "      <td>2020</td>\n",
       "      <td>2020-12-27</td>\n",
       "    </tr>\n",
       "    <tr>\n",
       "      <th>19221</th>\n",
       "      <td>California</td>\n",
       "      <td>Yolo</td>\n",
       "      <td>12</td>\n",
       "      <td>28</td>\n",
       "      <td>33</td>\n",
       "      <td>Good</td>\n",
       "      <td>06-113-0004</td>\n",
       "      <td>38.534450</td>\n",
       "      <td>-121.773400</td>\n",
       "      <td>2020</td>\n",
       "      <td>2020-12-28</td>\n",
       "    </tr>\n",
       "    <tr>\n",
       "      <th>19222</th>\n",
       "      <td>California</td>\n",
       "      <td>Yolo</td>\n",
       "      <td>12</td>\n",
       "      <td>29</td>\n",
       "      <td>28</td>\n",
       "      <td>Good</td>\n",
       "      <td>06-113-0004</td>\n",
       "      <td>38.534450</td>\n",
       "      <td>-121.773400</td>\n",
       "      <td>2020</td>\n",
       "      <td>2020-12-29</td>\n",
       "    </tr>\n",
       "    <tr>\n",
       "      <th>19223</th>\n",
       "      <td>California</td>\n",
       "      <td>Yolo</td>\n",
       "      <td>12</td>\n",
       "      <td>30</td>\n",
       "      <td>39</td>\n",
       "      <td>Good</td>\n",
       "      <td>06-113-0004</td>\n",
       "      <td>38.534450</td>\n",
       "      <td>-121.773400</td>\n",
       "      <td>2020</td>\n",
       "      <td>2020-12-30</td>\n",
       "    </tr>\n",
       "    <tr>\n",
       "      <th>19224</th>\n",
       "      <td>California</td>\n",
       "      <td>Yolo</td>\n",
       "      <td>12</td>\n",
       "      <td>31</td>\n",
       "      <td>35</td>\n",
       "      <td>Good</td>\n",
       "      <td>06-113-0004</td>\n",
       "      <td>38.534450</td>\n",
       "      <td>-121.773400</td>\n",
       "      <td>2020</td>\n",
       "      <td>2020-12-31</td>\n",
       "    </tr>\n",
       "  </tbody>\n",
       "</table>\n",
       "<p>19225 rows × 11 columns</p>\n",
       "</div>"
      ],
      "text/plain": [
       "       State Name County Name  Month  Day  AQI  Category Defining Site  \\\n",
       "0      California     Alameda      1    1   53  Moderate   06-001-0009   \n",
       "1      California     Alameda      1    2   43      Good   06-001-0013   \n",
       "2      California     Alameda      1    3   74  Moderate   06-001-0013   \n",
       "3      California     Alameda      1    4   45      Good   06-001-0007   \n",
       "4      California     Alameda      1    5   33      Good   06-001-0007   \n",
       "...           ...         ...    ...  ...  ...       ...           ...   \n",
       "19220  California        Yolo     12   27   20      Good   06-113-0004   \n",
       "19221  California        Yolo     12   28   33      Good   06-113-0004   \n",
       "19222  California        Yolo     12   29   28      Good   06-113-0004   \n",
       "19223  California        Yolo     12   30   39      Good   06-113-0004   \n",
       "19224  California        Yolo     12   31   35      Good   06-113-0004   \n",
       "\n",
       "        Latitude   Longitude  year  Date Local  \n",
       "0      37.743065 -122.169935  2020  2020-01-01  \n",
       "1      37.864767 -122.302741  2020  2020-01-02  \n",
       "2      37.864767 -122.302741  2020  2020-01-03  \n",
       "3      37.687526 -121.784217  2020  2020-01-04  \n",
       "4      37.687526 -121.784217  2020  2020-01-05  \n",
       "...          ...         ...   ...         ...  \n",
       "19220  38.534450 -121.773400  2020  2020-12-27  \n",
       "19221  38.534450 -121.773400  2020  2020-12-28  \n",
       "19222  38.534450 -121.773400  2020  2020-12-29  \n",
       "19223  38.534450 -121.773400  2020  2020-12-30  \n",
       "19224  38.534450 -121.773400  2020  2020-12-31  \n",
       "\n",
       "[19225 rows x 11 columns]"
      ]
     },
     "execution_count": 391,
     "metadata": {},
     "output_type": "execute_result"
    }
   ],
   "source": [
    "epa_data_CA_merged"
   ]
  },
  {
   "cell_type": "code",
   "execution_count": 309,
   "id": "7ef58eae",
   "metadata": {},
   "outputs": [
    {
     "data": {
      "text/html": [
       "<div>\n",
       "<style scoped>\n",
       "    .dataframe tbody tr th:only-of-type {\n",
       "        vertical-align: middle;\n",
       "    }\n",
       "\n",
       "    .dataframe tbody tr th {\n",
       "        vertical-align: top;\n",
       "    }\n",
       "\n",
       "    .dataframe thead th {\n",
       "        text-align: right;\n",
       "    }\n",
       "</style>\n",
       "<table border=\"1\" class=\"dataframe\">\n",
       "  <thead>\n",
       "    <tr style=\"text-align: right;\">\n",
       "      <th></th>\n",
       "      <th>State Name</th>\n",
       "      <th>county Name</th>\n",
       "      <th>Month</th>\n",
       "      <th>Day</th>\n",
       "      <th>AQI</th>\n",
       "      <th>Category</th>\n",
       "      <th>Defining Site</th>\n",
       "      <th>Latitude</th>\n",
       "      <th>Longitude</th>\n",
       "      <th>Date</th>\n",
       "    </tr>\n",
       "  </thead>\n",
       "  <tbody>\n",
       "    <tr>\n",
       "      <th>0</th>\n",
       "      <td>California</td>\n",
       "      <td>Alameda</td>\n",
       "      <td>1</td>\n",
       "      <td>1</td>\n",
       "      <td>53</td>\n",
       "      <td>Moderate</td>\n",
       "      <td>06-001-0009</td>\n",
       "      <td>37.743065</td>\n",
       "      <td>-122.169935</td>\n",
       "      <td>2020-01-01</td>\n",
       "    </tr>\n",
       "    <tr>\n",
       "      <th>1</th>\n",
       "      <td>California</td>\n",
       "      <td>Alameda</td>\n",
       "      <td>1</td>\n",
       "      <td>2</td>\n",
       "      <td>43</td>\n",
       "      <td>Good</td>\n",
       "      <td>06-001-0013</td>\n",
       "      <td>37.864767</td>\n",
       "      <td>-122.302741</td>\n",
       "      <td>2020-01-04</td>\n",
       "    </tr>\n",
       "    <tr>\n",
       "      <th>2</th>\n",
       "      <td>California</td>\n",
       "      <td>Alameda</td>\n",
       "      <td>1</td>\n",
       "      <td>3</td>\n",
       "      <td>74</td>\n",
       "      <td>Moderate</td>\n",
       "      <td>06-001-0013</td>\n",
       "      <td>37.864767</td>\n",
       "      <td>-122.302741</td>\n",
       "      <td>2020-01-07</td>\n",
       "    </tr>\n",
       "    <tr>\n",
       "      <th>3</th>\n",
       "      <td>California</td>\n",
       "      <td>Alameda</td>\n",
       "      <td>1</td>\n",
       "      <td>4</td>\n",
       "      <td>45</td>\n",
       "      <td>Good</td>\n",
       "      <td>06-001-0007</td>\n",
       "      <td>37.687526</td>\n",
       "      <td>-121.784217</td>\n",
       "      <td>2020-01-10</td>\n",
       "    </tr>\n",
       "    <tr>\n",
       "      <th>4</th>\n",
       "      <td>California</td>\n",
       "      <td>Alameda</td>\n",
       "      <td>1</td>\n",
       "      <td>5</td>\n",
       "      <td>33</td>\n",
       "      <td>Good</td>\n",
       "      <td>06-001-0007</td>\n",
       "      <td>37.687526</td>\n",
       "      <td>-121.784217</td>\n",
       "      <td>2020-01-13</td>\n",
       "    </tr>\n",
       "    <tr>\n",
       "      <th>...</th>\n",
       "      <td>...</td>\n",
       "      <td>...</td>\n",
       "      <td>...</td>\n",
       "      <td>...</td>\n",
       "      <td>...</td>\n",
       "      <td>...</td>\n",
       "      <td>...</td>\n",
       "      <td>...</td>\n",
       "      <td>...</td>\n",
       "      <td>...</td>\n",
       "    </tr>\n",
       "    <tr>\n",
       "      <th>19220</th>\n",
       "      <td>California</td>\n",
       "      <td>Yolo</td>\n",
       "      <td>12</td>\n",
       "      <td>27</td>\n",
       "      <td>20</td>\n",
       "      <td>Good</td>\n",
       "      <td>06-113-0004</td>\n",
       "      <td>38.534450</td>\n",
       "      <td>-121.773400</td>\n",
       "      <td>2020-07-15</td>\n",
       "    </tr>\n",
       "    <tr>\n",
       "      <th>19221</th>\n",
       "      <td>California</td>\n",
       "      <td>Yolo</td>\n",
       "      <td>12</td>\n",
       "      <td>28</td>\n",
       "      <td>33</td>\n",
       "      <td>Good</td>\n",
       "      <td>06-113-0004</td>\n",
       "      <td>38.534450</td>\n",
       "      <td>-121.773400</td>\n",
       "      <td>2020-07-16</td>\n",
       "    </tr>\n",
       "    <tr>\n",
       "      <th>19222</th>\n",
       "      <td>California</td>\n",
       "      <td>Yolo</td>\n",
       "      <td>12</td>\n",
       "      <td>29</td>\n",
       "      <td>28</td>\n",
       "      <td>Good</td>\n",
       "      <td>06-113-0004</td>\n",
       "      <td>38.534450</td>\n",
       "      <td>-121.773400</td>\n",
       "      <td>2020-07-17</td>\n",
       "    </tr>\n",
       "    <tr>\n",
       "      <th>19223</th>\n",
       "      <td>California</td>\n",
       "      <td>Yolo</td>\n",
       "      <td>12</td>\n",
       "      <td>30</td>\n",
       "      <td>39</td>\n",
       "      <td>Good</td>\n",
       "      <td>06-113-0004</td>\n",
       "      <td>38.534450</td>\n",
       "      <td>-121.773400</td>\n",
       "      <td>2020-07-18</td>\n",
       "    </tr>\n",
       "    <tr>\n",
       "      <th>19224</th>\n",
       "      <td>California</td>\n",
       "      <td>Yolo</td>\n",
       "      <td>12</td>\n",
       "      <td>31</td>\n",
       "      <td>35</td>\n",
       "      <td>Good</td>\n",
       "      <td>06-113-0004</td>\n",
       "      <td>38.534450</td>\n",
       "      <td>-121.773400</td>\n",
       "      <td>2020-07-19</td>\n",
       "    </tr>\n",
       "  </tbody>\n",
       "</table>\n",
       "<p>19225 rows × 10 columns</p>\n",
       "</div>"
      ],
      "text/plain": [
       "       State Name county Name  Month  Day  AQI  Category Defining Site  \\\n",
       "0      California     Alameda      1    1   53  Moderate   06-001-0009   \n",
       "1      California     Alameda      1    2   43      Good   06-001-0013   \n",
       "2      California     Alameda      1    3   74  Moderate   06-001-0013   \n",
       "3      California     Alameda      1    4   45      Good   06-001-0007   \n",
       "4      California     Alameda      1    5   33      Good   06-001-0007   \n",
       "...           ...         ...    ...  ...  ...       ...           ...   \n",
       "19220  California        Yolo     12   27   20      Good   06-113-0004   \n",
       "19221  California        Yolo     12   28   33      Good   06-113-0004   \n",
       "19222  California        Yolo     12   29   28      Good   06-113-0004   \n",
       "19223  California        Yolo     12   30   39      Good   06-113-0004   \n",
       "19224  California        Yolo     12   31   35      Good   06-113-0004   \n",
       "\n",
       "        Latitude   Longitude        Date  \n",
       "0      37.743065 -122.169935  2020-01-01  \n",
       "1      37.864767 -122.302741  2020-01-04  \n",
       "2      37.864767 -122.302741  2020-01-07  \n",
       "3      37.687526 -121.784217  2020-01-10  \n",
       "4      37.687526 -121.784217  2020-01-13  \n",
       "...          ...         ...         ...  \n",
       "19220  38.534450 -121.773400  2020-07-15  \n",
       "19221  38.534450 -121.773400  2020-07-16  \n",
       "19222  38.534450 -121.773400  2020-07-17  \n",
       "19223  38.534450 -121.773400  2020-07-18  \n",
       "19224  38.534450 -121.773400  2020-07-19  \n",
       "\n",
       "[19225 rows x 10 columns]"
      ]
     },
     "execution_count": 309,
     "metadata": {},
     "output_type": "execute_result"
    }
   ],
   "source": [
    "epa_data_CA_merged"
   ]
  },
  {
   "cell_type": "code",
   "execution_count": 392,
   "id": "dec3719a",
   "metadata": {},
   "outputs": [],
   "source": [
    "epa_data_CA_merged = epa_data_CA_merged.set_index(['County Name', 'Date Local'], inplace=False)"
   ]
  },
  {
   "cell_type": "code",
   "execution_count": 395,
   "id": "20959530",
   "metadata": {},
   "outputs": [],
   "source": [
    "preds = ['daily_so2', 'daily_no2', 'daily_co', 'daily_ozone', \"daily_temp\", \"daily_wind\"]\n",
    "cols = ['County Name', 'Date Local', 'AQI', 'Arithmetic Mean', '1st Max Value']"
   ]
  },
  {
   "cell_type": "code",
   "execution_count": 406,
   "id": "bd59ed19",
   "metadata": {},
   "outputs": [],
   "source": [
    "def merge_data(preds, cols):\n",
    "    #df = epa_data[preds[-1]].loc[epa_data[preds[-1]]['State Name'] == 'California']\n",
    "    df = epa_data[preds[0]].loc[epa_data[preds[0]]['State Name'] == 'California'][cols].groupby(['County Name','Date Local']).agg(np.mean)[['AQI']]\n",
    "    for pred in preds:\n",
    "        df_ca = epa_data[pred].loc[epa_data[pred]['State Name'] == 'California'][cols].groupby(['County Name','Date Local']).agg(np.mean)\n",
    "        df = df.join(df_ca, how='inner', rsuffix = pred[5:])\n",
    "    df = df.drop(columns='AQI')\n",
    "    return df"
   ]
  },
  {
   "cell_type": "code",
   "execution_count": 407,
   "id": "d9587179",
   "metadata": {},
   "outputs": [],
   "source": [
    "ca_whole = epa_data_CA_merged[['AQI','Category','Latitude','Longitude']].join(merge_data(preds, cols), how='inner')"
   ]
  },
  {
   "cell_type": "code",
   "execution_count": 408,
   "id": "b3a088d4",
   "metadata": {},
   "outputs": [
    {
     "data": {
      "text/plain": [
       "Index(['AQI', 'Category', 'Latitude', 'Longitude', 'AQI_so2',\n",
       "       'Arithmetic Mean', '1st Max Value', 'AQI_no2', 'Arithmetic Mean_no2',\n",
       "       '1st Max Value_no2', 'AQI_co', 'Arithmetic Mean_co', '1st Max Value_co',\n",
       "       'AQI_ozone', 'Arithmetic Mean_ozone', '1st Max Value_ozone', 'AQI_temp',\n",
       "       'Arithmetic Mean_temp', '1st Max Value_temp', 'AQI_wind',\n",
       "       'Arithmetic Mean_wind', '1st Max Value_wind'],\n",
       "      dtype='object')"
      ]
     },
     "execution_count": 408,
     "metadata": {},
     "output_type": "execute_result"
    }
   ],
   "source": [
    "ca_whole.columns"
   ]
  },
  {
   "cell_type": "code",
   "execution_count": 409,
   "id": "0293f1b0",
   "metadata": {},
   "outputs": [],
   "source": [
    "ca_whole = ca_whole.rename(columns={'Arithmetic Mean': 'Arithmetic Mean_so2', '1st Max Value': '1st Max Value_so2'})"
   ]
  },
  {
   "cell_type": "code",
   "execution_count": 412,
   "id": "6b3328e3",
   "metadata": {},
   "outputs": [],
   "source": [
    "ca_whole = ca_whole.drop(columns=['AQI_wind', 'AQI_temp'])"
   ]
  },
  {
   "cell_type": "code",
   "execution_count": 414,
   "id": "f53d4f59",
   "metadata": {},
   "outputs": [],
   "source": [
    "ca_whole.to_csv('ca_whole.csv')"
   ]
  },
  {
   "cell_type": "code",
   "execution_count": null,
   "id": "489ac50e",
   "metadata": {},
   "outputs": [],
   "source": []
  }
 ],
 "metadata": {
  "kernelspec": {
   "display_name": "Python 3 (ipykernel)",
   "language": "python",
   "name": "python3"
  },
  "language_info": {
   "codemirror_mode": {
    "name": "ipython",
    "version": 3
   },
   "file_extension": ".py",
   "mimetype": "text/x-python",
   "name": "python",
   "nbconvert_exporter": "python",
   "pygments_lexer": "ipython3",
   "version": "3.9.12"
  }
 },
 "nbformat": 4,
 "nbformat_minor": 5
}
